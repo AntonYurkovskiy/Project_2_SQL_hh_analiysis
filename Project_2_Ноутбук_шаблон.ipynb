{
  "cells": [
    {
      "cell_type": "markdown",
      "id": "42289889-bd57-434e-9637-d3e354756316",
      "metadata": {
        "id": "42289889-bd57-434e-9637-d3e354756316"
      },
      "source": [
        "<center> <img src = https://raw.githubusercontent.com/AndreyRysistov/DatasetsForPandas/main/hh%20label.jpg alt=\"drawing\" style=\"width:400px;\">"
      ]
    },
    {
      "cell_type": "markdown",
      "id": "829cb75b-f14e-4ba8-9195-7ba929a7d656",
      "metadata": {
        "id": "829cb75b-f14e-4ba8-9195-7ba929a7d656",
        "tags": []
      },
      "source": [
        "# <center> Проект: Анализ вакансий из HeadHunter\n",
        "   "
      ]
    },
    {
      "cell_type": "code",
      "execution_count": 60,
      "id": "dccfde33-2452-43fb-a8a5-5c6ebc02a71d",
      "metadata": {
        "id": "dccfde33-2452-43fb-a8a5-5c6ebc02a71d"
      },
      "outputs": [],
      "source": [
        "# импортируем библиотеки\n",
        "import pandas as pd\n",
        "import psycopg2\n",
        "import warnings\n",
        "warnings.filterwarnings(\"ignore\")\n",
        "\n",
        "import plotly\n",
        "import plotly.graph_objs as go\n",
        "import plotly.express as px\n",
        "from plotly.subplots import make_subplots\n",
        "\n",
        "# импортируем библиотеку от одного продвинутого студента\n",
        "import urllib.parse as req"
      ]
    },
    {
      "cell_type": "code",
      "execution_count": 61,
      "id": "oVKH4ehvf8Ay",
      "metadata": {
        "id": "oVKH4ehvf8Ay"
      },
      "outputs": [],
      "source": [
        "# вставьте сюда параметры подключения из юнита 1. Работа с базой данных из Python \n",
        "DBNAME = 'project_sql'\n",
        "USER = 'skillfactory'\n",
        "PASSWORD = 'cCkxxLVrDE8EbvjueeMedPKt'\n",
        "HOST = '84.201.134.129'\n",
        "PORT = 5432"
      ]
    },
    {
      "cell_type": "code",
      "execution_count": 62,
      "id": "G4X_q8KBf7SF",
      "metadata": {
        "id": "G4X_q8KBf7SF"
      },
      "outputs": [],
      "source": [
        "connection = psycopg2.connect(\n",
        "    dbname=DBNAME,\n",
        "    user=USER,\n",
        "    host=HOST,\n",
        "    password=PASSWORD,\n",
        "    port=PORT\n",
        ")"
      ]
    },
    {
      "cell_type": "markdown",
      "id": "e5c2fa19",
      "metadata": {},
      "source": [
        "# Юнит 0. Подготовка к дополнительным исследованиям"
      ]
    },
    {
      "cell_type": "markdown",
      "id": "20c83014",
      "metadata": {},
      "source": [
        "Для дополнительных исследований целесообразно подготовить информацию о городах России и их населению. Воспользуемся Википедией.\n",
        "\n",
        "По состоянию **на 9 марта 2024 года** в России насчитывается 1122 города.\n",
        "\n",
        "Согласно своду правил «Градостроительство. Планировка и застройка городских и сельских поселений» (СП 42.13330.2016) от Минстроя РФ, города страны классифицированы следующим образом:\n",
        "\n",
        "* *Крупнейшие* —  с населением свыше 1 миллиона человек\n",
        "* *Крупные* —  от 250 тысяч человек до 1 миллиона человек (в том числе подкатегории от 250 до 500 тысяч и от 500 тысяч до 1 миллиона человек)\n",
        "* *Большие* —  от 100 до 250 тысяч человек\n",
        "* *Средние* —  от 50 до 100 тысяч человек\n",
        "* *Малые* —  до 50 тысяч человек \n",
        "\n",
        "1. Названия городов соответствующих категроий схраним в виде кортежей\n",
        "2. Сохраняем данные в отдельные DataFrame(Со столбцами:\"Название город\", \"Население\")"
      ]
    },
    {
      "cell_type": "code",
      "execution_count": 26,
      "id": "28e0eb13",
      "metadata": {},
      "outputs": [],
      "source": [
        "# функция для предобработки данных:\n",
        "def get_df_from_viki(list_of_tables, table_index):\n",
        "    \"\"\"Функция для обработки таблиц скачанных со страниц Википедии. Необходима конкретно для выгрузки данных о названии города и его населении. Приводит к числовому типу данных сведения о населении.\n",
        "\n",
        "    Args:\n",
        "        list_of_tables (list whith pandas.DataFrames as  items ): если таблиц больше одной на странице то нужно указать ее индекс\n",
        "        table_index (int): index of table\n",
        "\n",
        "    Returns:\n",
        "        _type_: pandas.DataFrame\n",
        "    \"\"\"\n",
        "    # формируем сырой DataFrame\n",
        "    df = list_of_tables[table_index].iloc[:,[1,3]] \n",
        "    # укорачиваем название столбца 'Население...'\n",
        "    # чтобы не заморачиваться со старым и новым именем столбца просто\n",
        "    # присвоим новые назщвания столбцам\n",
        "    df.columns = ['Город', 'Население']\n",
        "    # удаляем пробелы\n",
        "    df['Население'] = df['Население'].apply(lambda x: x.replace(' ','')) \n",
        "    # приводим к числовому типу данных\n",
        "    df['Население'] = df['Население'].astype('int64')\n",
        "    return df"
      ]
    },
    {
      "cell_type": "code",
      "execution_count": 28,
      "id": "8ca4fc6f",
      "metadata": {},
      "outputs": [],
      "source": [
        "# код для получения списка городов-милионников для задания №\n",
        "\n",
        "# вставляем оригинальную ссылку из Википедии\n",
        "path_common = req.urlparse('https://ru.wikipedia.org/wiki/Города-миллионеры_России')\n",
        "# приводим в читабельный вид\n",
        "url = path_common.scheme + '://' + req.quote(path_common.netloc) +  req.quote(path_common.path) + '#'+ req.quote(path_common.fragment)\n",
        "# получаем списао таблиц на страницу\n",
        "tables_m = pd.read_html(url)\n",
        "# сохраняем в кортеж с названиями стран в переменную \n",
        "million_cities = tuple(tables_m[1]['Город'])\n",
        "#million_cities_df = get_df_from_viki(tables_m,7)"
      ]
    },
    {
      "cell_type": "code",
      "execution_count": 29,
      "id": "24787bcd",
      "metadata": {},
      "outputs": [],
      "source": [
        "\n",
        "# вставляем оригинальную ссылку из Википедии на стараницу с данными о городах России\n",
        "path_common = req.urlparse('https://ru.wikipedia.org/wiki/Города_России')\n",
        "# приводим в читабельный вид\n",
        "url = path_common.scheme + '://' + req.quote(path_common.netloc) +  req.quote(path_common.path) + '#'+ req.quote(path_common.fragment)\n",
        "# получаем списао таблиц на страницу\n",
        "tables = pd.read_html(url)\n",
        "\n",
        "# сохраняем в кортеж с названиями стран в переменную \n",
        "# крупные города 500 тысяч до 1 миллиона человек\n",
        "large_cities_500_1000 = tuple(tables[7]['Город'])\n",
        "large_cities_500_1000_df = get_df_from_viki(tables,7)\n",
        "\n",
        "# крупные города от 250 до 500 тысяч человек\n",
        "large_cities_250_500 = tuple(tables[8]['Город'])\n",
        "large_cities_250_500_df = get_df_from_viki(tables,8)\n",
        "\n",
        "# большие города от 100 до 250 тысяч человек \n",
        "big_cities = tuple(tables[9]['Город'])\n",
        "big_cities_df = get_df_from_viki(tables,9)\n",
        "\n",
        "# средние города от 50 до 100 тысяч человек\n",
        "middle_cities = tuple(tables[10]['Город'])\n",
        "middle_cities_df = get_df_from_viki(tables,10)\n",
        "\n",
        "# средние города от 50 до 100 тысяч человек\n",
        "small_cities = tuple(tables[11]['Город'])\n",
        "small_cities_df = get_df_from_viki(tables,11)\n"
      ]
    },
    {
      "cell_type": "markdown",
      "id": "0dc6476b-7a00-44f1-ac93-6e3baed33a29",
      "metadata": {
        "id": "0dc6476b-7a00-44f1-ac93-6e3baed33a29"
      },
      "source": [
        "# Юнит 3. Предварительный анализ данных"
      ]
    },
    {
      "cell_type": "markdown",
      "id": "889782b6-8d1c-410e-8920-e57f27917c64",
      "metadata": {
        "id": "889782b6-8d1c-410e-8920-e57f27917c64"
      },
      "source": [
        "1. Напишите запрос, который посчитает количество вакансий в нашей базе (вакансии находятся в таблице vacancies). "
      ]
    },
    {
      "cell_type": "code",
      "execution_count": 6,
      "id": "bc39e68e-ed02-4ee2-9235-7258a2f867a8",
      "metadata": {
        "id": "bc39e68e-ed02-4ee2-9235-7258a2f867a8"
      },
      "outputs": [],
      "source": [
        "# текст запроса \n",
        "# считаем количество строк в таблице vacancies\n",
        "query_3_1 = f'''select\n",
        "                --посчитаем все сторки\n",
        "                count(*)\n",
        "                --в таблице с вакансиями\n",
        "                from vacancies \n",
        "            '''"
      ]
    },
    {
      "cell_type": "code",
      "execution_count": 7,
      "id": "7mAwtsk4hEHY",
      "metadata": {
        "id": "7mAwtsk4hEHY"
      },
      "outputs": [
        {
          "name": "stdout",
          "output_type": "stream",
          "text": [
            "Общее количество вакансий в базе: 49197\n"
          ]
        }
      ],
      "source": [
        "# результат запроса\n",
        "df_3_1 = pd.read_sql_query(query_3_1, connection)\n",
        "vacancies_total_amount = df_3_1.iloc[0,0]\n",
        "print(f'Общее количество вакансий в базе: {vacancies_total_amount}')"
      ]
    },
    {
      "cell_type": "markdown",
      "id": "b583485d-1f9e-494e-ada4-80ffff7c53d6",
      "metadata": {
        "id": "b583485d-1f9e-494e-ada4-80ffff7c53d6"
      },
      "source": [
        "2. Напишите запрос, который посчитает количество работодателей (таблица employers). "
      ]
    },
    {
      "cell_type": "code",
      "execution_count": 8,
      "id": "5408c52c-3407-4a63-b25b-1aafa2322d28",
      "metadata": {
        "id": "5408c52c-3407-4a63-b25b-1aafa2322d28"
      },
      "outputs": [],
      "source": [
        "# текст запроса\n",
        "# считаем количество строк в таблице employers\n",
        "query_3_2 = f'''select\n",
        "                --посчитаем все сторки\n",
        "                count(*)\n",
        "                --в таблице с работодателями\n",
        "                from employers\n",
        "            '''"
      ]
    },
    {
      "cell_type": "code",
      "execution_count": 9,
      "id": "jVL4eshKhdqc",
      "metadata": {
        "id": "jVL4eshKhdqc"
      },
      "outputs": [
        {
          "name": "stdout",
          "output_type": "stream",
          "text": [
            "Общее количество работодателей в базе: 23501\n"
          ]
        }
      ],
      "source": [
        "# результат запроса\n",
        "df_3_2 = pd.read_sql_query(query_3_2, connection)\n",
        "employers_total_amount = df_3_2.iloc[0,0]\n",
        "print(f'Общее количество работодателей в базе: {employers_total_amount}')"
      ]
    },
    {
      "cell_type": "markdown",
      "id": "a2bfff1f-c975-4bf6-84be-2185d79dcb76",
      "metadata": {
        "id": "a2bfff1f-c975-4bf6-84be-2185d79dcb76"
      },
      "source": [
        "3. Посчитате с помощью запроса количество регионов (таблица areas)."
      ]
    },
    {
      "cell_type": "code",
      "execution_count": 10,
      "id": "1m8QJwBYhey6",
      "metadata": {
        "id": "1m8QJwBYhey6"
      },
      "outputs": [],
      "source": [
        "# текст запроса\n",
        "# считаем количество строк в таблице areas\n",
        "query_3_3 = f'''select\n",
        "                --посчитаем все сторки\n",
        "                count(*)\n",
        "                --в таблице с регионами\n",
        "                from areas\n",
        "            '''"
      ]
    },
    {
      "cell_type": "code",
      "execution_count": 11,
      "id": "EZsn9tlfhe7f",
      "metadata": {
        "id": "EZsn9tlfhe7f"
      },
      "outputs": [
        {
          "name": "stdout",
          "output_type": "stream",
          "text": [
            "Общее количество регионов в базе: 1362\n"
          ]
        }
      ],
      "source": [
        "# результат запроса\n",
        "df_3_3 = pd.read_sql_query(query_3_3, connection)\n",
        "areas_total_amount = df_3_3.iloc[0,0]\n",
        "print(f'Общее количество регионов в базе: {areas_total_amount}')"
      ]
    },
    {
      "cell_type": "markdown",
      "id": "41bb59f3-53cc-4a67-a5bc-bedf573955e4",
      "metadata": {
        "id": "41bb59f3-53cc-4a67-a5bc-bedf573955e4"
      },
      "source": [
        "4. Посчитате с помощью запроса количество сфер деятельности в базе (таблица industries)."
      ]
    },
    {
      "cell_type": "code",
      "execution_count": 12,
      "id": "d286cf4c-707b-4cd2-9190-7ab3587d04a1",
      "metadata": {
        "id": "d286cf4c-707b-4cd2-9190-7ab3587d04a1"
      },
      "outputs": [],
      "source": [
        "# текст запроса\n",
        "# считаем количество строк в таблице industries\n",
        "query_3_4 = f'''select\n",
        "                --посчитаем все сторки\n",
        "                count(*)\n",
        "                --в таблице с видами деяетельности\n",
        "                from industries\n",
        "            '''"
      ]
    },
    {
      "cell_type": "code",
      "execution_count": 13,
      "id": "JYAaoZ4qhfzW",
      "metadata": {
        "id": "JYAaoZ4qhfzW"
      },
      "outputs": [
        {
          "name": "stdout",
          "output_type": "stream",
          "text": [
            "Общее количество сфер деятельности в базе: 294\n"
          ]
        }
      ],
      "source": [
        "# результат запроса\n",
        "df = pd.read_sql_query(query_3_4, connection)\n",
        "industries_total_amount = df.iloc[0,0]\n",
        "print(f'Общее количество сфер деятельности в базе: {industries_total_amount}')"
      ]
    },
    {
      "cell_type": "markdown",
      "id": "a029582e",
      "metadata": {},
      "source": [
        "Дополнительное исследование про вакансии для моряков"
      ]
    },
    {
      "cell_type": "code",
      "execution_count": 14,
      "id": "34ba76c6",
      "metadata": {},
      "outputs": [],
      "source": [
        "query_3_4_1 = f'''select *\n",
        "                    \n",
        "                from industries\n",
        "                where name ilike '%морские%'\n",
        "            '''\n",
        "df_3_4_1 = pd.read_sql_query(query_3_4_1, connection)            "
      ]
    },
    {
      "cell_type": "code",
      "execution_count": 15,
      "id": "427a7921",
      "metadata": {},
      "outputs": [
        {
          "data": {
            "text/html": [
              "<div>\n",
              "<style scoped>\n",
              "    .dataframe tbody tr th:only-of-type {\n",
              "        vertical-align: middle;\n",
              "    }\n",
              "\n",
              "    .dataframe tbody tr th {\n",
              "        vertical-align: top;\n",
              "    }\n",
              "\n",
              "    .dataframe thead th {\n",
              "        text-align: right;\n",
              "    }\n",
              "</style>\n",
              "<table border=\"1\" class=\"dataframe\">\n",
              "  <thead>\n",
              "    <tr style=\"text-align: right;\">\n",
              "      <th></th>\n",
              "      <th>id</th>\n",
              "      <th>name</th>\n",
              "    </tr>\n",
              "  </thead>\n",
              "  <tbody>\n",
              "    <tr>\n",
              "      <th>0</th>\n",
              "      <td>5.464</td>\n",
              "      <td>Морские, речные перевозки</td>\n",
              "    </tr>\n",
              "  </tbody>\n",
              "</table>\n",
              "</div>"
            ],
            "text/plain": [
              "      id                       name\n",
              "0  5.464  Морские, речные перевозки"
            ]
          },
          "metadata": {},
          "output_type": "display_data"
        }
      ],
      "source": [
        "display(df_3_4_1)"
      ]
    },
    {
      "cell_type": "markdown",
      "id": "08bb5395",
      "metadata": {},
      "source": [
        "***"
      ]
    },
    {
      "cell_type": "code",
      "execution_count": 16,
      "id": "be4e9bd3-a4db-4a20-82fb-6b02fc2957e0",
      "metadata": {
        "id": "be4e9bd3-a4db-4a20-82fb-6b02fc2957e0"
      },
      "outputs": [
        {
          "name": "stdout",
          "output_type": "stream",
          "text": [
            "Общее количество вакансий в базе: 49197\n",
            "Общее количество работодателей в базе: 23501\n",
            "Общее количество регионов в базе: 1362\n",
            "Общее количество сфер деятельности в базе: 294\n",
            "\n",
            "Грубые средние оценки\n",
            "Количество вакансий на одного работодателя: 2\n",
            "Количество вакансий на один регион: 36\n",
            "Количество вакансий на одну сферу деятельности: 167\n",
            "Количество работодателей на один регион: 17\n"
          ]
        }
      ],
      "source": [
        "# выводы по предварительному анализу данных\n",
        "print(f'Общее количество вакансий в базе: {vacancies_total_amount}')\n",
        "print(f'Общее количество работодателей в базе: {employers_total_amount}')\n",
        "print(f'Общее количество регионов в базе: {areas_total_amount}')\n",
        "print(f'Общее количество сфер деятельности в базе: {industries_total_amount}')\n",
        "print()\n",
        "print(f'Грубые средние оценки')\n",
        "print(f'Количество вакансий на одного работодателя: {round(vacancies_total_amount/employers_total_amount)}')\n",
        "print(f'Количество вакансий на один регион: {round(vacancies_total_amount/areas_total_amount)}')\n",
        "print(f'Количество вакансий на одну сферу деятельности: {round(vacancies_total_amount/industries_total_amount)}')\n",
        "print(f'Количество работодателей на один регион: {round(employers_total_amount/areas_total_amount)}')"
      ]
    },
    {
      "cell_type": "markdown",
      "id": "182cdbd1",
      "metadata": {},
      "source": [
        "**Общие выводы** по количественным данным и полученным соотношениям:<br>\n",
        "*Количество вакансий больше чем работодателей в 2 раз, или 2 вакансии на одного работодателя,* это грубый вывод, требующей уточнения в дальнейшем, конечно это не означает что у каждого работодателя по 2 вакансии.<br>\n",
        "\n",
        "Это означает что данные логичны и *потенциально* означает что у каждого работодателя есть хотя бы по одной вакансии, а может и нет, и значит необходимо *уточнить список работодателей у которых нет вакансий и в каких эти работодатели регионах и сферах деятельности.*<br>\n",
        "\n",
        "Если таковые имеются то необходимо *учесть их долю* в общем количестве и в разрезе регионов.<br>\n",
        "\n",
        "Судя по этим цифрам в каждом регионе по 17 работотелей, но в реальности это конечно же не так распределение работодателей по регионам *будет свидетельствовать о показателе деловой активности*, особенно если учесть уровни предлагаемых зарплат и количесвто сотрудников компании.<br>\n",
        "\n",
        "Также интересно соотнести фактически показатель среднего числа вакансий на одного работодателя в общем к фактическому показателю среднего числа вакансий в каждом регионе. Число вакансий на одного работодателя может свидетельствовать: об уровне \"текучки\" кадров(хотя тут необходимо смотреть на соотношение к общему количеству сотрудников, и частоту закрытий/открытий одних и тех же вакансий на протяжении времени, т.е. добавляется временной разрез для каждой компании), развитии компании (т.е. создание новых подразделений)<br>\n",
        "\n",
        "Если принять что в каждой сфере деятельности по 167 вакансий, то можно сказать что все они в равной мере испытывают потребность в кадрах, но это не так каждая сфера испытывает разную потребность в кадрах, и фактические значения это подтвердят. <br>\n",
        "\n",
        "*Как отличить кадровый голод от \"текучки\"?* <br>\n",
        "\n",
        "* **\"Кадровый голод\"** - много Новых однотипных вакансий с высокой зарплатой состоящих их однотипных должностей разных работодателей.<br>\n",
        "* **\"Текучка\"**- постоянно закрывающиеся/открывающиеся вакансии на одну и ту же должность у одного работодателя с уровнем ЗП средний и ниже среднего по рынку.<br>"
      ]
    },
    {
      "cell_type": "code",
      "execution_count": 64,
      "id": "2c0ab0d8",
      "metadata": {},
      "outputs": [],
      "source": [
        "connection.close()"
      ]
    },
    {
      "cell_type": "markdown",
      "id": "8d62a9f3-f64e-4fe7-bdac-c4dffa16155e",
      "metadata": {
        "id": "8d62a9f3-f64e-4fe7-bdac-c4dffa16155e"
      },
      "source": [
        "# Юнит 4. Детальный анализ вакансий"
      ]
    },
    {
      "cell_type": "markdown",
      "id": "93053d3d-b284-481a-9cf7-012d7014c0e0",
      "metadata": {
        "id": "93053d3d-b284-481a-9cf7-012d7014c0e0"
      },
      "source": [
        "1. Напишите запрос, который позволит узнать, сколько (cnt) вакансий в каждом регионе (area).\n",
        "Отсортируйте по количеству вакансий в порядке убывания."
      ]
    },
    {
      "cell_type": "code",
      "execution_count": 16,
      "id": "3f069da6-fdc9-4ae7-b514-fafe2675efd3",
      "metadata": {
        "id": "3f069da6-fdc9-4ae7-b514-fafe2675efd3"
      },
      "outputs": [],
      "source": [
        "# текст запроса\n",
        "query_4_1 = f'''select\n",
        "                --столбец с названиями регионов из таблицы регионов\n",
        "                a.name as area,\n",
        "                --считаем общее количество вакансий по столбцу id из таблицы вакансий   \n",
        "                count(v.id) as total_vacancies\n",
        "                --присоединямем к таблице вакансиями \n",
        "                from vacancies as v\n",
        "                --таблицу с регионами по id региона (регион в котором размещена вакансия)\n",
        "                join areas as a on v.area_id = a.id\n",
        "                --группируем по названию региона\n",
        "                group by a.name\n",
        "                --сортировка по количеству вакансий в порядке убывания\n",
        "                order by count(v.id) desc\n",
        "            '''"
      ]
    },
    {
      "cell_type": "code",
      "execution_count": 18,
      "id": "P7QL86hrjhRJ",
      "metadata": {
        "id": "P7QL86hrjhRJ"
      },
      "outputs": [
        {
          "data": {
            "text/html": [
              "<div>\n",
              "<style scoped>\n",
              "    .dataframe tbody tr th:only-of-type {\n",
              "        vertical-align: middle;\n",
              "    }\n",
              "\n",
              "    .dataframe tbody tr th {\n",
              "        vertical-align: top;\n",
              "    }\n",
              "\n",
              "    .dataframe thead th {\n",
              "        text-align: right;\n",
              "    }\n",
              "</style>\n",
              "<table border=\"1\" class=\"dataframe\">\n",
              "  <thead>\n",
              "    <tr style=\"text-align: right;\">\n",
              "      <th></th>\n",
              "      <th>area</th>\n",
              "      <th>total_vacancies</th>\n",
              "    </tr>\n",
              "  </thead>\n",
              "  <tbody>\n",
              "    <tr>\n",
              "      <th>0</th>\n",
              "      <td>Москва</td>\n",
              "      <td>5333</td>\n",
              "    </tr>\n",
              "    <tr>\n",
              "      <th>1</th>\n",
              "      <td>Санкт-Петербург</td>\n",
              "      <td>2851</td>\n",
              "    </tr>\n",
              "    <tr>\n",
              "      <th>2</th>\n",
              "      <td>Минск</td>\n",
              "      <td>2112</td>\n",
              "    </tr>\n",
              "    <tr>\n",
              "      <th>3</th>\n",
              "      <td>Новосибирск</td>\n",
              "      <td>2006</td>\n",
              "    </tr>\n",
              "    <tr>\n",
              "      <th>4</th>\n",
              "      <td>Алматы</td>\n",
              "      <td>1892</td>\n",
              "    </tr>\n",
              "    <tr>\n",
              "      <th>...</th>\n",
              "      <td>...</td>\n",
              "      <td>...</td>\n",
              "    </tr>\n",
              "    <tr>\n",
              "      <th>764</th>\n",
              "      <td>Тарко-Сале</td>\n",
              "      <td>1</td>\n",
              "    </tr>\n",
              "    <tr>\n",
              "      <th>765</th>\n",
              "      <td>Новоаннинский</td>\n",
              "      <td>1</td>\n",
              "    </tr>\n",
              "    <tr>\n",
              "      <th>766</th>\n",
              "      <td>Бирск</td>\n",
              "      <td>1</td>\n",
              "    </tr>\n",
              "    <tr>\n",
              "      <th>767</th>\n",
              "      <td>Сасово</td>\n",
              "      <td>1</td>\n",
              "    </tr>\n",
              "    <tr>\n",
              "      <th>768</th>\n",
              "      <td>Анна</td>\n",
              "      <td>1</td>\n",
              "    </tr>\n",
              "  </tbody>\n",
              "</table>\n",
              "<p>769 rows × 2 columns</p>\n",
              "</div>"
            ],
            "text/plain": [
              "                area  total_vacancies\n",
              "0             Москва             5333\n",
              "1    Санкт-Петербург             2851\n",
              "2              Минск             2112\n",
              "3        Новосибирск             2006\n",
              "4             Алматы             1892\n",
              "..               ...              ...\n",
              "764       Тарко-Сале                1\n",
              "765    Новоаннинский                1\n",
              "766            Бирск                1\n",
              "767           Сасово                1\n",
              "768             Анна                1\n",
              "\n",
              "[769 rows x 2 columns]"
            ]
          },
          "metadata": {},
          "output_type": "display_data"
        }
      ],
      "source": [
        "# результат запроса\n",
        "df_4_1 = pd.read_sql_query(query_4_1, connection)\n",
        "display(df_4_1)"
      ]
    },
    {
      "cell_type": "markdown",
      "id": "4266f0b6-1646-492a-88b4-2f6a46502135",
      "metadata": {
        "id": "4266f0b6-1646-492a-88b4-2f6a46502135"
      },
      "source": [
        "2. Напишите запрос, чтобы определить у какого количества вакансий заполнено хотя бы одно из двух полей с зарплатой."
      ]
    },
    {
      "cell_type": "code",
      "execution_count": 19,
      "id": "0c44b350-72eb-4d65-8b54-a1fc449ba9fd",
      "metadata": {
        "id": "0c44b350-72eb-4d65-8b54-a1fc449ba9fd"
      },
      "outputs": [],
      "source": [
        "# текст запроса\n",
        "query_4_2 = f'''select\n",
        "                    --считаем все строки\n",
        "                    count(*)\n",
        "                --в таблице с вакансиями \n",
        "                from vacancies\n",
        "                --где заполнена либо нижняя \n",
        "                where salary_from is not null\n",
        "                    --либо верхняя граница зарплатной вилки\n",
        "                    or salary_to is not null\n",
        "            '''"
      ]
    },
    {
      "cell_type": "code",
      "execution_count": 20,
      "id": "rhvwaMDkoWTi",
      "metadata": {
        "id": "rhvwaMDkoWTi"
      },
      "outputs": [
        {
          "name": "stdout",
          "output_type": "stream",
          "text": [
            "Количество вакансий у которых заполнено хотя бы одно из двух полей с зарплатой: 24073\n"
          ]
        }
      ],
      "source": [
        "# результат запроса\n",
        "df = pd.read_sql_query(query_4_2, connection)\n",
        "not_null_salary_amount = df.iloc[0,0]\n",
        "print(f'Количество вакансий у которых заполнено хотя бы одно из двух полей с зарплатой: {not_null_salary_amount}')"
      ]
    },
    {
      "cell_type": "markdown",
      "id": "b87697ba",
      "metadata": {},
      "source": [
        "2. 1. Дополнительно выясним у какого количества вакансий не  заполнено ни одно из двух полей с зарплатой."
      ]
    },
    {
      "cell_type": "code",
      "execution_count": 21,
      "id": "dfcdb452",
      "metadata": {},
      "outputs": [
        {
          "name": "stdout",
          "output_type": "stream",
          "text": [
            "Количество вакансий у которых не заполнено ни одно из двух полей с зарплатой: 25124\n"
          ]
        }
      ],
      "source": [
        "query_4_2_2 = f'''select\n",
        "                    --считаем все строки\n",
        "                    count(*)\n",
        "                --в таблицу с вакансиями\n",
        "                from vacancies\n",
        "                --где и верхняя и нижняя граница зарплатной вилки не заполнена\n",
        "                where salary_from is null\n",
        "                    and salary_to is null\n",
        "            '''\n",
        "df_4_2_2  = pd.read_sql_query(query_4_2_2, connection)\n",
        "null_salary_amount = df_4_2_2.iloc[0,0]\n",
        "print(f'Количество вакансий у которых не заполнено ни одно из двух полей с зарплатой: {null_salary_amount}')"
      ]
    },
    {
      "cell_type": "markdown",
      "id": "635c4d5d-f323-4c66-b428-50a088120aa0",
      "metadata": {
        "id": "635c4d5d-f323-4c66-b428-50a088120aa0"
      },
      "source": [
        "3. Найдите средние значения для нижней и верхней границы зарплатной вилки. Округлите значения до целого."
      ]
    },
    {
      "cell_type": "code",
      "execution_count": 22,
      "id": "603cdbe4-0ec3-4106-8eaf-c73fcdd29165",
      "metadata": {
        "id": "603cdbe4-0ec3-4106-8eaf-c73fcdd29165"
      },
      "outputs": [],
      "source": [
        "# текст запроса\n",
        "query_4_3 = f'''select\n",
        "                    --находим среднее значение нижней границы зарплатной вилки\n",
        "                    avg(salary_from) as average_low_salary,\n",
        "                    --находим среднее значение верхней границы зарплатной вилки\n",
        "                    avg(salary_to) as average_high_salary\n",
        "                --в таблице с вакансиями\n",
        "                from vacancies\n",
        "            '''"
      ]
    },
    {
      "cell_type": "code",
      "execution_count": 23,
      "id": "pswpAb66ovZZ",
      "metadata": {
        "id": "pswpAb66ovZZ"
      },
      "outputs": [
        {
          "name": "stdout",
          "output_type": "stream",
          "text": [
            "Среднее значение нижней границы зарплатной вилки: 71065\n",
            "Среднее значение верхней границы зарплатной вилки: 110537\n"
          ]
        }
      ],
      "source": [
        "# результат запроса\n",
        "df = pd.read_sql_query(query_4_3, connection)\n",
        "average_low_salary = round(df.iloc[0,0])\n",
        "average_high_salary = round(df.iloc[0,1])\n",
        "print(f'Среднее значение нижней границы зарплатной вилки: {average_low_salary}')\n",
        "print(f'Среднее значение верхней границы зарплатной вилки: {average_high_salary}')"
      ]
    },
    {
      "cell_type": "markdown",
      "id": "c418c23a",
      "metadata": {},
      "source": [
        "3. 1. Дополнительно найдем средние значения для нижней и верхней границы \"зарплатной вилки\", а также диапазон \"зарплатной вилки\"  в разрезе опыта, отсортируем по нижней границе:"
      ]
    },
    {
      "cell_type": "code",
      "execution_count": 25,
      "id": "c640bd9c",
      "metadata": {},
      "outputs": [
        {
          "data": {
            "text/html": [
              "<div>\n",
              "<style scoped>\n",
              "    .dataframe tbody tr th:only-of-type {\n",
              "        vertical-align: middle;\n",
              "    }\n",
              "\n",
              "    .dataframe tbody tr th {\n",
              "        vertical-align: top;\n",
              "    }\n",
              "\n",
              "    .dataframe thead th {\n",
              "        text-align: right;\n",
              "    }\n",
              "</style>\n",
              "<table border=\"1\" class=\"dataframe\">\n",
              "  <thead>\n",
              "    <tr style=\"text-align: right;\">\n",
              "      <th></th>\n",
              "      <th>Опыт работы</th>\n",
              "      <th>Средний нижний уровень</th>\n",
              "      <th>Средний верхний уровень</th>\n",
              "      <th>Диапазон вилки</th>\n",
              "    </tr>\n",
              "  </thead>\n",
              "  <tbody>\n",
              "    <tr>\n",
              "      <th>0</th>\n",
              "      <td>Нет опыта</td>\n",
              "      <td>34699.0</td>\n",
              "      <td>56990.0</td>\n",
              "      <td>22292.0</td>\n",
              "    </tr>\n",
              "    <tr>\n",
              "      <th>1</th>\n",
              "      <td>От 1 года до 3 лет</td>\n",
              "      <td>64456.0</td>\n",
              "      <td>97436.0</td>\n",
              "      <td>32980.0</td>\n",
              "    </tr>\n",
              "    <tr>\n",
              "      <th>2</th>\n",
              "      <td>От 3 до 6 лет</td>\n",
              "      <td>112544.0</td>\n",
              "      <td>171974.0</td>\n",
              "      <td>59430.0</td>\n",
              "    </tr>\n",
              "    <tr>\n",
              "      <th>3</th>\n",
              "      <td>Более 6 лет</td>\n",
              "      <td>150156.0</td>\n",
              "      <td>197819.0</td>\n",
              "      <td>47664.0</td>\n",
              "    </tr>\n",
              "  </tbody>\n",
              "</table>\n",
              "</div>"
            ],
            "text/plain": [
              "          Опыт работы  Средний нижний уровень  Средний верхний уровень  \\\n",
              "0           Нет опыта                 34699.0                  56990.0   \n",
              "1  От 1 года до 3 лет                 64456.0                  97436.0   \n",
              "2       От 3 до 6 лет                112544.0                 171974.0   \n",
              "3         Более 6 лет                150156.0                 197819.0   \n",
              "\n",
              "   Диапазон вилки  \n",
              "0         22292.0  \n",
              "1         32980.0  \n",
              "2         59430.0  \n",
              "3         47664.0  "
            ]
          },
          "metadata": {},
          "output_type": "display_data"
        }
      ],
      "source": [
        "query_4_3_1 = f'''select\n",
        "                    --выводим значение опыта работы\n",
        "                    experience \"Опыт работы\",\n",
        "                    --считаем средний нижний уровень и округляем до целых\n",
        "                    round(avg(salary_from)) \"Средний нижний уровень\",\n",
        "                    --считаем средний верхний уровень и округляем до целых\n",
        "                    round(avg(salary_to)) \"Средний верхний уровень\",\n",
        "                    --считаем разницу между средним верхним и нижним уровнем, округляем до целых\n",
        "                    round(avg(salary_to)- avg(salary_from)) \"Диапазон вилки\"\n",
        "                --из таблицы с вакансиями\n",
        "                from vacancies \n",
        "                --группируем по опыту\n",
        "                group by experience\n",
        "                --сортируем по среднему нижнему уровню,округляем до целых\n",
        "                order by round(avg(salary_from))\n",
        "            '''\n",
        "\n",
        "df_4_3_1 = pd.read_sql_query(query_4_3_1, connection)\n",
        "display(df_4_3_1)"
      ]
    },
    {
      "cell_type": "markdown",
      "id": "09e8686a",
      "metadata": {},
      "source": [
        "3. 2. Дополнительно найдем средние значения для нижней и верхней границы зарплатной вилки в разрезе регионов - только города-миллионники, при условии что одно из полей с ЗП заполнены и сопоставим с количеством населения в этих городах:"
      ]
    },
    {
      "cell_type": "code",
      "execution_count": 9,
      "id": "de2f7af8",
      "metadata": {},
      "outputs": [
        {
          "data": {
            "text/html": [
              "<div>\n",
              "<style scoped>\n",
              "    .dataframe tbody tr th:only-of-type {\n",
              "        vertical-align: middle;\n",
              "    }\n",
              "\n",
              "    .dataframe tbody tr th {\n",
              "        vertical-align: top;\n",
              "    }\n",
              "\n",
              "    .dataframe thead th {\n",
              "        text-align: right;\n",
              "    }\n",
              "</style>\n",
              "<table border=\"1\" class=\"dataframe\">\n",
              "  <thead>\n",
              "    <tr style=\"text-align: right;\">\n",
              "      <th></th>\n",
              "      <th>Регион</th>\n",
              "      <th>Средний нижний уровень</th>\n",
              "      <th>Средний верхний уровень</th>\n",
              "      <th>Количество вакансий</th>\n",
              "      <th>Диапазон вилки</th>\n",
              "    </tr>\n",
              "  </thead>\n",
              "  <tbody>\n",
              "    <tr>\n",
              "      <th>0</th>\n",
              "      <td>Москва</td>\n",
              "      <td>113409.0</td>\n",
              "      <td>160594.0</td>\n",
              "      <td>1592</td>\n",
              "      <td>47185.0</td>\n",
              "    </tr>\n",
              "    <tr>\n",
              "      <th>1</th>\n",
              "      <td>Новосибирск</td>\n",
              "      <td>91272.0</td>\n",
              "      <td>137573.0</td>\n",
              "      <td>929</td>\n",
              "      <td>46301.0</td>\n",
              "    </tr>\n",
              "    <tr>\n",
              "      <th>2</th>\n",
              "      <td>Санкт-Петербург</td>\n",
              "      <td>89892.0</td>\n",
              "      <td>127249.0</td>\n",
              "      <td>1203</td>\n",
              "      <td>37356.0</td>\n",
              "    </tr>\n",
              "    <tr>\n",
              "      <th>3</th>\n",
              "      <td>Нижний Новгород</td>\n",
              "      <td>83734.0</td>\n",
              "      <td>126921.0</td>\n",
              "      <td>680</td>\n",
              "      <td>43187.0</td>\n",
              "    </tr>\n",
              "    <tr>\n",
              "      <th>4</th>\n",
              "      <td>Ростов-на-Дону</td>\n",
              "      <td>79391.0</td>\n",
              "      <td>119708.0</td>\n",
              "      <td>612</td>\n",
              "      <td>40317.0</td>\n",
              "    </tr>\n",
              "    <tr>\n",
              "      <th>5</th>\n",
              "      <td>Пермь</td>\n",
              "      <td>78932.0</td>\n",
              "      <td>130215.0</td>\n",
              "      <td>352</td>\n",
              "      <td>51282.0</td>\n",
              "    </tr>\n",
              "    <tr>\n",
              "      <th>6</th>\n",
              "      <td>Краснодар</td>\n",
              "      <td>78483.0</td>\n",
              "      <td>117144.0</td>\n",
              "      <td>693</td>\n",
              "      <td>38660.0</td>\n",
              "    </tr>\n",
              "    <tr>\n",
              "      <th>7</th>\n",
              "      <td>Екатеринбург</td>\n",
              "      <td>77489.0</td>\n",
              "      <td>120404.0</td>\n",
              "      <td>901</td>\n",
              "      <td>42915.0</td>\n",
              "    </tr>\n",
              "    <tr>\n",
              "      <th>8</th>\n",
              "      <td>Казань</td>\n",
              "      <td>76117.0</td>\n",
              "      <td>119942.0</td>\n",
              "      <td>628</td>\n",
              "      <td>43825.0</td>\n",
              "    </tr>\n",
              "    <tr>\n",
              "      <th>9</th>\n",
              "      <td>Омск</td>\n",
              "      <td>74898.0</td>\n",
              "      <td>107685.0</td>\n",
              "      <td>333</td>\n",
              "      <td>32787.0</td>\n",
              "    </tr>\n",
              "    <tr>\n",
              "      <th>10</th>\n",
              "      <td>Челябинск</td>\n",
              "      <td>69563.0</td>\n",
              "      <td>93330.0</td>\n",
              "      <td>501</td>\n",
              "      <td>23767.0</td>\n",
              "    </tr>\n",
              "    <tr>\n",
              "      <th>11</th>\n",
              "      <td>Воронеж</td>\n",
              "      <td>69203.0</td>\n",
              "      <td>108997.0</td>\n",
              "      <td>467</td>\n",
              "      <td>39794.0</td>\n",
              "    </tr>\n",
              "    <tr>\n",
              "      <th>12</th>\n",
              "      <td>Самара</td>\n",
              "      <td>67885.0</td>\n",
              "      <td>101157.0</td>\n",
              "      <td>505</td>\n",
              "      <td>33272.0</td>\n",
              "    </tr>\n",
              "    <tr>\n",
              "      <th>13</th>\n",
              "      <td>Красноярск</td>\n",
              "      <td>64130.0</td>\n",
              "      <td>90962.0</td>\n",
              "      <td>500</td>\n",
              "      <td>26832.0</td>\n",
              "    </tr>\n",
              "    <tr>\n",
              "      <th>14</th>\n",
              "      <td>Уфа</td>\n",
              "      <td>62638.0</td>\n",
              "      <td>103065.0</td>\n",
              "      <td>383</td>\n",
              "      <td>40427.0</td>\n",
              "    </tr>\n",
              "    <tr>\n",
              "      <th>15</th>\n",
              "      <td>Волгоград</td>\n",
              "      <td>61013.0</td>\n",
              "      <td>93073.0</td>\n",
              "      <td>255</td>\n",
              "      <td>32059.0</td>\n",
              "    </tr>\n",
              "  </tbody>\n",
              "</table>\n",
              "</div>"
            ],
            "text/plain": [
              "             Регион  Средний нижний уровень  Средний верхний уровень  \\\n",
              "0            Москва                113409.0                 160594.0   \n",
              "1       Новосибирск                 91272.0                 137573.0   \n",
              "2   Санкт-Петербург                 89892.0                 127249.0   \n",
              "3   Нижний Новгород                 83734.0                 126921.0   \n",
              "4    Ростов-на-Дону                 79391.0                 119708.0   \n",
              "5             Пермь                 78932.0                 130215.0   \n",
              "6         Краснодар                 78483.0                 117144.0   \n",
              "7      Екатеринбург                 77489.0                 120404.0   \n",
              "8            Казань                 76117.0                 119942.0   \n",
              "9              Омск                 74898.0                 107685.0   \n",
              "10        Челябинск                 69563.0                  93330.0   \n",
              "11          Воронеж                 69203.0                 108997.0   \n",
              "12           Самара                 67885.0                 101157.0   \n",
              "13       Красноярск                 64130.0                  90962.0   \n",
              "14              Уфа                 62638.0                 103065.0   \n",
              "15        Волгоград                 61013.0                  93073.0   \n",
              "\n",
              "    Количество вакансий  Диапазон вилки  \n",
              "0                  1592         47185.0  \n",
              "1                   929         46301.0  \n",
              "2                  1203         37356.0  \n",
              "3                   680         43187.0  \n",
              "4                   612         40317.0  \n",
              "5                   352         51282.0  \n",
              "6                   693         38660.0  \n",
              "7                   901         42915.0  \n",
              "8                   628         43825.0  \n",
              "9                   333         32787.0  \n",
              "10                  501         23767.0  \n",
              "11                  467         39794.0  \n",
              "12                  505         33272.0  \n",
              "13                  500         26832.0  \n",
              "14                  383         40427.0  \n",
              "15                  255         32059.0  "
            ]
          },
          "metadata": {},
          "output_type": "display_data"
        }
      ],
      "source": [
        "query_4_3_2 = f'''select\n",
        "                    --выбираем столбец с названием региона\n",
        "                    a.name \"Регион\",\n",
        "                    --находим среднее значение нижней границы зарплатной вилки,округляем до целых\n",
        "                    round(avg(v.salary_from)) \"Средний нижний уровень\",\n",
        "                    --находим среднее значение верхне границы зарплатной вилки,округляем до целых\n",
        "                    round(avg(v.salary_to)) \"Средний верхний уровень\",\n",
        "                    --считаем количество вакансий по столбцу id\n",
        "                    count(v.id) \"Количество вакансий\", \n",
        "                    --считаем разницу между средним верхним и нижним уровнем, округляем до целых\n",
        "                    round(avg(v.salary_to)- avg(v.salary_from)) \"Диапазон вилки\"\n",
        "                  --к таблице вакансий\n",
        "                  from vacancies v\n",
        "                    --присоединяем таблицу с регионами по id региона (регион в котором размещена вакансия)\n",
        "                    join areas a on v.area_id = a.id\n",
        "                  --где заполнена либо нижняя \n",
        "                  where salary_from is not null\n",
        "                    --либо верхняя граница зарплатной вилки\n",
        "                    or salary_to is not null\n",
        "                  --группируем по id региона\n",
        "                  group by a.id\n",
        "                  --фильтруем сгруппированные значения по спику городов-миллионников\n",
        "                  having a.name in {million_cities}\n",
        "                  --сортируем по среднему нижнему уровню, в порядку убывания,округляем до целых\n",
        "                  order by round(avg(v.salary_from)) desc\n",
        "                \n",
        "            '''\n",
        "\n",
        "df_4_3_2 = pd.read_sql_query(query_4_3_2, connection)\n",
        "display(df_4_3_2)"
      ]
    },
    {
      "cell_type": "code",
      "execution_count": 11,
      "id": "f004afc6",
      "metadata": {},
      "outputs": [],
      "source": [
        "# выгружаем из википедии данные о населении в городах миллионниках в переменную population\n",
        "population = tables_m[1][['Город', 'Население, тыс. чел.  (на 1 января 2023 года)']]\n",
        "# укорачиваем название столбца 'Население...'\n",
        "population.rename(columns={'Население, тыс. чел.  (на 1 января 2023 года)':'Население,тыс. чел.'}, inplace=True)\n",
        "# Для того чтобы сортировать по значениям\n",
        "# 1. убираем пробелы в значениях\n",
        "population['Население,тыс. чел.'] = population['Население,тыс. чел.'].apply(lambda x: x.replace(' ','')) \n",
        "# 2. присваиваем значениям числовой тип данных\n",
        "population['Население,тыс. чел.'] = population['Население,тыс. чел.'].astype('int64')\n",
        "# присоединяем полученный DF\n",
        "new_df =  df_4_3_2.join(\n",
        "    population.set_index('Город'),\n",
        "    on='Регион',\n",
        "    how='inner'\n",
        "# и сортируем по населению в порядке убывания\n",
        ").sort_values(by='Население,тыс. чел.', ascending=False)\n"
      ]
    },
    {
      "cell_type": "code",
      "execution_count": 12,
      "id": "2065c1d5",
      "metadata": {},
      "outputs": [
        {
          "data": {
            "application/vnd.plotly.v1+json": {
              "config": {
                "plotlyServerURL": "https://plot.ly"
              },
              "data": [
                {
                  "hoverinfo": "all",
                  "hovertemplate": "Город: %{x}<br>Деньги: %{y}",
                  "name": "Верхний уровень ЗП",
                  "type": "scatter",
                  "x": [
                    "Москва",
                    "Санкт-Петербург",
                    "Новосибирск",
                    "Екатеринбург",
                    "Казань",
                    "Нижний Новгород",
                    "Красноярск",
                    "Челябинск",
                    "Самара",
                    "Уфа",
                    "Ростов-на-Дону",
                    "Краснодар",
                    "Омск",
                    "Воронеж",
                    "Пермь",
                    "Волгоград"
                  ],
                  "xaxis": "x",
                  "y": [
                    160594,
                    127249,
                    137573,
                    120404,
                    119942,
                    126921,
                    90962,
                    93330,
                    101157,
                    103065,
                    119708,
                    117144,
                    107685,
                    108997,
                    130215,
                    93073
                  ],
                  "yaxis": "y"
                },
                {
                  "hoverinfo": "all",
                  "hovertemplate": "Город: %{x}<br>Деньги: %{y}",
                  "name": "Нижний уровень ЗП",
                  "type": "scatter",
                  "x": [
                    "Москва",
                    "Санкт-Петербург",
                    "Новосибирск",
                    "Екатеринбург",
                    "Казань",
                    "Нижний Новгород",
                    "Красноярск",
                    "Челябинск",
                    "Самара",
                    "Уфа",
                    "Ростов-на-Дону",
                    "Краснодар",
                    "Омск",
                    "Воронеж",
                    "Пермь",
                    "Волгоград"
                  ],
                  "xaxis": "x",
                  "y": [
                    113409,
                    89892,
                    91272,
                    77489,
                    76117,
                    83734,
                    64130,
                    69563,
                    67885,
                    62638,
                    79391,
                    78483,
                    74898,
                    69203,
                    78932,
                    61013
                  ],
                  "yaxis": "y"
                },
                {
                  "hoverinfo": "all",
                  "hovertemplate": "Город: %{x}<br>Деньги: %{y}",
                  "name": "Диапазон вилки",
                  "type": "scatter",
                  "x": [
                    "Москва",
                    "Санкт-Петербург",
                    "Новосибирск",
                    "Екатеринбург",
                    "Казань",
                    "Нижний Новгород",
                    "Красноярск",
                    "Челябинск",
                    "Самара",
                    "Уфа",
                    "Ростов-на-Дону",
                    "Краснодар",
                    "Омск",
                    "Воронеж",
                    "Пермь",
                    "Волгоград"
                  ],
                  "xaxis": "x",
                  "y": [
                    47185,
                    37356,
                    46301,
                    42915,
                    43825,
                    43187,
                    26832,
                    23767,
                    33272,
                    40427,
                    40317,
                    38660,
                    32787,
                    39794,
                    51282,
                    32059
                  ],
                  "yaxis": "y"
                },
                {
                  "hoverinfo": "all",
                  "hovertemplate": "Город: %{x}<br>Количесвто: %{y}",
                  "name": "Количество вакансий",
                  "type": "scatter",
                  "x": [
                    "Москва",
                    "Санкт-Петербург",
                    "Новосибирск",
                    "Екатеринбург",
                    "Казань",
                    "Нижний Новгород",
                    "Красноярск",
                    "Челябинск",
                    "Самара",
                    "Уфа",
                    "Ростов-на-Дону",
                    "Краснодар",
                    "Омск",
                    "Воронеж",
                    "Пермь",
                    "Волгоград"
                  ],
                  "xaxis": "x2",
                  "y": [
                    1592,
                    1203,
                    929,
                    901,
                    628,
                    680,
                    500,
                    501,
                    505,
                    383,
                    612,
                    693,
                    333,
                    467,
                    352,
                    255
                  ],
                  "yaxis": "y2"
                },
                {
                  "hoverinfo": "all",
                  "hovertemplate": "Город: %{x}<br>Население: %{y}",
                  "name": "Население,тыс.чел.",
                  "type": "scatter",
                  "x": [
                    "Москва",
                    "Санкт-Петербург",
                    "Новосибирск",
                    "Екатеринбург",
                    "Казань",
                    "Нижний Новгород",
                    "Красноярск",
                    "Челябинск",
                    "Самара",
                    "Уфа",
                    "Ростов-на-Дону",
                    "Краснодар",
                    "Омск",
                    "Воронеж",
                    "Пермь",
                    "Волгоград"
                  ],
                  "xaxis": "x3",
                  "y": [
                    13098,
                    5598,
                    1635,
                    1539,
                    1315,
                    1213,
                    1197,
                    1183,
                    1164,
                    1158,
                    1136,
                    1121,
                    1111,
                    1052,
                    1027,
                    1026
                  ],
                  "yaxis": "y3"
                }
              ],
              "layout": {
                "annotations": [
                  {
                    "font": {
                      "size": 16
                    },
                    "showarrow": false,
                    "text": "Зависимость средней предлагаемой ЗП от города",
                    "x": 0.5,
                    "xanchor": "center",
                    "xref": "paper",
                    "y": 1,
                    "yanchor": "bottom",
                    "yref": "paper"
                  },
                  {
                    "font": {
                      "size": 16
                    },
                    "showarrow": false,
                    "text": "Зависимость количества вакансий от города",
                    "x": 0.5,
                    "xanchor": "center",
                    "xref": "paper",
                    "y": 0.4333333333333334,
                    "yanchor": "bottom",
                    "yref": "paper"
                  },
                  {
                    "font": {
                      "size": 16
                    },
                    "showarrow": false,
                    "text": "Население по городам",
                    "x": 0.5,
                    "xanchor": "center",
                    "xref": "paper",
                    "y": 0.13333333333333336,
                    "yanchor": "bottom",
                    "yref": "paper"
                  }
                ],
                "height": 1000,
                "hovermode": "x",
                "legend": {
                  "orientation": "h",
                  "x": 0.5,
                  "xanchor": "center"
                },
                "margin": {
                  "b": 10,
                  "l": 10,
                  "r": 10,
                  "t": 40
                },
                "template": {
                  "data": {
                    "bar": [
                      {
                        "error_x": {
                          "color": "#2a3f5f"
                        },
                        "error_y": {
                          "color": "#2a3f5f"
                        },
                        "marker": {
                          "line": {
                            "color": "#E5ECF6",
                            "width": 0.5
                          },
                          "pattern": {
                            "fillmode": "overlay",
                            "size": 10,
                            "solidity": 0.2
                          }
                        },
                        "type": "bar"
                      }
                    ],
                    "barpolar": [
                      {
                        "marker": {
                          "line": {
                            "color": "#E5ECF6",
                            "width": 0.5
                          },
                          "pattern": {
                            "fillmode": "overlay",
                            "size": 10,
                            "solidity": 0.2
                          }
                        },
                        "type": "barpolar"
                      }
                    ],
                    "carpet": [
                      {
                        "aaxis": {
                          "endlinecolor": "#2a3f5f",
                          "gridcolor": "white",
                          "linecolor": "white",
                          "minorgridcolor": "white",
                          "startlinecolor": "#2a3f5f"
                        },
                        "baxis": {
                          "endlinecolor": "#2a3f5f",
                          "gridcolor": "white",
                          "linecolor": "white",
                          "minorgridcolor": "white",
                          "startlinecolor": "#2a3f5f"
                        },
                        "type": "carpet"
                      }
                    ],
                    "choropleth": [
                      {
                        "colorbar": {
                          "outlinewidth": 0,
                          "ticks": ""
                        },
                        "type": "choropleth"
                      }
                    ],
                    "contour": [
                      {
                        "colorbar": {
                          "outlinewidth": 0,
                          "ticks": ""
                        },
                        "colorscale": [
                          [
                            0,
                            "#0d0887"
                          ],
                          [
                            0.1111111111111111,
                            "#46039f"
                          ],
                          [
                            0.2222222222222222,
                            "#7201a8"
                          ],
                          [
                            0.3333333333333333,
                            "#9c179e"
                          ],
                          [
                            0.4444444444444444,
                            "#bd3786"
                          ],
                          [
                            0.5555555555555556,
                            "#d8576b"
                          ],
                          [
                            0.6666666666666666,
                            "#ed7953"
                          ],
                          [
                            0.7777777777777778,
                            "#fb9f3a"
                          ],
                          [
                            0.8888888888888888,
                            "#fdca26"
                          ],
                          [
                            1,
                            "#f0f921"
                          ]
                        ],
                        "type": "contour"
                      }
                    ],
                    "contourcarpet": [
                      {
                        "colorbar": {
                          "outlinewidth": 0,
                          "ticks": ""
                        },
                        "type": "contourcarpet"
                      }
                    ],
                    "heatmap": [
                      {
                        "colorbar": {
                          "outlinewidth": 0,
                          "ticks": ""
                        },
                        "colorscale": [
                          [
                            0,
                            "#0d0887"
                          ],
                          [
                            0.1111111111111111,
                            "#46039f"
                          ],
                          [
                            0.2222222222222222,
                            "#7201a8"
                          ],
                          [
                            0.3333333333333333,
                            "#9c179e"
                          ],
                          [
                            0.4444444444444444,
                            "#bd3786"
                          ],
                          [
                            0.5555555555555556,
                            "#d8576b"
                          ],
                          [
                            0.6666666666666666,
                            "#ed7953"
                          ],
                          [
                            0.7777777777777778,
                            "#fb9f3a"
                          ],
                          [
                            0.8888888888888888,
                            "#fdca26"
                          ],
                          [
                            1,
                            "#f0f921"
                          ]
                        ],
                        "type": "heatmap"
                      }
                    ],
                    "heatmapgl": [
                      {
                        "colorbar": {
                          "outlinewidth": 0,
                          "ticks": ""
                        },
                        "colorscale": [
                          [
                            0,
                            "#0d0887"
                          ],
                          [
                            0.1111111111111111,
                            "#46039f"
                          ],
                          [
                            0.2222222222222222,
                            "#7201a8"
                          ],
                          [
                            0.3333333333333333,
                            "#9c179e"
                          ],
                          [
                            0.4444444444444444,
                            "#bd3786"
                          ],
                          [
                            0.5555555555555556,
                            "#d8576b"
                          ],
                          [
                            0.6666666666666666,
                            "#ed7953"
                          ],
                          [
                            0.7777777777777778,
                            "#fb9f3a"
                          ],
                          [
                            0.8888888888888888,
                            "#fdca26"
                          ],
                          [
                            1,
                            "#f0f921"
                          ]
                        ],
                        "type": "heatmapgl"
                      }
                    ],
                    "histogram": [
                      {
                        "marker": {
                          "pattern": {
                            "fillmode": "overlay",
                            "size": 10,
                            "solidity": 0.2
                          }
                        },
                        "type": "histogram"
                      }
                    ],
                    "histogram2d": [
                      {
                        "colorbar": {
                          "outlinewidth": 0,
                          "ticks": ""
                        },
                        "colorscale": [
                          [
                            0,
                            "#0d0887"
                          ],
                          [
                            0.1111111111111111,
                            "#46039f"
                          ],
                          [
                            0.2222222222222222,
                            "#7201a8"
                          ],
                          [
                            0.3333333333333333,
                            "#9c179e"
                          ],
                          [
                            0.4444444444444444,
                            "#bd3786"
                          ],
                          [
                            0.5555555555555556,
                            "#d8576b"
                          ],
                          [
                            0.6666666666666666,
                            "#ed7953"
                          ],
                          [
                            0.7777777777777778,
                            "#fb9f3a"
                          ],
                          [
                            0.8888888888888888,
                            "#fdca26"
                          ],
                          [
                            1,
                            "#f0f921"
                          ]
                        ],
                        "type": "histogram2d"
                      }
                    ],
                    "histogram2dcontour": [
                      {
                        "colorbar": {
                          "outlinewidth": 0,
                          "ticks": ""
                        },
                        "colorscale": [
                          [
                            0,
                            "#0d0887"
                          ],
                          [
                            0.1111111111111111,
                            "#46039f"
                          ],
                          [
                            0.2222222222222222,
                            "#7201a8"
                          ],
                          [
                            0.3333333333333333,
                            "#9c179e"
                          ],
                          [
                            0.4444444444444444,
                            "#bd3786"
                          ],
                          [
                            0.5555555555555556,
                            "#d8576b"
                          ],
                          [
                            0.6666666666666666,
                            "#ed7953"
                          ],
                          [
                            0.7777777777777778,
                            "#fb9f3a"
                          ],
                          [
                            0.8888888888888888,
                            "#fdca26"
                          ],
                          [
                            1,
                            "#f0f921"
                          ]
                        ],
                        "type": "histogram2dcontour"
                      }
                    ],
                    "mesh3d": [
                      {
                        "colorbar": {
                          "outlinewidth": 0,
                          "ticks": ""
                        },
                        "type": "mesh3d"
                      }
                    ],
                    "parcoords": [
                      {
                        "line": {
                          "colorbar": {
                            "outlinewidth": 0,
                            "ticks": ""
                          }
                        },
                        "type": "parcoords"
                      }
                    ],
                    "pie": [
                      {
                        "automargin": true,
                        "type": "pie"
                      }
                    ],
                    "scatter": [
                      {
                        "fillpattern": {
                          "fillmode": "overlay",
                          "size": 10,
                          "solidity": 0.2
                        },
                        "type": "scatter"
                      }
                    ],
                    "scatter3d": [
                      {
                        "line": {
                          "colorbar": {
                            "outlinewidth": 0,
                            "ticks": ""
                          }
                        },
                        "marker": {
                          "colorbar": {
                            "outlinewidth": 0,
                            "ticks": ""
                          }
                        },
                        "type": "scatter3d"
                      }
                    ],
                    "scattercarpet": [
                      {
                        "marker": {
                          "colorbar": {
                            "outlinewidth": 0,
                            "ticks": ""
                          }
                        },
                        "type": "scattercarpet"
                      }
                    ],
                    "scattergeo": [
                      {
                        "marker": {
                          "colorbar": {
                            "outlinewidth": 0,
                            "ticks": ""
                          }
                        },
                        "type": "scattergeo"
                      }
                    ],
                    "scattergl": [
                      {
                        "marker": {
                          "colorbar": {
                            "outlinewidth": 0,
                            "ticks": ""
                          }
                        },
                        "type": "scattergl"
                      }
                    ],
                    "scattermapbox": [
                      {
                        "marker": {
                          "colorbar": {
                            "outlinewidth": 0,
                            "ticks": ""
                          }
                        },
                        "type": "scattermapbox"
                      }
                    ],
                    "scatterpolar": [
                      {
                        "marker": {
                          "colorbar": {
                            "outlinewidth": 0,
                            "ticks": ""
                          }
                        },
                        "type": "scatterpolar"
                      }
                    ],
                    "scatterpolargl": [
                      {
                        "marker": {
                          "colorbar": {
                            "outlinewidth": 0,
                            "ticks": ""
                          }
                        },
                        "type": "scatterpolargl"
                      }
                    ],
                    "scatterternary": [
                      {
                        "marker": {
                          "colorbar": {
                            "outlinewidth": 0,
                            "ticks": ""
                          }
                        },
                        "type": "scatterternary"
                      }
                    ],
                    "surface": [
                      {
                        "colorbar": {
                          "outlinewidth": 0,
                          "ticks": ""
                        },
                        "colorscale": [
                          [
                            0,
                            "#0d0887"
                          ],
                          [
                            0.1111111111111111,
                            "#46039f"
                          ],
                          [
                            0.2222222222222222,
                            "#7201a8"
                          ],
                          [
                            0.3333333333333333,
                            "#9c179e"
                          ],
                          [
                            0.4444444444444444,
                            "#bd3786"
                          ],
                          [
                            0.5555555555555556,
                            "#d8576b"
                          ],
                          [
                            0.6666666666666666,
                            "#ed7953"
                          ],
                          [
                            0.7777777777777778,
                            "#fb9f3a"
                          ],
                          [
                            0.8888888888888888,
                            "#fdca26"
                          ],
                          [
                            1,
                            "#f0f921"
                          ]
                        ],
                        "type": "surface"
                      }
                    ],
                    "table": [
                      {
                        "cells": {
                          "fill": {
                            "color": "#EBF0F8"
                          },
                          "line": {
                            "color": "white"
                          }
                        },
                        "header": {
                          "fill": {
                            "color": "#C8D4E3"
                          },
                          "line": {
                            "color": "white"
                          }
                        },
                        "type": "table"
                      }
                    ]
                  },
                  "layout": {
                    "annotationdefaults": {
                      "arrowcolor": "#2a3f5f",
                      "arrowhead": 0,
                      "arrowwidth": 1
                    },
                    "autotypenumbers": "strict",
                    "coloraxis": {
                      "colorbar": {
                        "outlinewidth": 0,
                        "ticks": ""
                      }
                    },
                    "colorscale": {
                      "diverging": [
                        [
                          0,
                          "#8e0152"
                        ],
                        [
                          0.1,
                          "#c51b7d"
                        ],
                        [
                          0.2,
                          "#de77ae"
                        ],
                        [
                          0.3,
                          "#f1b6da"
                        ],
                        [
                          0.4,
                          "#fde0ef"
                        ],
                        [
                          0.5,
                          "#f7f7f7"
                        ],
                        [
                          0.6,
                          "#e6f5d0"
                        ],
                        [
                          0.7,
                          "#b8e186"
                        ],
                        [
                          0.8,
                          "#7fbc41"
                        ],
                        [
                          0.9,
                          "#4d9221"
                        ],
                        [
                          1,
                          "#276419"
                        ]
                      ],
                      "sequential": [
                        [
                          0,
                          "#0d0887"
                        ],
                        [
                          0.1111111111111111,
                          "#46039f"
                        ],
                        [
                          0.2222222222222222,
                          "#7201a8"
                        ],
                        [
                          0.3333333333333333,
                          "#9c179e"
                        ],
                        [
                          0.4444444444444444,
                          "#bd3786"
                        ],
                        [
                          0.5555555555555556,
                          "#d8576b"
                        ],
                        [
                          0.6666666666666666,
                          "#ed7953"
                        ],
                        [
                          0.7777777777777778,
                          "#fb9f3a"
                        ],
                        [
                          0.8888888888888888,
                          "#fdca26"
                        ],
                        [
                          1,
                          "#f0f921"
                        ]
                      ],
                      "sequentialminus": [
                        [
                          0,
                          "#0d0887"
                        ],
                        [
                          0.1111111111111111,
                          "#46039f"
                        ],
                        [
                          0.2222222222222222,
                          "#7201a8"
                        ],
                        [
                          0.3333333333333333,
                          "#9c179e"
                        ],
                        [
                          0.4444444444444444,
                          "#bd3786"
                        ],
                        [
                          0.5555555555555556,
                          "#d8576b"
                        ],
                        [
                          0.6666666666666666,
                          "#ed7953"
                        ],
                        [
                          0.7777777777777778,
                          "#fb9f3a"
                        ],
                        [
                          0.8888888888888888,
                          "#fdca26"
                        ],
                        [
                          1,
                          "#f0f921"
                        ]
                      ]
                    },
                    "colorway": [
                      "#636efa",
                      "#EF553B",
                      "#00cc96",
                      "#ab63fa",
                      "#FFA15A",
                      "#19d3f3",
                      "#FF6692",
                      "#B6E880",
                      "#FF97FF",
                      "#FECB52"
                    ],
                    "font": {
                      "color": "#2a3f5f"
                    },
                    "geo": {
                      "bgcolor": "white",
                      "lakecolor": "white",
                      "landcolor": "#E5ECF6",
                      "showlakes": true,
                      "showland": true,
                      "subunitcolor": "white"
                    },
                    "hoverlabel": {
                      "align": "left"
                    },
                    "hovermode": "closest",
                    "mapbox": {
                      "style": "light"
                    },
                    "paper_bgcolor": "white",
                    "plot_bgcolor": "#E5ECF6",
                    "polar": {
                      "angularaxis": {
                        "gridcolor": "white",
                        "linecolor": "white",
                        "ticks": ""
                      },
                      "bgcolor": "#E5ECF6",
                      "radialaxis": {
                        "gridcolor": "white",
                        "linecolor": "white",
                        "ticks": ""
                      }
                    },
                    "scene": {
                      "xaxis": {
                        "backgroundcolor": "#E5ECF6",
                        "gridcolor": "white",
                        "gridwidth": 2,
                        "linecolor": "white",
                        "showbackground": true,
                        "ticks": "",
                        "zerolinecolor": "white"
                      },
                      "yaxis": {
                        "backgroundcolor": "#E5ECF6",
                        "gridcolor": "white",
                        "gridwidth": 2,
                        "linecolor": "white",
                        "showbackground": true,
                        "ticks": "",
                        "zerolinecolor": "white"
                      },
                      "zaxis": {
                        "backgroundcolor": "#E5ECF6",
                        "gridcolor": "white",
                        "gridwidth": 2,
                        "linecolor": "white",
                        "showbackground": true,
                        "ticks": "",
                        "zerolinecolor": "white"
                      }
                    },
                    "shapedefaults": {
                      "line": {
                        "color": "#2a3f5f"
                      }
                    },
                    "ternary": {
                      "aaxis": {
                        "gridcolor": "white",
                        "linecolor": "white",
                        "ticks": ""
                      },
                      "baxis": {
                        "gridcolor": "white",
                        "linecolor": "white",
                        "ticks": ""
                      },
                      "bgcolor": "#E5ECF6",
                      "caxis": {
                        "gridcolor": "white",
                        "linecolor": "white",
                        "ticks": ""
                      }
                    },
                    "title": {
                      "x": 0.05
                    },
                    "xaxis": {
                      "automargin": true,
                      "gridcolor": "white",
                      "linecolor": "white",
                      "ticks": "",
                      "title": {
                        "standoff": 15
                      },
                      "zerolinecolor": "white",
                      "zerolinewidth": 2
                    },
                    "yaxis": {
                      "automargin": true,
                      "gridcolor": "white",
                      "linecolor": "white",
                      "ticks": "",
                      "title": {
                        "standoff": 15
                      },
                      "zerolinecolor": "white",
                      "zerolinewidth": 2
                    }
                  }
                },
                "title": {
                  "x": 0.5
                },
                "xaxis": {
                  "anchor": "y",
                  "domain": [
                    0,
                    1
                  ],
                  "title": {
                    "text": "Города-миллионники в порядке убывания населения"
                  }
                },
                "xaxis2": {
                  "anchor": "y2",
                  "domain": [
                    0,
                    1
                  ],
                  "title": {
                    "text": "Города-миллионники в порядке убывания населения"
                  }
                },
                "xaxis3": {
                  "anchor": "y3",
                  "domain": [
                    0,
                    1
                  ],
                  "title": {
                    "text": "Города-миллионники в порядке убывания населения"
                  }
                },
                "yaxis": {
                  "anchor": "x",
                  "domain": [
                    0.6000000000000001,
                    1
                  ],
                  "title": {
                    "text": "ЗП, руб."
                  }
                },
                "yaxis2": {
                  "anchor": "x2",
                  "domain": [
                    0.30000000000000004,
                    0.4333333333333334
                  ],
                  "range": [
                    0,
                    1700
                  ],
                  "title": {
                    "text": "Количество вакансий"
                  }
                },
                "yaxis3": {
                  "anchor": "x3",
                  "domain": [
                    0,
                    0.13333333333333336
                  ],
                  "range": [
                    0,
                    14000
                  ],
                  "title": {
                    "text": "Население,тыс.чел."
                  }
                }
              }
            }
          },
          "metadata": {},
          "output_type": "display_data"
        }
      ],
      "source": [
        "# визуализируем в Plotly\n",
        "# создаем фигуру с несколькими областями\n",
        "fig = make_subplots(\n",
        "    rows=3,\n",
        "    cols=1,\n",
        "    # устанавливаем пропорции\n",
        "    row_heights=[3, 1,1],\n",
        "    # задаем названия грфиков\n",
        "    subplot_titles=(\n",
        "        \"Зависимость средней предлагаемой ЗП от города\",\n",
        "        \"Зависимость количества вакансий от города\",\n",
        "        \"Население по городам\"\n",
        "        )\n",
        "    )\n",
        "\n",
        "# добавляем данные по зарплатной вилке:верхний, нижний уровни и диапазон\n",
        "fig.add_trace(go.Scatter(x = new_df['Регион'], y = new_df['Средний верхний уровень'], name='Верхний уровень ЗП'),1,1)\n",
        "fig.add_trace(go.Scatter(x = new_df['Регион'], y = new_df['Средний нижний уровень'], name='Нижний уровень ЗП'),1,1)\n",
        "fig.add_trace(go.Scatter(x = new_df['Регион'], y = new_df['Диапазон вилки'], name='Диапазон вилки'),1,1)\n",
        "# добавляем данные по количесвтву вакансий\n",
        "fig.add_trace(go.Scatter(x = new_df['Регион'], y = new_df['Количество вакансий'], name='Количество вакансий'),2,1)\n",
        "fig.update_yaxes(range=[0, 1700], row=2, title='Количество вакансий')\n",
        "fig.update_xaxes(row=2, title='Города-миллионники в порядке убывания населения')\n",
        "# добавляем данные по населению\n",
        "fig.add_trace(go.Scatter(x = new_df['Регион'], y = new_df['Население,тыс. чел.'], name='Население,тыс.чел.'),3,1)\n",
        "fig.update_yaxes(range=[0, 14000], row=3, title='Население,тыс.чел.')\n",
        "fig.update_xaxes(row=3, title='Города-миллионники в порядке убывания населения')\n",
        "\n",
        "# настраиваем внешний вид\n",
        "fig.update_layout(legend_orientation=\"h\",\n",
        "                  legend=dict(x=.5, xanchor=\"center\"),\n",
        "                  hovermode=\"x\",\n",
        "                  margin=dict(l=10, r=10, t=40, b=10),\n",
        "                  #title=\"Зависимость средней предлагаемой ЗП от города\",\n",
        "                  title_x=0.5,\n",
        "                  xaxis_title=\"Города-миллионники в порядке убывания населения\",\n",
        "                  yaxis_title=\"ЗП, руб.\",\n",
        "                  height=1000\n",
        "                  )\n",
        "#настраиваем внешний вид интерактивных подсказок\n",
        "fig.update_traces(hoverinfo=\"all\", hovertemplate=\"Город: %{x}<br>Деньги: %{y}\",row=1)                  \n",
        "fig.update_traces(hoverinfo=\"all\", hovertemplate=\"Город: %{x}<br>Количесвто: %{y}\",row=2)\n",
        "fig.update_traces(hoverinfo=\"all\", hovertemplate=\"Город: %{x}<br>Население: %{y}\",row=3)                  \n",
        "fig.show()"
      ]
    },
    {
      "cell_type": "markdown",
      "id": "f3fdaec9-5fd3-4260-9cf5-1d7406b628a5",
      "metadata": {
        "id": "f3fdaec9-5fd3-4260-9cf5-1d7406b628a5"
      },
      "source": [
        "4. Напишите запрос, который выведет количество вакансий для каждого сочетания типа рабочего графика (schedule) и типа трудоустройства (employment), используемого в вакансиях. Результат отсортируйте по убыванию количества.\n"
      ]
    },
    {
      "cell_type": "code",
      "execution_count": 13,
      "id": "1ea710ec-871b-431e-9462-c7d0fd87011b",
      "metadata": {
        "id": "1ea710ec-871b-431e-9462-c7d0fd87011b"
      },
      "outputs": [],
      "source": [
        "# текст запроса\n",
        "query_4_4 = f'''select\n",
        "                    --выводим тип графика\n",
        "                    schedule schedule_type,\n",
        "                    --выводими тип трудоустройства\n",
        "                    employment employment_type,\n",
        "                    --считаем количество вакансий по стобцу id\n",
        "                    count(id) total_count    \n",
        "                --из таблицы вакансий\n",
        "                from vacancies \n",
        "                --группируем по типу графика, затем по типу трудоустройства\n",
        "                group by schedule,employment\n",
        "                --сортируем по количеству вакансий в порядку убывания\n",
        "                order by count(id) desc    \n",
        "            '''"
      ]
    },
    {
      "cell_type": "code",
      "execution_count": 14,
      "id": "lGUVqavdo4JQ",
      "metadata": {
        "id": "lGUVqavdo4JQ"
      },
      "outputs": [
        {
          "data": {
            "text/html": [
              "<div>\n",
              "<style scoped>\n",
              "    .dataframe tbody tr th:only-of-type {\n",
              "        vertical-align: middle;\n",
              "    }\n",
              "\n",
              "    .dataframe tbody tr th {\n",
              "        vertical-align: top;\n",
              "    }\n",
              "\n",
              "    .dataframe thead th {\n",
              "        text-align: right;\n",
              "    }\n",
              "</style>\n",
              "<table border=\"1\" class=\"dataframe\">\n",
              "  <thead>\n",
              "    <tr style=\"text-align: right;\">\n",
              "      <th></th>\n",
              "      <th>schedule_type</th>\n",
              "      <th>employment_type</th>\n",
              "      <th>total_count</th>\n",
              "    </tr>\n",
              "  </thead>\n",
              "  <tbody>\n",
              "    <tr>\n",
              "      <th>0</th>\n",
              "      <td>Полный день</td>\n",
              "      <td>Полная занятость</td>\n",
              "      <td>35367</td>\n",
              "    </tr>\n",
              "    <tr>\n",
              "      <th>1</th>\n",
              "      <td>Удаленная работа</td>\n",
              "      <td>Полная занятость</td>\n",
              "      <td>7802</td>\n",
              "    </tr>\n",
              "    <tr>\n",
              "      <th>2</th>\n",
              "      <td>Гибкий график</td>\n",
              "      <td>Полная занятость</td>\n",
              "      <td>1593</td>\n",
              "    </tr>\n",
              "    <tr>\n",
              "      <th>3</th>\n",
              "      <td>Удаленная работа</td>\n",
              "      <td>Частичная занятость</td>\n",
              "      <td>1312</td>\n",
              "    </tr>\n",
              "    <tr>\n",
              "      <th>4</th>\n",
              "      <td>Сменный график</td>\n",
              "      <td>Полная занятость</td>\n",
              "      <td>940</td>\n",
              "    </tr>\n",
              "    <tr>\n",
              "      <th>5</th>\n",
              "      <td>Полный день</td>\n",
              "      <td>Стажировка</td>\n",
              "      <td>569</td>\n",
              "    </tr>\n",
              "    <tr>\n",
              "      <th>6</th>\n",
              "      <td>Вахтовый метод</td>\n",
              "      <td>Полная занятость</td>\n",
              "      <td>367</td>\n",
              "    </tr>\n",
              "    <tr>\n",
              "      <th>7</th>\n",
              "      <td>Полный день</td>\n",
              "      <td>Частичная занятость</td>\n",
              "      <td>347</td>\n",
              "    </tr>\n",
              "    <tr>\n",
              "      <th>8</th>\n",
              "      <td>Гибкий график</td>\n",
              "      <td>Частичная занятость</td>\n",
              "      <td>312</td>\n",
              "    </tr>\n",
              "    <tr>\n",
              "      <th>9</th>\n",
              "      <td>Полный день</td>\n",
              "      <td>Проектная работа</td>\n",
              "      <td>141</td>\n",
              "    </tr>\n",
              "    <tr>\n",
              "      <th>10</th>\n",
              "      <td>Удаленная работа</td>\n",
              "      <td>Проектная работа</td>\n",
              "      <td>133</td>\n",
              "    </tr>\n",
              "    <tr>\n",
              "      <th>11</th>\n",
              "      <td>Гибкий график</td>\n",
              "      <td>Стажировка</td>\n",
              "      <td>116</td>\n",
              "    </tr>\n",
              "    <tr>\n",
              "      <th>12</th>\n",
              "      <td>Сменный график</td>\n",
              "      <td>Частичная занятость</td>\n",
              "      <td>101</td>\n",
              "    </tr>\n",
              "    <tr>\n",
              "      <th>13</th>\n",
              "      <td>Удаленная работа</td>\n",
              "      <td>Стажировка</td>\n",
              "      <td>64</td>\n",
              "    </tr>\n",
              "    <tr>\n",
              "      <th>14</th>\n",
              "      <td>Гибкий график</td>\n",
              "      <td>Проектная работа</td>\n",
              "      <td>18</td>\n",
              "    </tr>\n",
              "    <tr>\n",
              "      <th>15</th>\n",
              "      <td>Сменный график</td>\n",
              "      <td>Стажировка</td>\n",
              "      <td>12</td>\n",
              "    </tr>\n",
              "    <tr>\n",
              "      <th>16</th>\n",
              "      <td>Вахтовый метод</td>\n",
              "      <td>Проектная работа</td>\n",
              "      <td>2</td>\n",
              "    </tr>\n",
              "    <tr>\n",
              "      <th>17</th>\n",
              "      <td>Сменный график</td>\n",
              "      <td>Проектная работа</td>\n",
              "      <td>1</td>\n",
              "    </tr>\n",
              "  </tbody>\n",
              "</table>\n",
              "</div>"
            ],
            "text/plain": [
              "       schedule_type      employment_type  total_count\n",
              "0        Полный день     Полная занятость        35367\n",
              "1   Удаленная работа     Полная занятость         7802\n",
              "2      Гибкий график     Полная занятость         1593\n",
              "3   Удаленная работа  Частичная занятость         1312\n",
              "4     Сменный график     Полная занятость          940\n",
              "5        Полный день           Стажировка          569\n",
              "6     Вахтовый метод     Полная занятость          367\n",
              "7        Полный день  Частичная занятость          347\n",
              "8      Гибкий график  Частичная занятость          312\n",
              "9        Полный день     Проектная работа          141\n",
              "10  Удаленная работа     Проектная работа          133\n",
              "11     Гибкий график           Стажировка          116\n",
              "12    Сменный график  Частичная занятость          101\n",
              "13  Удаленная работа           Стажировка           64\n",
              "14     Гибкий график     Проектная работа           18\n",
              "15    Сменный график           Стажировка           12\n",
              "16    Вахтовый метод     Проектная работа            2\n",
              "17    Сменный график     Проектная работа            1"
            ]
          },
          "metadata": {},
          "output_type": "display_data"
        }
      ],
      "source": [
        "# результат запроса\n",
        "df = pd.read_sql_query(query_4_4, connection)\n",
        "display(df)"
      ]
    },
    {
      "cell_type": "markdown",
      "id": "0136ffee-0ead-4a6b-b608-61d1c753a438",
      "metadata": {
        "id": "0136ffee-0ead-4a6b-b608-61d1c753a438"
      },
      "source": [
        "5. Напишите запрос, выводящий значения поля Требуемый опыт работы (experience) в порядке возрастания количества вакансий, в которых указан данный вариант опыта. "
      ]
    },
    {
      "cell_type": "code",
      "execution_count": 15,
      "id": "5b3a8e79-f7ab-4008-b767-12aea3a205ea",
      "metadata": {
        "id": "5b3a8e79-f7ab-4008-b767-12aea3a205ea"
      },
      "outputs": [],
      "source": [
        "# текст запроса\n",
        "query_4_5 = f'''select\n",
        "                    --выводим значение опыта\n",
        "                    experience,\n",
        "                    --считаем вакансии по id\n",
        "                    count(id) total_count   \n",
        "                --из таблицы вакансий\n",
        "                from vacancies \n",
        "                --группируем по опыту\n",
        "                group by experience\n",
        "                --сортируем по количеству вакансий в порядку убывания\n",
        "                order by count(id) asc\n",
        "            '''"
      ]
    },
    {
      "cell_type": "code",
      "execution_count": 16,
      "id": "3Is64Y-hpDpq",
      "metadata": {
        "id": "3Is64Y-hpDpq"
      },
      "outputs": [
        {
          "data": {
            "text/html": [
              "<div>\n",
              "<style scoped>\n",
              "    .dataframe tbody tr th:only-of-type {\n",
              "        vertical-align: middle;\n",
              "    }\n",
              "\n",
              "    .dataframe tbody tr th {\n",
              "        vertical-align: top;\n",
              "    }\n",
              "\n",
              "    .dataframe thead th {\n",
              "        text-align: right;\n",
              "    }\n",
              "</style>\n",
              "<table border=\"1\" class=\"dataframe\">\n",
              "  <thead>\n",
              "    <tr style=\"text-align: right;\">\n",
              "      <th></th>\n",
              "      <th>experience</th>\n",
              "      <th>total_count</th>\n",
              "    </tr>\n",
              "  </thead>\n",
              "  <tbody>\n",
              "    <tr>\n",
              "      <th>0</th>\n",
              "      <td>Более 6 лет</td>\n",
              "      <td>1337</td>\n",
              "    </tr>\n",
              "    <tr>\n",
              "      <th>1</th>\n",
              "      <td>Нет опыта</td>\n",
              "      <td>7197</td>\n",
              "    </tr>\n",
              "    <tr>\n",
              "      <th>2</th>\n",
              "      <td>От 3 до 6 лет</td>\n",
              "      <td>14511</td>\n",
              "    </tr>\n",
              "    <tr>\n",
              "      <th>3</th>\n",
              "      <td>От 1 года до 3 лет</td>\n",
              "      <td>26152</td>\n",
              "    </tr>\n",
              "  </tbody>\n",
              "</table>\n",
              "</div>"
            ],
            "text/plain": [
              "           experience  total_count\n",
              "0         Более 6 лет         1337\n",
              "1           Нет опыта         7197\n",
              "2       От 3 до 6 лет        14511\n",
              "3  От 1 года до 3 лет        26152"
            ]
          },
          "metadata": {},
          "output_type": "display_data"
        }
      ],
      "source": [
        "# результат запроса\n",
        "df_4_5 = pd.read_sql_query(query_4_5, connection)\n",
        "display(df_4_5)"
      ]
    },
    {
      "cell_type": "markdown",
      "id": "oq2b7n1QpIka",
      "metadata": {
        "id": "oq2b7n1QpIka"
      },
      "source": [
        "***"
      ]
    },
    {
      "cell_type": "code",
      "execution_count": 17,
      "id": "e91f87ed-e25c-4f96-9f92-b642e8c0b4fa",
      "metadata": {
        "id": "e91f87ed-e25c-4f96-9f92-b642e8c0b4fa"
      },
      "outputs": [],
      "source": [
        "# выводы по детальному анализу вакансий\n",
        "\n",
        "connection.close()"
      ]
    },
    {
      "cell_type": "markdown",
      "id": "0bf0e07c",
      "metadata": {},
      "source": [
        "1. Подавляющее число работодателей рассматривает вариант сочетания: \n",
        "* типа графика - \"полный день\" и;\n",
        "* типа трудоустройства - \"полная занятость\"\n",
        "\n",
        "1. 1. Возможные причины в том, что работодатели **ищут работников на основное место работы**, и не заинтересованы в совместительстве;\n",
        "\n",
        "2. Подавляющее число вакансий требует опыт работы от 1 года до 6 лет. Более половины соискателей имеют опыт от 1 до 3 лет. Вышеуказанное распределение может свидетельствовать о том, что люди набирающие опыт активно ищут новые возможности и лучшие места, соответственно они проще меняют работу, и \"текучка\" таких кадров больше. Также это может говорить о занитересованности в молодых, но уже опытных (чуть-чуть) специалистах, которые уже имеют представление о профессии и обучаемы в силу возраста.\n",
        "\n",
        "3. Большинство вакансий сконцентрированно в крупных городах, что логично т.к. там больше работодателей.\n",
        "\n",
        "4. Значение средних нижних и верхних границ \"вилки\" предлагаемых вакансий от 71 до 110 тысяч рублей. Это \"средняя температура по больнице\" которая дает глобальное представление о предложении на рынке труда - т.е. во что оценивают работодатели потенциальных работников. \n",
        "\n",
        "* 4. 1. **В разрезе опыта:** с увеличением опыта вилка сдвигается вправо, т.е. чем больше опыта, тем больше значения средних нижних и верхних границ \"вилки\". Диапазон разброса увеличивается от 0 до 6 лет опыта, а после опять уменьшается. Возможно это связано с тем что в течении 6 лет человек набирается опыта, каждый развивается с разной скоростью и соответственно возможен разный набор  компитенций, а после 6 лет уже набирается какой-то прогнозируемый набор компитенций, который работодатель может просчитать.\n",
        "\n",
        "* 4. 2. **В разрезе региона**, а именно городов-миллионников РФ, при условии что хотя-бы одно из полей с ЗП заполнено: С уменьшением населения и уменьшаются верхние и нижние значения зарплатной вилки, также уменьшается и диапазон зарплатной вилки. Тенденция на уменьшение присутствует. Наблюдается большая корреляция с количеством вакансий, а не с населением конкретного города. **Примечательно что Новосибирск обогнал Санкт-Петербург** по значениям зарплатной вилки, хотя вакансий там меньше, возможные причины: Возможно компании побогаче, такое может быть если там открываются филиалы крупных компаний, но я предпочитаю думать что это по тому, что в Новосибирске преобладают более квалифицированные вакансии т.е. требуются управленцы, и уникальные специалисты.\n",
        "\n",
        "\n",
        "5. Чуть более половины всех вакансий имеют пустые отметки о предлагаемой ЗП, что может свидетельствовать о:\n",
        " * гибком индивидуальном подходе, т.е. ЗП определяется по  результатам собедования, или;\n",
        " * ЗП - является конфиденциальной информацией и не выкладывается в открытый доступ, такая у  компании корпоративная политика;\n",
        " \n",
        " *Требуется исследование в разрезе: опыта, работодателя, индустрии*\n"
      ]
    },
    {
      "cell_type": "markdown",
      "id": "7ea20ab6-04a7-40a0-adec-443a0e5a42c3",
      "metadata": {
        "id": "7ea20ab6-04a7-40a0-adec-443a0e5a42c3"
      },
      "source": [
        "# Юнит 5. Анализ работодателей"
      ]
    },
    {
      "cell_type": "markdown",
      "id": "968aed80-74ef-4ffb-b5bf-c65b84e9caea",
      "metadata": {
        "id": "968aed80-74ef-4ffb-b5bf-c65b84e9caea"
      },
      "source": [
        "1. Напишите запрос, который позволит узнать, какие работодатели находятся на первом и пятом месте по количеству вакансий."
      ]
    },
    {
      "cell_type": "code",
      "execution_count": 50,
      "id": "f2d62796-d400-4ec1-a675-88112739a50e",
      "metadata": {
        "id": "f2d62796-d400-4ec1-a675-88112739a50e"
      },
      "outputs": [],
      "source": [
        "# текст запроса\n",
        "query_5_1 = f'''select\n",
        "                    --выведем название работодателя\n",
        "                    e.name as employer,\n",
        "                    --посчитаем количесво вакансий\n",
        "                    count(v.id) as total_vacancies\n",
        "                --к таблице вакансий\n",
        "                from vacancies as v\n",
        "                    --присоединим таблицу работодателй по id работодателя\n",
        "                    join employers as e on v.employer_id = e.id\n",
        "                --сгруппируем по названию руботодателя\n",
        "                group by e.name\n",
        "                --отсортируем по количеству ваканий в порядке убывания\n",
        "                order by count(v.id) desc\n",
        "                --выводим топ 5\n",
        "                limit 5\n",
        "            '''"
      ]
    },
    {
      "cell_type": "code",
      "execution_count": 51,
      "id": "64tOMkAxqkQk",
      "metadata": {
        "id": "64tOMkAxqkQk"
      },
      "outputs": [
        {
          "data": {
            "text/html": [
              "<div>\n",
              "<style scoped>\n",
              "    .dataframe tbody tr th:only-of-type {\n",
              "        vertical-align: middle;\n",
              "    }\n",
              "\n",
              "    .dataframe tbody tr th {\n",
              "        vertical-align: top;\n",
              "    }\n",
              "\n",
              "    .dataframe thead th {\n",
              "        text-align: right;\n",
              "    }\n",
              "</style>\n",
              "<table border=\"1\" class=\"dataframe\">\n",
              "  <thead>\n",
              "    <tr style=\"text-align: right;\">\n",
              "      <th></th>\n",
              "      <th>employer</th>\n",
              "      <th>total_vacancies</th>\n",
              "    </tr>\n",
              "  </thead>\n",
              "  <tbody>\n",
              "    <tr>\n",
              "      <th>0</th>\n",
              "      <td>Яндекс</td>\n",
              "      <td>1933</td>\n",
              "    </tr>\n",
              "    <tr>\n",
              "      <th>1</th>\n",
              "      <td>Ростелеком</td>\n",
              "      <td>491</td>\n",
              "    </tr>\n",
              "    <tr>\n",
              "      <th>2</th>\n",
              "      <td>Тинькофф</td>\n",
              "      <td>444</td>\n",
              "    </tr>\n",
              "    <tr>\n",
              "      <th>3</th>\n",
              "      <td>СБЕР</td>\n",
              "      <td>428</td>\n",
              "    </tr>\n",
              "    <tr>\n",
              "      <th>4</th>\n",
              "      <td>Газпром нефть</td>\n",
              "      <td>331</td>\n",
              "    </tr>\n",
              "  </tbody>\n",
              "</table>\n",
              "</div>"
            ],
            "text/plain": [
              "        employer  total_vacancies\n",
              "0         Яндекс             1933\n",
              "1     Ростелеком              491\n",
              "2       Тинькофф              444\n",
              "3           СБЕР              428\n",
              "4  Газпром нефть              331"
            ]
          },
          "metadata": {},
          "output_type": "display_data"
        }
      ],
      "source": [
        "# результат запроса\n",
        "df_5_1 = pd.read_sql_query(query_5_1, connection)\n",
        "display(df_5_1)"
      ]
    },
    {
      "cell_type": "code",
      "execution_count": 52,
      "id": "edb3b208",
      "metadata": {},
      "outputs": [],
      "source": [
        "# сохраним количество вакансий яндекса в переменную\n",
        "total_yandex_vacancies = df_5_1.iloc[0,1]\n"
      ]
    },
    {
      "cell_type": "markdown",
      "id": "68377cfc-b378-43dc-ab7d-1195abf2c515",
      "metadata": {
        "id": "68377cfc-b378-43dc-ab7d-1195abf2c515"
      },
      "source": [
        "2. Напишите запрос, который для каждого региона выведет количество работодателей и вакансий в нём.\n",
        "Среди регионов, в которых нет вакансий, найдите тот, в котором наибольшее количество работодателей.\n"
      ]
    },
    {
      "cell_type": "code",
      "execution_count": 5,
      "id": "dd7df27a-e3e8-412e-a21a-5d389b71e891",
      "metadata": {
        "id": "dd7df27a-e3e8-412e-a21a-5d389b71e891"
      },
      "outputs": [],
      "source": [
        "# текст запроса\n",
        "query_5_2 = f'''select\n",
        "                    --выбираем столбец с названием региона    \n",
        "                    a.name area,\n",
        "                    --считаем количество работодателей\n",
        "                    count(e.id) employers_count,\n",
        "                    --считаем количесвтво вакансий\n",
        "                    count(v.id) vac_count\n",
        "                --к таблице с регионами\n",
        "                from  areas a\n",
        "                    --присоединяем таблицу с работодателями по id региона в котором расположен работодатель\n",
        "                    left join employers e on a.id = e.area\n",
        "                    --присоединяем таблицу с работодателями по id региона в котором расположена вакансия\n",
        "                    left join vacancies v on a.id = v.area_id \n",
        "                --фильтруем по регионам в которых нет вакансий\n",
        "                where v.name is null \n",
        "                --группируем по регионам(по id региона)\n",
        "                group by a.id\n",
        "                --сортируем по второму столбцу, т.е. по количеству работодателей\n",
        "                order by 2 desc\n",
        "            '''"
      ]
    },
    {
      "cell_type": "code",
      "execution_count": 8,
      "id": "x1ikWbydrbf6",
      "metadata": {
        "id": "x1ikWbydrbf6"
      },
      "outputs": [
        {
          "data": {
            "text/html": [
              "<div>\n",
              "<style scoped>\n",
              "    .dataframe tbody tr th:only-of-type {\n",
              "        vertical-align: middle;\n",
              "    }\n",
              "\n",
              "    .dataframe tbody tr th {\n",
              "        vertical-align: top;\n",
              "    }\n",
              "\n",
              "    .dataframe thead th {\n",
              "        text-align: right;\n",
              "    }\n",
              "</style>\n",
              "<table border=\"1\" class=\"dataframe\">\n",
              "  <thead>\n",
              "    <tr style=\"text-align: right;\">\n",
              "      <th></th>\n",
              "      <th>area</th>\n",
              "      <th>employers_count</th>\n",
              "      <th>vac_count</th>\n",
              "    </tr>\n",
              "  </thead>\n",
              "  <tbody>\n",
              "    <tr>\n",
              "      <th>0</th>\n",
              "      <td>Россия</td>\n",
              "      <td>410</td>\n",
              "      <td>0</td>\n",
              "    </tr>\n",
              "    <tr>\n",
              "      <th>1</th>\n",
              "      <td>Казахстан</td>\n",
              "      <td>207</td>\n",
              "      <td>0</td>\n",
              "    </tr>\n",
              "    <tr>\n",
              "      <th>2</th>\n",
              "      <td>Московская область</td>\n",
              "      <td>75</td>\n",
              "      <td>0</td>\n",
              "    </tr>\n",
              "    <tr>\n",
              "      <th>3</th>\n",
              "      <td>Краснодарский край</td>\n",
              "      <td>19</td>\n",
              "      <td>0</td>\n",
              "    </tr>\n",
              "    <tr>\n",
              "      <th>4</th>\n",
              "      <td>Ростовская область</td>\n",
              "      <td>18</td>\n",
              "      <td>0</td>\n",
              "    </tr>\n",
              "    <tr>\n",
              "      <th>...</th>\n",
              "      <td>...</td>\n",
              "      <td>...</td>\n",
              "      <td>...</td>\n",
              "    </tr>\n",
              "    <tr>\n",
              "      <th>588</th>\n",
              "      <td>Скидель</td>\n",
              "      <td>0</td>\n",
              "      <td>0</td>\n",
              "    </tr>\n",
              "    <tr>\n",
              "      <th>589</th>\n",
              "      <td>Белоозерск</td>\n",
              "      <td>0</td>\n",
              "      <td>0</td>\n",
              "    </tr>\n",
              "    <tr>\n",
              "      <th>590</th>\n",
              "      <td>Орловский</td>\n",
              "      <td>0</td>\n",
              "      <td>0</td>\n",
              "    </tr>\n",
              "    <tr>\n",
              "      <th>591</th>\n",
              "      <td>Павловская</td>\n",
              "      <td>0</td>\n",
              "      <td>0</td>\n",
              "    </tr>\n",
              "    <tr>\n",
              "      <th>592</th>\n",
              "      <td>Таксимо</td>\n",
              "      <td>0</td>\n",
              "      <td>0</td>\n",
              "    </tr>\n",
              "  </tbody>\n",
              "</table>\n",
              "<p>593 rows × 3 columns</p>\n",
              "</div>"
            ],
            "text/plain": [
              "                   area  employers_count  vac_count\n",
              "0                Россия              410          0\n",
              "1             Казахстан              207          0\n",
              "2    Московская область               75          0\n",
              "3    Краснодарский край               19          0\n",
              "4    Ростовская область               18          0\n",
              "..                  ...              ...        ...\n",
              "588             Скидель                0          0\n",
              "589          Белоозерск                0          0\n",
              "590           Орловский                0          0\n",
              "591          Павловская                0          0\n",
              "592             Таксимо                0          0\n",
              "\n",
              "[593 rows x 3 columns]"
            ]
          },
          "metadata": {},
          "output_type": "display_data"
        },
        {
          "data": {
            "text/plain": [
              "'Регион где нет вакансий и самое болшое количество работодателей:Россия'"
            ]
          },
          "metadata": {},
          "output_type": "display_data"
        }
      ],
      "source": [
        "# результат запроса\n",
        "df_5_2 = pd.read_sql_query(query_5_2, connection)\n",
        "display(df_5_2)\n",
        "display(f'Регион где нет вакансий и самое болшое количество работодателей:{df_5_2.iloc[0,0]}')"
      ]
    },
    {
      "cell_type": "markdown",
      "id": "f2fe0acb-ab1a-4e15-9326-2560e22d73c1",
      "metadata": {
        "id": "f2fe0acb-ab1a-4e15-9326-2560e22d73c1"
      },
      "source": [
        "3. Для каждого работодателя посчитайте количество регионов, в которых он публикует свои вакансии. Отсортируйте результат по убыванию количества.\n"
      ]
    },
    {
      "cell_type": "code",
      "execution_count": 11,
      "id": "6271f8ad-bd2e-4196-ae4a-5b39c4c1010e",
      "metadata": {
        "id": "6271f8ad-bd2e-4196-ae4a-5b39c4c1010e"
      },
      "outputs": [],
      "source": [
        "# текст запроса\n",
        "query_5_3 = f'''select\n",
        "                    --выбираем работодателей    \n",
        "                    e.name employer,\n",
        "                    --считаем уникальные значения по id региона\n",
        "                    count(distinct v.area_id) areas_count    \n",
        "                --к таблице работодателей \n",
        "                from  employers e \n",
        "                    --присоединяем левым join таблицу вакансий по id работодателя\n",
        "                    left join vacancies v on e.id = v.employer_id \n",
        "                --группируем по id работодателя \n",
        "                group by e.id\n",
        "                --сортируем по второму столбцу, т.е. по количеству уникальных id региона\n",
        "                order by 2 desc\n",
        "            '''"
      ]
    },
    {
      "cell_type": "code",
      "execution_count": 12,
      "id": "1EIvX3HasH4F",
      "metadata": {
        "id": "1EIvX3HasH4F"
      },
      "outputs": [
        {
          "data": {
            "text/html": [
              "<div>\n",
              "<style scoped>\n",
              "    .dataframe tbody tr th:only-of-type {\n",
              "        vertical-align: middle;\n",
              "    }\n",
              "\n",
              "    .dataframe tbody tr th {\n",
              "        vertical-align: top;\n",
              "    }\n",
              "\n",
              "    .dataframe thead th {\n",
              "        text-align: right;\n",
              "    }\n",
              "</style>\n",
              "<table border=\"1\" class=\"dataframe\">\n",
              "  <thead>\n",
              "    <tr style=\"text-align: right;\">\n",
              "      <th></th>\n",
              "      <th>employer</th>\n",
              "      <th>areas_count</th>\n",
              "    </tr>\n",
              "  </thead>\n",
              "  <tbody>\n",
              "    <tr>\n",
              "      <th>0</th>\n",
              "      <td>Яндекс</td>\n",
              "      <td>181</td>\n",
              "    </tr>\n",
              "    <tr>\n",
              "      <th>1</th>\n",
              "      <td>Ростелеком</td>\n",
              "      <td>152</td>\n",
              "    </tr>\n",
              "    <tr>\n",
              "      <th>2</th>\n",
              "      <td>Спецремонт</td>\n",
              "      <td>116</td>\n",
              "    </tr>\n",
              "    <tr>\n",
              "      <th>3</th>\n",
              "      <td>Поляков Денис Иванович</td>\n",
              "      <td>88</td>\n",
              "    </tr>\n",
              "    <tr>\n",
              "      <th>4</th>\n",
              "      <td>ООО ЕФИН</td>\n",
              "      <td>71</td>\n",
              "    </tr>\n",
              "    <tr>\n",
              "      <th>...</th>\n",
              "      <td>...</td>\n",
              "      <td>...</td>\n",
              "    </tr>\n",
              "    <tr>\n",
              "      <th>23496</th>\n",
              "      <td>Но Смокинг</td>\n",
              "      <td>0</td>\n",
              "    </tr>\n",
              "    <tr>\n",
              "      <th>23497</th>\n",
              "      <td>МАСТЕРСКАЯ CREED</td>\n",
              "      <td>0</td>\n",
              "    </tr>\n",
              "    <tr>\n",
              "      <th>23498</th>\n",
              "      <td>Dzing Finance</td>\n",
              "      <td>0</td>\n",
              "    </tr>\n",
              "    <tr>\n",
              "      <th>23499</th>\n",
              "      <td>КОРС</td>\n",
              "      <td>0</td>\n",
              "    </tr>\n",
              "    <tr>\n",
              "      <th>23500</th>\n",
              "      <td>Наука-Связь</td>\n",
              "      <td>0</td>\n",
              "    </tr>\n",
              "  </tbody>\n",
              "</table>\n",
              "<p>23501 rows × 2 columns</p>\n",
              "</div>"
            ],
            "text/plain": [
              "                     employer  areas_count\n",
              "0                      Яндекс          181\n",
              "1                  Ростелеком          152\n",
              "2                  Спецремонт          116\n",
              "3      Поляков Денис Иванович           88\n",
              "4                   ООО ЕФИН            71\n",
              "...                       ...          ...\n",
              "23496              Но Смокинг            0\n",
              "23497        МАСТЕРСКАЯ CREED            0\n",
              "23498           Dzing Finance            0\n",
              "23499                    КОРС            0\n",
              "23500             Наука-Связь            0\n",
              "\n",
              "[23501 rows x 2 columns]"
            ]
          },
          "metadata": {},
          "output_type": "display_data"
        }
      ],
      "source": [
        "# результат запроса\n",
        "df_5_3 = pd.read_sql_query(query_5_3, connection)\n",
        "display(df_5_3)\n"
      ]
    },
    {
      "cell_type": "markdown",
      "id": "eab2206d-d95b-468b-8e5f-34381abf0ce7",
      "metadata": {
        "id": "eab2206d-d95b-468b-8e5f-34381abf0ce7"
      },
      "source": [
        "4. Напишите запрос для подсчёта количества работодателей, у которых не указана сфера деятельности. "
      ]
    },
    {
      "cell_type": "code",
      "execution_count": 13,
      "id": "80defb23-bfb1-4a18-8be6-bf36aa7165d5",
      "metadata": {
        "id": "80defb23-bfb1-4a18-8be6-bf36aa7165d5"
      },
      "outputs": [],
      "source": [
        "# текст запроса\n",
        "query_5_4 = f'''select\n",
        "                    --считаем уникальные id работодателя    \n",
        "                    count(distinct e.id)    \n",
        "                --к таблице работодателей\n",
        "                from  employers e \n",
        "                    --присоединяем левым join таблицу employers_industries по id работодателя\n",
        "                    left join employers_industries ei on e.id = ei.employer_id \n",
        "                --фильтруем значения, оставляеме только тех работодалей\n",
        "                --у которых не заполнена сфера деятельности\n",
        "                where ei.industry_id is null\n",
        "             '''"
      ]
    },
    {
      "cell_type": "code",
      "execution_count": 14,
      "id": "Dp_yCx6ysQSu",
      "metadata": {
        "id": "Dp_yCx6ysQSu"
      },
      "outputs": [
        {
          "data": {
            "text/plain": [
              "'Количество работодателей у которых не указана сфера деятульности:8419'"
            ]
          },
          "metadata": {},
          "output_type": "display_data"
        }
      ],
      "source": [
        "# результат запроса\n",
        "df_5_4 = pd.read_sql_query(query_5_4, connection)\n",
        "display(f'Количество работодателей у которых не указана сфера деятульности:{df_5_4.iloc[0,0]}')"
      ]
    },
    {
      "cell_type": "markdown",
      "id": "0112af31-f6b0-4e3b-82ab-71296e752e5e",
      "metadata": {
        "id": "0112af31-f6b0-4e3b-82ab-71296e752e5e"
      },
      "source": [
        "5. Напишите запрос, чтобы узнать название компании, находящейся на третьем месте в алфавитном списке (по названию) компаний, у которых указано четыре сферы деятельности. "
      ]
    },
    {
      "cell_type": "code",
      "execution_count": 15,
      "id": "973b0cfc-a972-470a-8b4a-68744ef220c4",
      "metadata": {
        "id": "973b0cfc-a972-470a-8b4a-68744ef220c4"
      },
      "outputs": [],
      "source": [
        "# текст запроса\n",
        "query_5_5 = f'''select\n",
        "                    --название компании\n",
        "                    e.name    \n",
        "                --к таблице связке работодатель-сферая деятельности\n",
        "                from employers_industries ei \n",
        "                    --присоединяем таблицу работодателей по id работотдателя\n",
        "                    join employers e on ei.employer_id = e.id \n",
        "                --группируем по имени работодателя\n",
        "                group by e.name\n",
        "                --фильтруем по количеству видов деятельности равному четырем\n",
        "                having count(ei.industry_id) = 4\n",
        "                --сортируем в алфавитном порядку\n",
        "                order by e.name\n",
        "                --выводим 3 место\n",
        "                offset 2 limit 1\n",
        "             '''"
      ]
    },
    {
      "cell_type": "code",
      "execution_count": 16,
      "id": "xsPtpp8EsaED",
      "metadata": {
        "id": "xsPtpp8EsaED"
      },
      "outputs": [
        {
          "data": {
            "text/plain": [
              "'Название компании, находящейся на третьем месте в алфавитном списке (по названию) компаний, у которой указано четыре сферы деятельности:2ГИС'"
            ]
          },
          "metadata": {},
          "output_type": "display_data"
        }
      ],
      "source": [
        "# результат запроса\n",
        "df_5_5 = pd.read_sql_query(query_5_5, connection)\n",
        "display(f'Название компании, находящейся на третьем месте в алфавитном списке (по названию) компаний, у которой указано четыре сферы деятельности:{df_5_5.iloc[0,0]}')\n"
      ]
    },
    {
      "cell_type": "markdown",
      "id": "3bfcfdaf-755d-4d2b-8ed8-326201dc07ab",
      "metadata": {
        "id": "3bfcfdaf-755d-4d2b-8ed8-326201dc07ab"
      },
      "source": [
        "6. С помощью запроса выясните, у какого количества работодателей в качестве сферы деятельности указана Разработка программного обеспечения.\n"
      ]
    },
    {
      "cell_type": "code",
      "execution_count": 17,
      "id": "ad3f270f-2991-47eb-929b-e8f88a55b0d1",
      "metadata": {
        "id": "ad3f270f-2991-47eb-929b-e8f88a55b0d1"
      },
      "outputs": [],
      "source": [
        "# текст запроса\n",
        "query_5_6 = f'''select\n",
        "                    --считаем количество работодателей \n",
        "                    count(ei.employer_id)    \n",
        "                --к таблице связке работодатель-сферая деятельности\n",
        "                from employers_industries ei \n",
        "                    --присоединяем таблицу сфер деятельности  по id сферы деятельности\n",
        "                    join industries i on ei.industry_id = i.id \n",
        "                --фильтруем по сфере деятельности\n",
        "                where i.name like 'Разработка программного обеспечения'\n",
        "                \n",
        "             '''"
      ]
    },
    {
      "cell_type": "code",
      "execution_count": 18,
      "id": "H72qxWM0shPR",
      "metadata": {
        "id": "H72qxWM0shPR"
      },
      "outputs": [
        {
          "data": {
            "text/plain": [
              "'Количество работодателей у которых в качестве сферы деятельности указана \"Разработка программного обеспечения\":3553'"
            ]
          },
          "metadata": {},
          "output_type": "display_data"
        }
      ],
      "source": [
        "# результат запроса\n",
        "df_5_6 = pd.read_sql_query(query_5_6, connection)\n",
        "count_it_vac = df_5_6.iloc[0,0]\n",
        "display(f'Количество работодателей у которых в качестве сферы деятельности указана \"Разработка программного обеспечения\":{count_it_vac}')"
      ]
    },
    {
      "cell_type": "markdown",
      "id": "68fb9c33",
      "metadata": {},
      "source": [
        "6. 1. Дополнительно вычислим долю работодателей у которых в качестве сферы деятельности<br> указана \"Разработка программного обеспечения\""
      ]
    },
    {
      "cell_type": "code",
      "execution_count": 41,
      "id": "afb3aad6",
      "metadata": {},
      "outputs": [
        {
          "data": {
            "text/plain": [
              "'Доля работодателей у которых в качестве сферы деятельности указана \"Разработка программного обеспечения\":15%'"
            ]
          },
          "metadata": {},
          "output_type": "display_data"
        }
      ],
      "source": [
        "display(f'Доля работодателей у которых в качестве сферы деятельности указана \"Разработка программного обеспечения\":{round(count_it_vac/employers_total_amount*100)}%')"
      ]
    },
    {
      "cell_type": "markdown",
      "id": "7b02bb86-0546-40fb-94a4-242f050a5c57",
      "metadata": {
        "id": "7b02bb86-0546-40fb-94a4-242f050a5c57"
      },
      "source": [
        "7. Для компании «Яндекс» выведите список регионов-миллионников, в которых представлены вакансии компании, вместе с количеством вакансий в этих регионах. Также добавьте строку Total с общим количеством вакансий компании. Результат отсортируйте по возрастанию количества.\n",
        "\n",
        "\n",
        "Список городов-милионников надо взять [отсюда](https://ru.wikipedia.org/wiki/%D0%93%D0%BE%D1%80%D0%BE%D0%B4%D0%B0-%D0%BC%D0%B8%D0%BB%D0%BB%D0%B8%D0%BE%D0%BD%D0%B5%D1%80%D1%8B_%D0%A0%D0%BE%D1%81%D1%81%D0%B8%D0%B8). \n",
        "\n",
        "Если возникнут трудности с этим задание посмотрите материалы модуля  PYTHON-17. Как получать данные из веб-источников и API. "
      ]
    },
    {
      "cell_type": "code",
      "execution_count": 19,
      "id": "ZdfrL6gIs1Pn",
      "metadata": {
        "id": "ZdfrL6gIs1Pn"
      },
      "outputs": [],
      "source": [
        "# код для получения списка городов-милионников\n",
        "\n",
        "# вставляем оригинальную ссылку из Википедии\n",
        "path_common = req.urlparse('https://ru.wikipedia.org/wiki/Города-миллионеры_России')\n",
        "# приводим в читабельный вид\n",
        "url = path_common.scheme + '://' + req.quote(path_common.netloc) +  req.quote(path_common.path) + '#'+ req.quote(path_common.fragment)\n",
        "# получаем списао таблиц на страницу\n",
        "tables = pd.read_html(url)\n",
        "# сохраняем в кортеж с названиями стран в переменную \n",
        "million_cities = tuple(tables[1]['Город'])\n"
      ]
    },
    {
      "cell_type": "code",
      "execution_count": 20,
      "id": "5a0e32a4-e68a-4365-8a39-2fe24c542c36",
      "metadata": {
        "id": "5a0e32a4-e68a-4365-8a39-2fe24c542c36"
      },
      "outputs": [],
      "source": [
        "# текст запроса\n",
        "query_5_7 = f'''select\n",
        "                    --название региона \n",
        "                    a.name \"регион\",\n",
        "                    --количество вакансий в нем\n",
        "                    count(v.id) \"количество вакансий\"\n",
        "                --к таблице вакансий       \n",
        "                from vacancies v \n",
        "                    --присоединяем таблицу работодателей по id работодателя\n",
        "                    join employers e on v.employer_id = e.id\n",
        "                    --присоединяем таблицу регионов по id региона\n",
        "                    join areas a on v.area_id = a.id\n",
        "                --фильтарция по имени работодателя\n",
        "                where e.name like 'Яндекс'\n",
        "                --группировка по регионам\n",
        "                group by a.id\n",
        "                --фильтарция только городов миллионников\n",
        "                having a.name in {million_cities}\n",
        "                \n",
        "                union all --объединяем \n",
        "                \n",
        "                -- добавляем строчку с общим количеством вакансий Яндекса\n",
        "                select\n",
        "                    'Total',\n",
        "                    --считаем общее количесвто вакансий Яндекса\n",
        "                    count(v.id)        \n",
        "                from vacancies v \n",
        "                    join employers e on v.employer_id = e.id\n",
        "                    join areas a on v.area_id = a.id\n",
        "                where e.name like 'Яндекс'\n",
        "                    and a.name in {million_cities}\n",
        "                \n",
        "                --сортируем по убыванию количества вакансий \n",
        "                order by \"количество вакансий\"\n",
        "                \n",
        "             '''"
      ]
    },
    {
      "cell_type": "code",
      "execution_count": 21,
      "id": "ttPhiO1rsvPq",
      "metadata": {
        "id": "ttPhiO1rsvPq"
      },
      "outputs": [
        {
          "data": {
            "text/html": [
              "<div>\n",
              "<style scoped>\n",
              "    .dataframe tbody tr th:only-of-type {\n",
              "        vertical-align: middle;\n",
              "    }\n",
              "\n",
              "    .dataframe tbody tr th {\n",
              "        vertical-align: top;\n",
              "    }\n",
              "\n",
              "    .dataframe thead th {\n",
              "        text-align: right;\n",
              "    }\n",
              "</style>\n",
              "<table border=\"1\" class=\"dataframe\">\n",
              "  <thead>\n",
              "    <tr style=\"text-align: right;\">\n",
              "      <th></th>\n",
              "      <th>регион</th>\n",
              "      <th>количество вакансий</th>\n",
              "    </tr>\n",
              "  </thead>\n",
              "  <tbody>\n",
              "    <tr>\n",
              "      <th>0</th>\n",
              "      <td>Омск</td>\n",
              "      <td>21</td>\n",
              "    </tr>\n",
              "    <tr>\n",
              "      <th>1</th>\n",
              "      <td>Челябинск</td>\n",
              "      <td>22</td>\n",
              "    </tr>\n",
              "    <tr>\n",
              "      <th>2</th>\n",
              "      <td>Красноярск</td>\n",
              "      <td>23</td>\n",
              "    </tr>\n",
              "    <tr>\n",
              "      <th>3</th>\n",
              "      <td>Волгоград</td>\n",
              "      <td>24</td>\n",
              "    </tr>\n",
              "    <tr>\n",
              "      <th>4</th>\n",
              "      <td>Пермь</td>\n",
              "      <td>25</td>\n",
              "    </tr>\n",
              "    <tr>\n",
              "      <th>5</th>\n",
              "      <td>Казань</td>\n",
              "      <td>25</td>\n",
              "    </tr>\n",
              "    <tr>\n",
              "      <th>6</th>\n",
              "      <td>Ростов-на-Дону</td>\n",
              "      <td>25</td>\n",
              "    </tr>\n",
              "    <tr>\n",
              "      <th>7</th>\n",
              "      <td>Самара</td>\n",
              "      <td>26</td>\n",
              "    </tr>\n",
              "    <tr>\n",
              "      <th>8</th>\n",
              "      <td>Уфа</td>\n",
              "      <td>26</td>\n",
              "    </tr>\n",
              "    <tr>\n",
              "      <th>9</th>\n",
              "      <td>Краснодар</td>\n",
              "      <td>30</td>\n",
              "    </tr>\n",
              "    <tr>\n",
              "      <th>10</th>\n",
              "      <td>Воронеж</td>\n",
              "      <td>32</td>\n",
              "    </tr>\n",
              "    <tr>\n",
              "      <th>11</th>\n",
              "      <td>Новосибирск</td>\n",
              "      <td>35</td>\n",
              "    </tr>\n",
              "    <tr>\n",
              "      <th>12</th>\n",
              "      <td>Нижний Новгород</td>\n",
              "      <td>36</td>\n",
              "    </tr>\n",
              "    <tr>\n",
              "      <th>13</th>\n",
              "      <td>Екатеринбург</td>\n",
              "      <td>39</td>\n",
              "    </tr>\n",
              "    <tr>\n",
              "      <th>14</th>\n",
              "      <td>Санкт-Петербург</td>\n",
              "      <td>42</td>\n",
              "    </tr>\n",
              "    <tr>\n",
              "      <th>15</th>\n",
              "      <td>Москва</td>\n",
              "      <td>54</td>\n",
              "    </tr>\n",
              "    <tr>\n",
              "      <th>16</th>\n",
              "      <td>Total</td>\n",
              "      <td>485</td>\n",
              "    </tr>\n",
              "  </tbody>\n",
              "</table>\n",
              "</div>"
            ],
            "text/plain": [
              "             регион  количество вакансий\n",
              "0              Омск                   21\n",
              "1         Челябинск                   22\n",
              "2        Красноярск                   23\n",
              "3         Волгоград                   24\n",
              "4             Пермь                   25\n",
              "5            Казань                   25\n",
              "6    Ростов-на-Дону                   25\n",
              "7            Самара                   26\n",
              "8               Уфа                   26\n",
              "9         Краснодар                   30\n",
              "10          Воронеж                   32\n",
              "11      Новосибирск                   35\n",
              "12  Нижний Новгород                   36\n",
              "13     Екатеринбург                   39\n",
              "14  Санкт-Петербург                   42\n",
              "15           Москва                   54\n",
              "16            Total                  485"
            ]
          },
          "metadata": {},
          "output_type": "display_data"
        }
      ],
      "source": [
        "# результат запроса\n",
        "df_5_7 = pd.read_sql_query(query_5_7, connection)\n",
        "display(df_5_7)"
      ]
    },
    {
      "cell_type": "markdown",
      "id": "04966e40-3bc3-4dc8-9ba2-e80580ce3abc",
      "metadata": {
        "id": "04966e40-3bc3-4dc8-9ba2-e80580ce3abc"
      },
      "source": [
        "***"
      ]
    },
    {
      "cell_type": "markdown",
      "id": "edc880fd",
      "metadata": {},
      "source": [
        "7. 1. Дополнительно выясним сколько вакансий \"Янекс\" разместил по всей стране\". Сгруппируем вакансии группам городов в зависимости от количества населения:\n",
        "\n",
        "* *Крупнейшие* —  с населением свыше 1 миллиона человек\n",
        "* *Крупные* —  от 250 тысяч человек до 1 миллиона человек (в том числе подкатегории от 250 до 500 тысяч и от 500 тысяч до 1 миллиона человек)\n",
        "* *Большие* —  от 100 до 250 тысяч человек\n",
        "* *Средние* —  от 50 до 100 тысяч человек\n",
        "* *Малые* —  до 50 тысяч человек"
      ]
    },
    {
      "cell_type": "code",
      "execution_count": 44,
      "id": "9afb706f",
      "metadata": {},
      "outputs": [
        {
          "data": {
            "text/plain": [
              "tuple"
            ]
          },
          "metadata": {},
          "output_type": "display_data"
        }
      ],
      "source": [
        "all_rus_cities = million_cities+large_cities_500_1000+large_cities_250_500+big_cities+middle_cities+small_cities\n",
        "display(type(all_rus_cities))"
      ]
    },
    {
      "cell_type": "code",
      "execution_count": 53,
      "id": "21c863d5",
      "metadata": {},
      "outputs": [],
      "source": [
        "\n",
        "             \n",
        "# текст запроса\n",
        "query_5_7_1 = f'''\n",
        "                -- добавляем строчку с общим количеством вакансий Яндекса в городах-миллионниках\n",
        "                select\n",
        "                    'Крупнейшие,более 1 миллиона человек'\"Тип города по населению\",\n",
        "                    count(v.id) \"количество вакансий\"\n",
        "                        \n",
        "                from vacancies v \n",
        "                    join employers e on v.employer_id = e.id\n",
        "                    join areas a on v.area_id = a.id\n",
        "                where e.name like 'Яндекс'\n",
        "                        and a.name in {million_cities}\n",
        "                \n",
        "                union all\n",
        "                -- добавляем строчку с общим количеством вакансий Яндекса в Крупных горохда 500000-1000000 человек\n",
        "                \n",
        "                select\n",
        "                    'Крупные 500000-1000000 человек',\n",
        "                    count(v.id)\n",
        "                        \n",
        "                from vacancies v \n",
        "                    join employers e on v.employer_id = e.id\n",
        "                    join areas a on v.area_id = a.id\n",
        "                where e.name like 'Яндекс'\n",
        "                        and a.name in {large_cities_500_1000}\n",
        "                        \n",
        "                union all\n",
        "                -- добавляем строчку с общим количеством вакансий Яндекса в Крупных городах 250000-500000 человек\n",
        "                \n",
        "                select\n",
        "                    'Крупные 250000-500000 человек',\n",
        "                    count(v.id)\n",
        "                        \n",
        "                from vacancies v \n",
        "                    join employers e on v.employer_id = e.id\n",
        "                    join areas a on v.area_id = a.id\n",
        "                where e.name like 'Яндекс'\n",
        "                        and a.name in {large_cities_250_500}\n",
        "                        \n",
        "                union all\n",
        "                -- добавляем строчку с общим количеством вакансий Яндекса в Больших города 250000-500000 человек\n",
        "                \n",
        "                select\n",
        "                    'Большие, 100000-250000 человек',\n",
        "                    count(v.id)\n",
        "                        \n",
        "                from vacancies v \n",
        "                    join employers e on v.employer_id = e.id\n",
        "                    join areas a on v.area_id = a.id\n",
        "                where e.name like 'Яндекс'\n",
        "                        and a.name in {big_cities}\n",
        "                \n",
        "                union all\n",
        "                -- добавляем строчку с общим количеством вакансий Яндекса в Средних городах 250000-500000 человек\n",
        "                \n",
        "                select\n",
        "                    'Средние,50000-100000 человек',\n",
        "                    count(v.id)\n",
        "                        \n",
        "                from vacancies v \n",
        "                    join employers e on v.employer_id = e.id\n",
        "                    join areas a on v.area_id = a.id\n",
        "                where e.name like 'Яндекс'\n",
        "                        and a.name in {middle_cities}\n",
        "                \n",
        "                union all \n",
        "                -- добавляем строчку с общим количеством вакансий Яндекса в малых городах до 50000 человек   \n",
        "                \n",
        "                select\n",
        "                    'Малые, до 50000 человек',\n",
        "                    count(v.id)\n",
        "                        \n",
        "                from vacancies v \n",
        "                    join employers e on v.employer_id = e.id\n",
        "                    join areas a on v.area_id = a.id\n",
        "                where e.name like 'Яндекс'\n",
        "                        and a.name in {small_cities}\n",
        "                        \n",
        "                union all    \n",
        "                -- добавляем строчку с общим количеством вакансий Яндекса в российских городах \n",
        "                \n",
        "                select\n",
        "                    'Всего в российских городах',\n",
        "                    count(v.id)\n",
        "                        \n",
        "                from vacancies v \n",
        "                    join employers e on v.employer_id = e.id\n",
        "                    join areas a on v.area_id = a.id\n",
        "                where e.name like 'Яндекс'\n",
        "                        and a.name in {all_rus_cities}\n",
        "                        \n",
        "                union all    \n",
        "                -- добавляем строчку с общим количеством вакансий Яндекса \n",
        "                \n",
        "                select\n",
        "                    'Всего вакансий Яндекса',\n",
        "                    {total_yandex_vacancies}\n",
        "                    \n",
        "                --сортируем по убыванию количества вакансий         \n",
        "                order by \"количество вакансий\" desc\n",
        "                '''"
      ]
    },
    {
      "cell_type": "code",
      "execution_count": 54,
      "id": "27488fc2",
      "metadata": {},
      "outputs": [
        {
          "data": {
            "text/html": [
              "<div>\n",
              "<style scoped>\n",
              "    .dataframe tbody tr th:only-of-type {\n",
              "        vertical-align: middle;\n",
              "    }\n",
              "\n",
              "    .dataframe tbody tr th {\n",
              "        vertical-align: top;\n",
              "    }\n",
              "\n",
              "    .dataframe thead th {\n",
              "        text-align: right;\n",
              "    }\n",
              "</style>\n",
              "<table border=\"1\" class=\"dataframe\">\n",
              "  <thead>\n",
              "    <tr style=\"text-align: right;\">\n",
              "      <th></th>\n",
              "      <th>Тип города по населению</th>\n",
              "      <th>количество вакансий</th>\n",
              "    </tr>\n",
              "  </thead>\n",
              "  <tbody>\n",
              "    <tr>\n",
              "      <th>0</th>\n",
              "      <td>Всего вакансий Яндекса</td>\n",
              "      <td>1933</td>\n",
              "    </tr>\n",
              "    <tr>\n",
              "      <th>1</th>\n",
              "      <td>Всего в российских городах</td>\n",
              "      <td>1797</td>\n",
              "    </tr>\n",
              "    <tr>\n",
              "      <th>2</th>\n",
              "      <td>Крупнейшие,более 1 миллиона человек</td>\n",
              "      <td>485</td>\n",
              "    </tr>\n",
              "    <tr>\n",
              "      <th>3</th>\n",
              "      <td>Большие, 100000-250000 человек</td>\n",
              "      <td>474</td>\n",
              "    </tr>\n",
              "    <tr>\n",
              "      <th>4</th>\n",
              "      <td>Крупные 250000-500000 человек</td>\n",
              "      <td>422</td>\n",
              "    </tr>\n",
              "    <tr>\n",
              "      <th>5</th>\n",
              "      <td>Крупные 500000-1000000 человек</td>\n",
              "      <td>405</td>\n",
              "    </tr>\n",
              "    <tr>\n",
              "      <th>6</th>\n",
              "      <td>Средние,50000-100000 человек</td>\n",
              "      <td>11</td>\n",
              "    </tr>\n",
              "    <tr>\n",
              "      <th>7</th>\n",
              "      <td>Малые, до 50000 человек</td>\n",
              "      <td>0</td>\n",
              "    </tr>\n",
              "  </tbody>\n",
              "</table>\n",
              "</div>"
            ],
            "text/plain": [
              "               Тип города по населению  количество вакансий\n",
              "0               Всего вакансий Яндекса                 1933\n",
              "1           Всего в российских городах                 1797\n",
              "2  Крупнейшие,более 1 миллиона человек                  485\n",
              "3       Большие, 100000-250000 человек                  474\n",
              "4        Крупные 250000-500000 человек                  422\n",
              "5       Крупные 500000-1000000 человек                  405\n",
              "6         Средние,50000-100000 человек                   11\n",
              "7              Малые, до 50000 человек                    0"
            ]
          },
          "metadata": {},
          "output_type": "display_data"
        }
      ],
      "source": [
        "df_5_7_1 = pd.read_sql_query(query_5_7_1, connection)\n",
        "display(df_5_7_1)"
      ]
    },
    {
      "cell_type": "code",
      "execution_count": 56,
      "id": "90974ee3",
      "metadata": {},
      "outputs": [
        {
          "data": {
            "text/plain": [
              "'93% вакансий яндекса в России'"
            ]
          },
          "metadata": {},
          "output_type": "display_data"
        }
      ],
      "source": [
        "display(f'{round(df_5_7_1.iloc[1,1]/total_yandex_vacancies*100)}% вакансий яндекса в России')"
      ]
    },
    {
      "cell_type": "code",
      "execution_count": 57,
      "id": "81b84aca",
      "metadata": {},
      "outputs": [],
      "source": [
        "connection.close()"
      ]
    },
    {
      "cell_type": "code",
      "execution_count": null,
      "id": "aGGyER-yt4SR",
      "metadata": {
        "id": "aGGyER-yt4SR"
      },
      "outputs": [],
      "source": [
        "# выводы по анализу работодателей"
      ]
    },
    {
      "cell_type": "markdown",
      "id": "5a339ae3",
      "metadata": {},
      "source": [
        "Выводы по анализу работодателей:\n",
        "\n",
        "1. В топе по количеству вакансий технолочичные компании:такие как Яндекс, Ростелеком, СБЕР - это может свидетельствовать о том , для них портал HH.ru является хорошим источником для поиска персонала, и соискатели которые там обитают их устраивают по корпоративным требованиям.\n",
        "\n",
        "2. На HH.ru больше всего работодателей без вакансий из России. Возможные причины: \n",
        "\n",
        "* портал изначально российский;\n",
        "* В России больше всего работодателей с полностью укомплектованным штатом сотрудников в данный момент;\n",
        "\n",
        "3. Доля IT компаний на HH.ru составляет 15% что является существенной долей в структуре клиентов компании (HH.ru), что обязывает учитывать интиресы индустирии (IT) и при работе, развитии сервиса.\n",
        "\n",
        "4. Яндекс раскинул свои щупальца по всей стране(России). 93% вакансий  Яндекса в России. Онии равномерно распределены по городам-миллионикам, крупным городам,большим городам, и средним. В малых городах Яндекс не размещал свои вакансии, это логично ведь из малых городов соискатели будут искать вакансии в ближайших средних и больших городах. Либо они от туда уже уехали вообще \n"
      ]
    },
    {
      "cell_type": "code",
      "execution_count": 15,
      "id": "398703e0",
      "metadata": {},
      "outputs": [
        {
          "data": {
            "application/vnd.plotly.v1+json": {
              "config": {
                "plotlyServerURL": "https://plot.ly"
              },
              "data": [
                {
                  "lat": [
                    44.878414,
                    44.6098268,
                    51.9581028,
                    52.4922513,
                    53.3479968,
                    51.996152,
                    52.5393864,
                    50.9979622,
                    53.7063476,
                    51.1581094,
                    53.7913974,
                    53.4119759,
                    51.5012067,
                    52.999463,
                    52.9252146,
                    50.9213415,
                    50.290659,
                    50.1064111,
                    53.7340088,
                    49.7941615,
                    51.3614103,
                    53.9871095,
                    55.1546441,
                    51.762481,
                    52.0051886,
                    64.5394289,
                    61.066,
                    61.5009724,
                    61.2885948,
                    61.2528972,
                    65.8398078,
                    62.7645265,
                    64.4136851,
                    61.6654674,
                    63.9162928,
                    64.5625385,
                    61.3319616,
                    62.1057272,
                    46.3655652,
                    48.2752034,
                    48.5866291,
                    46.110579,
                    46.6916565,
                    47.408999,
                    55.8999056,
                    52.5912896,
                    54.1034582,
                    53.9676488,
                    55.4155753,
                    55.0499867,
                    54.2226707,
                    55.4848318,
                    53.4545764,
                    52.7564939,
                    54.2397689,
                    52.9589532,
                    56.088377,
                    54.4815311,
                    53.3616974,
                    52.7204651,
                    53.6300864,
                    54.5999224,
                    54.734944,
                    54.3067375,
                    56.2650146,
                    50.6299647,
                    50.5976472,
                    50.6484585,
                    50.2111207,
                    50.4862958,
                    51.2837123,
                    50.8129041,
                    50.7633747,
                    51.2967101,
                    50.7845099,
                    50.4004883,
                    53.2419535,
                    53.5958178,
                    53.5340397,
                    52.4267015,
                    53.1296524,
                    52.7529119,
                    53.0599771,
                    52.537173,
                    52.9154851,
                    52.1483358,
                    53.3739884,
                    52.5852257,
                    53.0170888,
                    52.5791734,
                    52.8461199,
                    53.4554145,
                    51.7112755,
                    51.2865048,
                    50.372713,
                    50.346543,
                    55.635614,
                    51.8335853,
                    56.391819,
                    56.1280804,
                    56.29773,
                    56.2021036,
                    55.6198751,
                    56.3490152,
                    56.3131822,
                    56.1486863,
                    56.3554349,
                    56.3327254,
                    55.9337222,
                    55.452698,
                    56.0180587,
                    55.3387515,
                    55.5630311,
                    55.9298134,
                    55.9166398,
                    55.9960277,
                    55.9939169,
                    56.3749967,
                    55.9498056,
                    56.4274441,
                    56.4937757,
                    48.7070042,
                    48.7978209,
                    49.0554742,
                    50.9768814,
                    48.6889024,
                    50.0651529,
                    47.6310259,
                    50.3205766,
                    48.7068721,
                    48.6936061,
                    50.0708719,
                    50.0165306,
                    50.5296067,
                    50.0500944,
                    50.1380557,
                    49.5663183,
                    48.618917,
                    50.7903789,
                    49.7649148,
                    59.3892583,
                    60.0308381,
                    60.7603913,
                    59.2483905,
                    61.0063465,
                    58.8757553,
                    59.5037764,
                    59.8591523,
                    60.9612823,
                    59.5351837,
                    59.4758605,
                    59.9734998,
                    58.8383117,
                    59.9479423,
                    59.1269212,
                    51.0901649,
                    49.9352454,
                    51.3655754,
                    50.8311818,
                    51.6593332,
                    50.4242134,
                    50.9945626,
                    51.3091524,
                    51.0952211,
                    50.8677905,
                    50.453455,
                    51.1954419,
                    50.1701949,
                    51.6951644,
                    51.830932,
                    42.8214424,
                    42.1152296,
                    42.058966,
                    42.5650962,
                    42.8916007,
                    43.203825,
                    43.8484083,
                    42.9849159,
                    43.2504665,
                    44.6602467,
                    48.7946446,
                    49.0189345,
                    51.5823759,
                    50.3876058,
                    50.0929703,
                    53.7361398,
                    51.9594977,
                    51.2748592,
                    52.2461454,
                    51.3634856,
                    52.0340142,
                    51.8497035,
                    57.2044698,
                    56.5586946,
                    57.4918141,
                    56.9993792,
                    57.4425463,
                    57.0273052,
                    56.9324606,
                    57.4679066,
                    57.4606031,
                    57.3805743,
                    56.9820688,
                    57.1025975,
                    56.8542719,
                    57.2539276,
                    56.8560234,
                    56.5926877,
                    57.3177781,
                    43.3055248,
                    43.1688611,
                    43.5096646,
                    43.2257841,
                    43.3204196,
                    55.5551233,
                    52.544879,
                    51.5230393,
                    55.9609167,
                    57.8468636,
                    56.1513108,
                    56.1208145,
                    56.5847888,
                    53.920693,
                    52.2864036,
                    57.7756595,
                    54.8968931,
                    54.1107238,
                    53.0842668,
                    51.6563983,
                    55.9405334,
                    54.557162,
                    52.7565808,
                    57.9430504,
                    56.7928178,
                    53.1369095,
                    52.2102538,
                    43.6819137,
                    43.6281516,
                    43.4845464,
                    43.5578075,
                    43.7589602,
                    43.4839358,
                    43.3981585,
                    43.5671525,
                    54.3866518,
                    54.6513372,
                    54.6588378,
                    54.770638,
                    54.5915455,
                    54.9600185,
                    54.7074702,
                    54.9453423,
                    54.5692156,
                    54.4646036,
                    55.0316524,
                    54.6313814,
                    54.4084705,
                    54.9516574,
                    54.8625126,
                    54.4430986,
                    54.7311437,
                    54.9439286,
                    54.6772897,
                    55.0449714,
                    55.0809336,
                    54.6244751,
                    46.0875083,
                    45.3930912,
                    46.3083344,
                    55.1773714,
                    55.0956803,
                    55.2130096,
                    55.1971758,
                    53.7521926,
                    55.0301833,
                    54.5059848,
                    54.0790111,
                    54.0347201,
                    54.7959473,
                    54.8862447,
                    53.8700828,
                    55.0177123,
                    54.9689785,
                    54.3191471,
                    54.4824939,
                    55.0943144,
                    54.0566016,
                    54.409922,
                    54.097296,
                    54.7236477,
                    54.7446445,
                    52.9302415,
                    53.1830375,
                    53.036908,
                    43.7732525,
                    43.4437731,
                    44.0838442,
                    44.2269425,
                    64.5378417,
                    64.9543539,
                    62.2059817,
                    64.5889398,
                    61.518881,
                    62.9127626,
                    60.9794025,
                    61.7891264,
                    61.5757191,
                    61.8058821,
                    63.7437572,
                    61.703367,
                    62.0787293,
                    56.0786281,
                    54.4220968,
                    55.6693513,
                    54.2859263,
                    53.5210919,
                    55.3910651,
                    54.0059999,
                    54.6674492,
                    56.2127383,
                    53.6865289,
                    53.7125695,
                    53.794315,
                    53.5988055,
                    54.6055,
                    53.8604265,
                    54.2351735,
                    56.0622131,
                    52.759313,
                    55.2764707,
                    55.7202694,
                    58.8415239,
                    56.2284817,
                    58.4032152,
                    58.6035264,
                    58.5559424,
                    59.340056,
                    58.3034832,
                    60.6290609,
                    56.5243844,
                    59.3955383,
                    57.5597284,
                    58.6698913,
                    58.5389776,
                    58.7311574,
                    57.584196,
                    56.2532741,
                    57.1097477,
                    57.3040326,
                    67.4974082,
                    63.8615274,
                    62.5965137,
                    66.0367316,
                    62.3579068,
                    65.148584,
                    63.5989841,
                    61.6686617,
                    65.994147,
                    63.5565514,
                    58.4733277,
                    57.4424559,
                    58.3828191,
                    58.8269323,
                    57.768,
                    57.8807152,
                    58.3265441,
                    57.4543369,
                    58.2943349,
                    59.0784867,
                    58.753421,
                    58.3760542,
                    44.8679655,
                    44.8950433,
                    44.4584006,
                    45.0012149,
                    44.7651876,
                    44.5630007,
                    44.6344864,
                    45.3605121,
                    46.71157,
                    45.4641703,
                    45.0401604,
                    45.4333007,
                    44.9344404,
                    44.8877025,
                    44.6354363,
                    45.1038699,
                    44.7235026,
                    46.0515432,
                    45.2603626,
                    43.5854551,
                    45.2610949,
                    45.615923,
                    45.8546345,
                    44.1105335,
                    45.2227359,
                    44.4122963,
                    54.3473075,
                    56.253907,
                    56.2098468,
                    55.9054121,
                    55.9576784,
                    69.4031364,
                    58.4485261,
                    56.2529035,
                    55.9617752,
                    56.1131564,
                    67.4666901,
                    56.2374037,
                    56.2051282,
                    58.6032644,
                    56.0093879,
                    58.221681,
                    53.7104586,
                    56.0113799,
                    69.3489978,
                    56.1202647,
                    55.3141969,
                    55.8131263,
                    55.5389739,
                    44.4164605,
                    44.6764304,
                    46.1059307,
                    44.7514769,
                    45.057202,
                    45.7092306,
                    45.190629,
                    45.3562627,
                    45.9537576,
                    45.1341997,
                    44.9482948,
                    45.029058,
                    44.8504679,
                    45.0318393,
                    45.4288991,
                    44.4953612,
                    56.262114,
                    56.290809,
                    55.4443883,
                    54.9368539,
                    55.2153947,
                    55.0650077,
                    56.0870344,
                    55.2280246,
                    55.2087637,
                    52.1268464,
                    52.3380202,
                    51.7303637,
                    51.6604083,
                    51.6597148,
                    51.2119324,
                    51.5681314,
                    51.1918927,
                    52.0917728,
                    51.8786014,
                    59.4734797,
                    59.4445408,
                    59.9005958,
                    60.0191278,
                    60.7130801,
                    60.6296236,
                    59.565237,
                    59.3766119,
                    60.950855,
                    59.3740435,
                    59.4742862,
                    59.8754216,
                    59.6215133,
                    59.9075226,
                    60.7320936,
                    58.7374031,
                    59.3493847,
                    60.044862,
                    59.7043309,
                    60.1100135,
                    59.7726848,
                    59.5132022,
                    60.9127549,
                    60.3660209,
                    61.0330896,
                    61.1111282,
                    60.1446932,
                    59.1178185,
                    59.8772884,
                    60.1401739,
                    59.6272904,
                    59.5407098,
                    59.9443714,
                    52.4874097,
                    53.2577411,
                    52.6152411,
                    52.4004179,
                    53.0156117,
                    52.610249,
                    52.0442648,
                    53.24048,
                    59.5681332,
                    62.7805882,
                    55.8623156,
                    55.9738571,
                    56.6343662,
                    56.3334036,
                    54.8465544,
                    53.8770022,
                    54.0391072,
                    54.4248207,
                    54.0581967,
                    54.1809332,
                    54.6310583,
                    55.7540471,
                    55.5276918,
                    55.796389,
                    55.4595766,
                    55.4255379,
                    55.343369,
                    55.551725,
                    56.0356499,
                    55.3071519,
                    56.3359513,
                    55.6190582,
                    55.8703276,
                    55.6240869,
                    56.3477457,
                    55.9385999,
                    55.4363283,
                    55.7443143,
                    56.741786,
                    55.3830113,
                    55.599803,
                    54.762456,
                    55.7297089,
                    55.9741665,
                    55.9062267,
                    54.853337,
                    56.3425605,
                    55.102814,
                    55.9161773,
                    55.6597925,
                    56.105426,
                    55.8317203,
                    56.4409979,
                    55.5978959,
                    55.5754955,
                    55.5792277,
                    55.7078257,
                    56.0328881,
                    55.8713214,
                    54.9652077,
                    55.5778163,
                    55.676499,
                    55.5069259,
                    55.9105782,
                    55.386185,
                    55.8686133,
                    55.6789455,
                    54.8541006,
                    55.8151421,
                    55.7807244,
                    56.4158326,
                    55.4389322,
                    54.8705984,
                    56.0103638,
                    54.8324412,
                    55.5495132,
                    55.7582621,
                    55.6632776,
                    55.7014744,
                    56.3062548,
                    54.9226466,
                    56.185102,
                    55.810648,
                    54.886274,
                    56.7308564,
                    55.9590588,
                    55.888657,
                    56.2516982,
                    56.010005,
                    55.1508011,
                    55.5777427,
                    55.9233801,
                    55.8780241,
                    55.7847291,
                    55.7170877,
                    56.2890516,
                    67.5677761,
                    69.2491311,
                    69.4003584,
                    69.4132852,
                    67.1567974,
                    67.6150424,
                    67.5661417,
                    68.8786028,
                    67.9386153,
                    69.007721,
                    68.1422058,
                    68.0510344,
                    67.373084,
                    69.1989583,
                    69.0766801,
                    69.1921409,
                    67.6379672,
                    55.3945814,
                    56.495036,
                    56.1020828,
                    56.3565458,
                    57.8559204,
                    56.2169751,
                    55.989943,
                    55.3207727,
                    56.1307769,
                    56.6449218,
                    56.2376047,
                    56.6404286,
                    55.8205915,
                    56.1432084,
                    55.4296181,
                    55.0326225,
                    56.0262359,
                    55.543811,
                    56.3240627,
                    55.9797564,
                    54.8675792,
                    55.5967718,
                    54.9228268,
                    56.7889794,
                    55.5201515,
                    57.4612572,
                    56.7651262,
                    57.6764293,
                    58.3840197,
                    57.9823766,
                    58.5213846,
                    58.8458379,
                    58.3910296,
                    58.5973723,
                    58.1201281,
                    57.990737,
                    57.145108,
                    59.1248394,
                    55.35146,
                    54.7582156,
                    55.6692421,
                    54.6267603,
                    53.7343189,
                    55.1945666,
                    55.4685094,
                    54.366055,
                    55.028191,
                    54.9945576,
                    55.2146167,
                    55.2251631,
                    54.2206476,
                    55.0906867,
                    54.9096002,
                    55.0598155,
                    55.5689323,
                    54.9848566,
                    56.9160511,
                    55.8703415,
                    53.6778906,
                    53.6523728,
                    52.7881277,
                    51.4649189,
                    51.4783857,
                    51.4037617,
                    51.1964202,
                    51.7875092,
                    51.2294282,
                    51.1633736,
                    52.426685,
                    51.036838,
                    53.4438496,
                    52.5054851,
                    52.4284558,
                    52.4002192,
                    53.2788438,
                    52.97454,
                    52.9671298,
                    52.9640996,
                    53.2726916,
                    53.1960836,
                    53.1855463,
                    53.1130888,
                    53.5300905,
                    53.7137496,
                    53.1753314,
                    52.4697595,
                    53.9271974,
                    53.0761357,
                    59.1613221,
                    59.4079923,
                    58.0797571,
                    58.3742532,
                    58.5626082,
                    58.8371721,
                    58.469685,
                    59.0512783,
                    60.3901321,
                    58.0822065,
                    59.0167925,
                    57.4283296,
                    58.0995875,
                    57.9336725,
                    57.2889515,
                    57.7180034,
                    57.8852686,
                    58.0102583,
                    59.6482998,
                    59.4277573,
                    56.7781501,
                    60.4011933,
                    58.7842834,
                    56.5160768,
                    58.2974596,
                    44.1622031,
                    43.3501675,
                    43.1111742,
                    43.1164904,
                    44.5539457,
                    45.9308483,
                    45.4780092,
                    42.8239372,
                    43.1280578,
                    44.5901175,
                    43.7971818,
                    42.9706317,
                    56.332208,
                    58.7432429,
                    57.826974,
                    56.0201973,
                    57.029807,
                    56.3408431,
                    56.710725,
                    57.3451528,
                    57.8145817,
                    57.7765219,
                    57.8194415,
                    56.3374813,
                    57.0637952,
                    56.2908554,
                    47.1121589,
                    47.2676314,
                    47.1383299,
                    48.1769737,
                    47.5165338,
                    48.0448904,
                    48.3350706,
                    48.0435487,
                    46.8495958,
                    48.3205326,
                    47.5773717,
                    47.8831311,
                    48.9260077,
                    48.3511807,
                    47.411919,
                    47.757773,
                    46.7038963,
                    47.2224566,
                    46.4752095,
                    47.5177337,
                    47.2094917,
                    47.6477448,
                    47.7085287,
                    54.9373475,
                    53.9246659,
                    54.2297402,
                    54.0376572,
                    54.7256164,
                    53.7067584,
                    54.6254445,
                    54.3508885,
                    53.823543,
                    55.1291721,
                    54.4070719,
                    54.0287312,
                    53.4011981,
                    53.2210298,
                    52.7972914,
                    53.0994565,
                    53.1640488,
                    53.3800848,
                    53.6498299,
                    53.1950306,
                    53.1558674,
                    53.5205348,
                    52.928961,
                    59.9391313,
                    51.938831,
                    51.8736062,
                    52.0224231,
                    51.5388697,
                    52.0459865,
                    51.3508505,
                    51.4993591,
                    51.023541,
                    50.9598317,
                    51.7133337,
                    50.455199,
                    52.3094237,
                    52.0159921,
                    52.2616271,
                    51.533557,
                    52.4951572,
                    52.1147391,
                    51.4854003,
                    50.8974378,
                    46.713152,
                    47.3255783,
                    46.6324545,
                    45.2270954,
                    48.6236334,
                    46.6526899,
                    53.5867839,
                    49.238866,
                    50.6730577,
                    47.7620108,
                    49.0815774,
                    47.0408423,
                    46.9591631,
                    57.8475571,
                    56.694632,
                    57.3384177,
                    57.0052277,
                    56.9095924,
                    56.7764795,
                    57.3763758,
                    56.9758903,
                    58.0465803,
                    58.3643685,
                    58.8622073,
                    59.9351707,
                    56.7048206,
                    56.8385216,
                    56.8102931,
                    60.6944496,
                    57.6838362,
                    56.414962,
                    56.8465034,
                    59.7665925,
                    58.7051762,
                    57.4299433,
                    59.7636635,
                    58.348651,
                    56.612387,
                    58.2826013,
                    58.6348516,
                    56.4370039,
                    57.49131,
                    56.6544959,
                    57.910126,
                    58.0748272,
                    58.6309267,
                    59.0538977,
                    57.2472567,
                    56.9080085,
                    56.4956952,
                    56.7986319,
                    57.3717477,
                    60.1533109,
                    59.6047724,
                    56.9918901,
                    56.9076193,
                    56.5005715,
                    58.0434672,
                    57.0122687,
                    58.0393524,
                    44.6167013,
                    43.0417684,
                    43.1755152,
                    43.1937529,
                    43.020588,
                    43.1567628,
                    43.7471342,
                    55.6057916,
                    55.2116983,
                    55.5525228,
                    55.2682105,
                    54.146457,
                    54.9136959,
                    55.1950257,
                    54.5837795,
                    54.406244,
                    53.9449558,
                    54.9441093,
                    55.1199661,
                    54.782635,
                    55.8308821,
                    55.0564732,
                    45.0989782,
                    44.7816067,
                    44.1485694,
                    44.0446186,
                    44.1320568,
                    44.4032668,
                    45.3684296,
                    45.7181751,
                    43.9052044,
                    44.1054107,
                    44.2087273,
                    45.1297323,
                    44.6226031,
                    44.7544552,
                    45.4932733,
                    43.9617097,
                    44.041091,
                    45.328659,
                    45.044516,
                    51.8422192,
                    52.6506335,
                    52.5924489,
                    52.8912389,
                    53.4436216,
                    52.6538833,
                    52.7213154,
                    51.9767841,
                    56.5232864,
                    54.8598642,
                    54.9014619,
                    56.0912567,
                    54.4062891,
                    54.974891,
                    54.5363495,
                    54.9641538,
                    55.7567107,
                    55.299053,
                    55.8466651,
                    55.7521699,
                    55.7943584,
                    56.1861392,
                    55.4042867,
                    54.5967034,
                    55.7150413,
                    55.895169,
                    55.7270698,
                    55.7434619,
                    55.6313609,
                    54.4281461,
                    54.936516,
                    55.3699139,
                    56.6506724,
                    57.7860089,
                    55.8339056,
                    57.8855767,
                    58.6582598,
                    57.568302,
                    56.2566492,
                    56.1760868,
                    57.2579478,
                    57.360194,
                    56.8733213,
                    56.7275204,
                    58.0571446,
                    57.0265168,
                    57.1221304,
                    56.2232566,
                    57.1456744,
                    56.262881,
                    56.514876,
                    56.8586059,
                    57.04133,
                    56.5012188,
                    57.8787314,
                    56.9907085,
                    57.561869,
                    58.3114253,
                    56.6031285,
                    60.732895,
                    56.4845804,
                    54.5083349,
                    53.8114179,
                    53.7701014,
                    54.0820349,
                    54.3542315,
                    53.9678944,
                    53.1464766,
                    53.9698378,
                    53.9319555,
                    53.9417551,
                    54.0109075,
                    53.7096415,
                    53.9338874,
                    54.1343585,
                    54.1920559,
                    53.9730452,
                    54.0984438,
                    54.0020652,
                    54.4795484,
                    51.178452,
                    51.7191047,
                    52.1449619,
                    51.2844502,
                    51.5346393,
                    56.5027463,
                    56.1104858,
                    58.2017299,
                    57.1529744,
                    56.6547289,
                    57.0518149,
                    58.1359233,
                    56.852738,
                    56.2659916,
                    56.4427774,
                    56.4615767,
                    53.6533992,
                    54.2167926,
                    53.8549647,
                    54.1447956,
                    53.958964,
                    54.3079415,
                    50.2344147,
                    46.8185743,
                    47.5353379,
                    50.5498936,
                    53.1460657,
                    48.9664966,
                    48.4647258,
                    52.6516647,
                    53.7223325,
                    53.1008083,
                    54.0002888,
                    53.8259342,
                    63.7121099,
                    62.2639527,
                    61.2536939,
                    61.6392863,
                    61.0318712,
                    61.0882676,
                    60.9396698,
                    62.1454701,
                    61.7422169,
                    60.7585833,
                    62.1342888,
                    61.3706913,
                    61.2541083,
                    60.1296954,
                    61.0023984,
                    61.3123568,
                    54.9906527,
                    54.9406399,
                    53.8760961,
                    56.0487158,
                    54.7554548,
                    55.1714905,
                    55.4852323,
                    53.0536197,
                    55.8868784,
                    54.7521438,
                    55.116665,
                    54.8903147,
                    55.3386053,
                    55.7061276,
                    53.4072153,
                    55.0456457,
                    55.0709557,
                    56.0536895,
                    55.763154,
                    54.3692764,
                    55.0405288,
                    54.9907827,
                    56.0851495,
                    54.8178249,
                    54.0843745,
                    54.9260812,
                    54.9818567,
                    55.1602624,
                    54.448927,
                    54.854662,
                    43.2916774,
                    43.3180145,
                    43.3519142,
                    43.2046547,
                    43.120175,
                    43.1488691,
                    54.8397989,
                    55.507,
                    55.8406025,
                    56.111923,
                    56.1094977,
                    55.8650213,
                    56.1438298,
                    55.4962415,
                    55.9406974,
                    64.7313924,
                    68.0584191,
                    69.7016661,
                    58.6094283,
                    67.5502451,
                    63.7517616,
                    60.7276196,
                    62.536232,
                    56.6599953,
                    63.2828955,
                    60.3758006,
                    61.4843503,
                    67.4582218,
                    58.9586859,
                    66.4071765,
                    62.0281405,
                    64.4457594,
                    66.6592841,
                    63.7940552,
                    65.5377966,
                    66.0839433,
                    63.2018039,
                    66.5492077,
                    64.9118803,
                    57.3091058,
                    58.1860098,
                    58.3620228,
                    57.7881684,
                    56.7360544,
                    58.5062879,
                    57.2051315,
                    58.0485495,
                    57.8674993,
                    57.5224249,
                    57.6215477
                  ],
                  "lon": [
                    39.190289,
                    40.1006606,
                    85.9603235,
                    82.7793606,
                    83.7798064,
                    84.9839604,
                    85.2138453,
                    81.4643358,
                    84.9315081,
                    82.1872547,
                    81.3545053,
                    83.9311069,
                    81.2078695,
                    78.6459232,
                    78.5729775,
                    128.4739471,
                    127.527198,
                    129.4391813,
                    127.265787,
                    129.4112492,
                    128.1219729,
                    123.9437205,
                    124.7468904,
                    128.1219846,
                    127.7005458,
                    40.5169606,
                    42.1032789,
                    38.9636966,
                    47.1003015,
                    46.633242,
                    44.2532273,
                    40.3360076,
                    40.8208143,
                    40.2062947,
                    38.0805031,
                    39.8180934,
                    46.920441,
                    42.8996973,
                    48.0559236,
                    46.1906462,
                    45.7368019,
                    48.07333,
                    47.8502476,
                    47.2525345,
                    53.9220144,
                    58.3110998,
                    54.1113129,
                    58.4100419,
                    55.5582214,
                    55.9553186,
                    55.0312373,
                    54.8524765,
                    56.0438751,
                    55.7970197,
                    57.9614547,
                    55.9282838,
                    54.2483061,
                    53.4655972,
                    55.9245224,
                    58.6663783,
                    55.9317089,
                    53.6950623,
                    55.9578468,
                    59.4125461,
                    54.929907,
                    38.6880342,
                    36.5856652,
                    38.4005083,
                    38.0998772,
                    35.6663877,
                    37.5347759,
                    37.1896436,
                    37.8775484,
                    37.8350182,
                    36.4887648,
                    36.8877889,
                    34.3652146,
                    34.3551812,
                    33.7302579,
                    31.7360399,
                    34.9888727,
                    32.233911,
                    32.8468129,
                    31.9357991,
                    33.4744058,
                    34.4918415,
                    34.1059172,
                    32.760403,
                    32.3938878,
                    33.7660547,
                    32.6757629,
                    34.4159238,
                    105.8673219,
                    106.5230319,
                    103.286699,
                    106.4533516,
                    109.3361505,
                    107.5842223,
                    38.7111123,
                    40.4084376,
                    42.2687398,
                    42.6926111,
                    40.6579929,
                    40.9955183,
                    38.7034257,
                    38.8635701,
                    41.3170576,
                    39.391336,
                    39.6247398,
                    40.6124108,
                    39.956551,
                    41.6340046,
                    42.0231362,
                    39.4508075,
                    39.1734526,
                    40.3321855,
                    40.0179653,
                    38.5839667,
                    40.8562939,
                    40.4525692,
                    39.6680539,
                    44.5170339,
                    44.7462538,
                    44.8270085,
                    44.7858202,
                    43.5306303,
                    45.3844202,
                    43.1330872,
                    44.8030699,
                    44.5630857,
                    45.1992692,
                    43.2401512,
                    45.4731658,
                    42.6666439,
                    46.8804277,
                    45.20914,
                    42.7360402,
                    42.8541163,
                    42.0288513,
                    43.6648641,
                    35.9377058,
                    37.7890586,
                    46.3054414,
                    39.8355662,
                    36.4495137,
                    40.2485362,
                    40.3441148,
                    38.3748782,
                    46.4814116,
                    45.4576137,
                    40.1114187,
                    42.7589506,
                    36.4425478,
                    40.2000298,
                    37.9090497,
                    40.0318256,
                    40.5590801,
                    42.1008334,
                    40.5976923,
                    39.1969229,
                    41.0162014,
                    39.5184909,
                    39.2162843,
                    41.6173404,
                    39.0407746,
                    40.136874,
                    42.2472726,
                    39.6226965,
                    39.0190454,
                    40.8074182,
                    47.1165263,
                    48.1939354,
                    48.2907452,
                    47.8710051,
                    47.6367066,
                    46.8729636,
                    46.7233699,
                    47.5047181,
                    46.5851292,
                    45.6499523,
                    132.9217207,
                    131.0540102,
                    116.6379549,
                    116.5234779,
                    118.0323936,
                    119.7660867,
                    116.5852383,
                    108.846681,
                    117.7117842,
                    110.4590898,
                    113.4994,
                    116.0334461,
                    41.9132201,
                    40.1228906,
                    42.1375625,
                    40.9728272,
                    42.168914,
                    40.3776851,
                    41.0931657,
                    41.9608002,
                    41.5122672,
                    41.2808565,
                    43.1683321,
                    41.7298834,
                    40.5353874,
                    41.1054432,
                    41.3800939,
                    42.0458099,
                    43.1110401,
                    44.9094582,
                    44.8131207,
                    44.5901963,
                    44.7645779,
                    45.0476331,
                    98.6643699,
                    103.888543,
                    104.1487532,
                    97.8205348,
                    114.1866287,
                    101.6340035,
                    101.1702926,
                    104.114275,
                    102.0491772,
                    104.2807466,
                    108.1109412,
                    99.0314056,
                    102.18015,
                    103.3364093,
                    103.7187545,
                    98.0030145,
                    100.5780603,
                    103.6388109,
                    102.7415734,
                    105.7757343,
                    103.0901268,
                    104.0973294,
                    43.5345036,
                    44.0517314,
                    43.60713,
                    43.8575925,
                    44.0102409,
                    44.1402161,
                    42.9213582,
                    43.5865792,
                    20.6418091,
                    19.9140572,
                    21.0501388,
                    20.6039767,
                    22.1942445,
                    20.4753652,
                    20.5073241,
                    22.4928745,
                    20.1690153,
                    19.9453482,
                    22.0324064,
                    22.5713736,
                    22.0134438,
                    20.2277424,
                    21.0998067,
                    21.0085269,
                    19.9981926,
                    20.1514295,
                    20.1357595,
                    21.6742367,
                    21.8886106,
                    21.7969062,
                    41.935537,
                    47.3432602,
                    44.2702088,
                    36.6566951,
                    36.677629,
                    36.4926251,
                    36.5952722,
                    34.7386592,
                    36.7394903,
                    36.2516245,
                    34.3076201,
                    35.780768,
                    35.9274842,
                    37.1168701,
                    34.4385915,
                    36.4633603,
                    35.8872168,
                    35.2816918,
                    34.9872239,
                    36.6121639,
                    35.9621646,
                    34.0189631,
                    35.3443568,
                    37.1671,
                    35.2424346,
                    158.4057632,
                    158.3883548,
                    158.6559254,
                    41.9143472,
                    41.7415142,
                    41.9711046,
                    42.0466704,
                    34.7799462,
                    34.5949263,
                    34.2682122,
                    30.6016832,
                    30.1996116,
                    34.4568489,
                    32.9725519,
                    34.3596434,
                    31.4640557,
                    36.5329941,
                    34.3126982,
                    30.6916998,
                    32.3499386,
                    86.0201278,
                    86.3037373,
                    86.2744459,
                    85.9475985,
                    87.2771636,
                    86.0467781,
                    86.6366116,
                    86.1797324,
                    87.7454924,
                    88.0702754,
                    87.8055646,
                    87.2142745,
                    87.3371272,
                    86.2809208,
                    86.7183577,
                    85.8030733,
                    85.6207182,
                    87.8476546,
                    85.6152619,
                    84.8886399,
                    50.8460699,
                    51.0614855,
                    51.1331606,
                    49.6679304,
                    50.0316848,
                    52.2414437,
                    48.3475597,
                    47.2612445,
                    50.6782739,
                    48.9638417,
                    49.93575,
                    52.1894564,
                    48.8927723,
                    50.1669249,
                    48.9590272,
                    51.2833642,
                    50.0058097,
                    47.8478737,
                    64.061034,
                    57.3165402,
                    50.8732125,
                    60.1152961,
                    50.0719503,
                    57.2239777,
                    53.876293,
                    50.8358151,
                    57.5569423,
                    53.7014239,
                    41.5306822,
                    41.1594201,
                    42.3654013,
                    44.3184927,
                    40.927,
                    43.8014197,
                    44.757494,
                    40.5723598,
                    43.8780948,
                    42.2878423,
                    42.6884958,
                    45.4062414,
                    38.1618157,
                    37.3163282,
                    39.7299824,
                    41.1324168,
                    39.8781494,
                    38.0790852,
                    39.1354738,
                    40.6918389,
                    38.2763895,
                    39.458949,
                    38.9759647,
                    40.5727951,
                    37.9855795,
                    40.5913245,
                    40.7245341,
                    41.0475175,
                    37.7686135,
                    38.1704875,
                    38.1259774,
                    39.7231548,
                    37.4454412,
                    38.9351837,
                    40.1260267,
                    39.0824904,
                    39.6929577,
                    39.5320258,
                    93.4358377,
                    90.4794397,
                    89.5299336,
                    94.9020967,
                    92.3800687,
                    86.1907218,
                    92.1651083,
                    93.532273,
                    94.7091491,
                    94.5888103,
                    86.5812794,
                    96.067267,
                    95.7051096,
                    99.1797962,
                    92.8524806,
                    92.5037872,
                    91.6872907,
                    90.4168775,
                    88.2009846,
                    93.3354121,
                    89.8333918,
                    94.3282601,
                    89.1801044,
                    34.0444797,
                    34.4100624,
                    33.6910012,
                    33.8752176,
                    34.5999029,
                    34.3883372,
                    33.367634,
                    36.4674513,
                    33.7921939,
                    33.6033383,
                    34.1001151,
                    35.0901474,
                    34.9762034,
                    35.3824259,
                    35.825165,
                    34.166308,
                    62.9387011,
                    62.5800359,
                    65.3161963,
                    64.4203722,
                    67.2451705,
                    67.8873408,
                    63.6297182,
                    63.2901272,
                    62.7478548,
                    35.0739038,
                    35.3516867,
                    36.1925603,
                    35.6572224,
                    35.2612491,
                    36.2755133,
                    34.6802597,
                    35.2720915,
                    35.8538706,
                    36.8910945,
                    33.845688,
                    29.4923355,
                    32.3520756,
                    30.6456718,
                    28.7328336,
                    28.5709314,
                    30.1282473,
                    28.2231659,
                    29.1308372,
                    28.6112444,
                    32.0624947,
                    30.981364,
                    30.3934125,
                    30.5121008,
                    33.5521022,
                    29.8465776,
                    31.2484801,
                    30.4571456,
                    30.7874571,
                    32.3141203,
                    30.7988557,
                    34.1772776,
                    34.1567664,
                    28.6135772,
                    30.1587851,
                    28.8725865,
                    30.2095918,
                    28.0881475,
                    29.1291619,
                    32.5601559,
                    33.5072731,
                    30.877812,
                    31.0333365,
                    39.9331142,
                    39.1456184,
                    38.5289342,
                    38.9205032,
                    39.143536,
                    39.5947883,
                    39.726401,
                    39.9670973,
                    150.8084956,
                    148.1540281,
                    48.3715083,
                    48.0170245,
                    47.8999706,
                    46.546675,
                    46.2411232,
                    44.3696566,
                    43.9191539,
                    43.7845011,
                    44.9490466,
                    45.1862632,
                    43.2161099,
                    37.620405,
                    37.065143,
                    37.938283,
                    38.4389742,
                    38.264145,
                    36.185694,
                    37.7061984,
                    35.9585112,
                    38.7027953,
                    36.5251837,
                    36.9856793,
                    37.1245043,
                    37.8440276,
                    37.526672,
                    37.5101021,
                    37.7664984,
                    38.8498479,
                    37.1757223,
                    39.0358317,
                    38.1224298,
                    38.8850978,
                    36.8554029,
                    37.9207539,
                    36.8601454,
                    38.1904392,
                    36.7240032,
                    38.7531002,
                    37.8545415,
                    37.8631156,
                    38.140838,
                    37.3295266,
                    38.2320307,
                    37.0393709,
                    36.6951995,
                    38.9207723,
                    38.9578093,
                    37.4614035,
                    38.200599,
                    39.0260266,
                    37.9033507,
                    37.898125,
                    36.024043,
                    37.7363579,
                    36.734484,
                    38.4622104,
                    37.263686,
                    38.5599196,
                    38.9869822,
                    38.6596983,
                    38.1733534,
                    37.5703482,
                    37.2182749,
                    37.8471403,
                    37.6210346,
                    38.2728914,
                    37.8618553,
                    39.8656147,
                    36.1959206,
                    38.1502661,
                    37.4033859,
                    36.977631,
                    38.175624,
                    38.078228,
                    37.5276003,
                    38.0410235,
                    37.4303702,
                    37.9396017,
                    38.379245,
                    37.4533252,
                    39.5445712,
                    37.9783707,
                    38.7806752,
                    38.4447045,
                    38.2192563,
                    37.4831799,
                    33.4067929,
                    33.315341,
                    32.4501496,
                    30.7984312,
                    32.4143218,
                    33.663735,
                    30.4741941,
                    33.0262299,
                    32.9359719,
                    33.0685865,
                    33.2669407,
                    39.5077846,
                    32.4975636,
                    33.4508591,
                    33.4177759,
                    33.2383502,
                    53.0069565,
                    43.8408141,
                    43.5758423,
                    43.5135442,
                    44.0646481,
                    45.7761957,
                    43.1596417,
                    43.2718859,
                    42.1678834,
                    43.0626185,
                    43.4723104,
                    43.4599416,
                    43.3872492,
                    45.032337,
                    44.1664198,
                    42.5125538,
                    44.4933807,
                    45.035771,
                    42.1887089,
                    44.0053913,
                    43.0995042,
                    43.8013992,
                    44.5448369,
                    43.3448089,
                    44.4902885,
                    45.4813231,
                    45.7833293,
                    43.242077,
                    46.6129009,
                    33.9175929,
                    33.2369436,
                    31.2755394,
                    32.2247401,
                    33.2901557,
                    35.8143898,
                    30.309351,
                    31.3554897,
                    31.1787499,
                    31.6866241,
                    78.3464506,
                    83.1070605,
                    84.3906889,
                    83.2951244,
                    78.0422967,
                    80.2829495,
                    78.3242048,
                    77.2973368,
                    82.9211489,
                    82.6937181,
                    75.9739914,
                    84.4104118,
                    83.3724521,
                    80.9592508,
                    71.2816284,
                    74.5653644,
                    71.3503426,
                    73.3674517,
                    74.3649194,
                    72.1954747,
                    53.6472483,
                    52.4326853,
                    52.2624877,
                    58.4436875,
                    57.3612636,
                    57.583163,
                    58.3018192,
                    55.1018828,
                    58.4752777,
                    54.9896726,
                    53.1542745,
                    59.874344,
                    36.0076833,
                    35.1415009,
                    37.6039506,
                    36.5038579,
                    36.5749105,
                    37.0437146,
                    36.0696427,
                    43.4183212,
                    45.7026142,
                    45.1689907,
                    44.0469717,
                    46.605092,
                    43.6730217,
                    46.0799857,
                    45.0348625,
                    44.2122414,
                    43.1859073,
                    45.6910796,
                    57.5763459,
                    56.8039427,
                    54.6581309,
                    58.3231716,
                    57.8520572,
                    57.554533,
                    56.4130737,
                    57.6471028,
                    57.0535682,
                    55.7479936,
                    54.6572508,
                    56.9438656,
                    57.8086825,
                    55.3356084,
                    55.4688668,
                    55.3872469,
                    54.7161091,
                    56.2342034,
                    56.771009,
                    56.6837872,
                    54.1477965,
                    56.4799933,
                    56.1507138,
                    56.0763049,
                    57.8193615,
                    133.2696209,
                    132.1596175,
                    132.3480082,
                    131.8823937,
                    135.5662716,
                    133.7316907,
                    133.4186199,
                    132.8927361,
                    133.1264567,
                    132.8157288,
                    131.9518229,
                    132.4110196,
                    30.5508641,
                    27.8264809,
                    29.9629389,
                    29.9239983,
                    29.3433083,
                    30.1527573,
                    28.6717519,
                    28.3437593,
                    27.622259,
                    29.5436626,
                    28.3317198,
                    29.3668055,
                    27.9236214,
                    28.4724326,
                    39.4232555,
                    39.8756872,
                    39.7507179,
                    40.8033529,
                    42.1984951,
                    39.9484672,
                    39.945891,
                    40.1265822,
                    40.312837,
                    40.2689583,
                    41.0967445,
                    40.0781298,
                    40.3984087,
                    41.8309225,
                    40.1042098,
                    39.9363697,
                    41.727594,
                    39.718803,
                    41.5410415,
                    40.8114167,
                    38.9350989,
                    42.0931505,
                    40.2159846,
                    41.3913211,
                    40.0227745,
                    39.0091481,
                    39.74654,
                    39.5134398,
                    40.0522274,
                    39.7358609,
                    41.9117422,
                    39.5492421,
                    40.1745338,
                    40.3763426,
                    41.7181803,
                    49.4945176,
                    50.6343776,
                    51.1637392,
                    49.9477382,
                    48.670762,
                    51.3438605,
                    52.1235156,
                    50.1069518,
                    48.4744629,
                    49.3894028,
                    49.8673269,
                    30.3159004,
                    43.4999221,
                    45.0003247,
                    47.7827765,
                    43.1839757,
                    47.3873595,
                    48.2762226,
                    44.4710435,
                    45.695044,
                    46.9712016,
                    46.7400339,
                    48.1413153,
                    45.3851877,
                    48.7972223,
                    43.7842248,
                    46.034257,
                    48.1045771,
                    47.2023118,
                    46.126722,
                    142.1578559,
                    142.5265804,
                    142.7945071,
                    142.799445,
                    147.8796323,
                    142.7803205,
                    141.8630725,
                    142.9412411,
                    143.1008333,
                    156.1282211,
                    142.0615837,
                    142.0692639,
                    142.041688,
                    142.737976,
                    61.6693817,
                    60.8343125,
                    61.8947443,
                    61.4581156,
                    60.8180907,
                    62.0463679,
                    59.9517653,
                    60.5650383,
                    60.5560164,
                    59.8265235,
                    60.8103945,
                    60.0798618,
                    60.079138,
                    60.6054911,
                    61.3380029,
                    60.4245069,
                    63.057675,
                    61.9188674,
                    62.7119766,
                    60.0011703,
                    59.4839155,
                    60.0624051,
                    60.1934525,
                    60.0408764,
                    57.7636637,
                    59.7645766,
                    59.7981565,
                    59.1137316,
                    60.2183429,
                    59.2953035,
                    59.9812853,
                    60.7025418,
                    59.8520344,
                    60.5944825,
                    60.0956714,
                    59.942926,
                    60.2365298,
                    59.9071591,
                    61.3833842,
                    59.9525245,
                    60.5753882,
                    60.4771018,
                    62.0358093,
                    60.8190003,
                    65.274217,
                    63.7320757,
                    63.6981973,
                    33.525355,
                    44.2199715,
                    44.2955775,
                    44.5338707,
                    44.6819182,
                    44.1549483,
                    44.6569607,
                    31.1856206,
                    34.2951663,
                    34.9950502,
                    31.5062809,
                    33.2833222,
                    33.3023162,
                    32.401252,
                    33.1749867,
                    32.4398039,
                    32.8480258,
                    31.0794806,
                    33.2336988,
                    32.045251,
                    34.2778793,
                    32.6902302,
                    43.4306455,
                    44.1650339,
                    43.4739851,
                    42.8588653,
                    43.0306461,
                    43.8841877,
                    41.708702,
                    42.8970206,
                    42.7168721,
                    42.973135,
                    43.138408,
                    42.0288443,
                    41.9476723,
                    44.9865347,
                    41.2153996,
                    43.6342865,
                    43.0661553,
                    42.8565714,
                    41.9689655,
                    41.4617687,
                    42.7286445,
                    41.5101237,
                    40.5104443,
                    41.8115478,
                    41.874285,
                    41.452264,
                    42.2529799,
                    52.9943775,
                    53.0745527,
                    52.2970467,
                    49.877067,
                    53.2458065,
                    49.0303882,
                    52.7895849,
                    48.2901209,
                    52.0543794,
                    52.0062972,
                    48.5010954,
                    48.7446846,
                    49.1114975,
                    50.8970238,
                    49.5499838,
                    52.4431906,
                    51.4129016,
                    52.3143347,
                    53.1003968,
                    52.3959165,
                    51.8144669,
                    50.8049337,
                    48.8314533,
                    50.6285784,
                    32.2620163,
                    36.6904983,
                    32.9389741,
                    34.0537771,
                    37.2567558,
                    34.5404016,
                    32.0805315,
                    34.5825515,
                    37.7819693,
                    37.6119436,
                    37.3556605,
                    36.8012716,
                    37.1126156,
                    34.1676009,
                    35.4667605,
                    32.7767459,
                    33.1115372,
                    34.3291002,
                    34.9336396,
                    35.9116761,
                    34.9602344,
                    31.6355466,
                    35.0167348,
                    86.1765257,
                    79.5677821,
                    82.9025829,
                    84.8809926,
                    77.604122,
                    84.9481582,
                    37.0478067,
                    36.1382247,
                    38.1225152,
                    37.826724,
                    38.2642236,
                    38.3371824,
                    38.0921657,
                    38.5380808,
                    37.9220351,
                    37.7020148,
                    38.2914024,
                    37.2862352,
                    37.6316141,
                    36.4807419,
                    37.6153842,
                    38.1763201,
                    36.2474142,
                    37.5176288,
                    37.6896048,
                    90.5985129,
                    94.4376882,
                    93.9173396,
                    91.5788609,
                    92.9199675,
                    66.5513613,
                    69.4795776,
                    68.2538558,
                    65.5344099,
                    66.3122992,
                    53.9873096,
                    52.6635038,
                    53.2114896,
                    54.193374,
                    52.2137886,
                    53.8037657,
                    47.1181134,
                    49.6262585,
                    46.3533459,
                    48.3910789,
                    48.7768269,
                    48.3748487,
                    136.8792444,
                    134.2550718,
                    134.7553856,
                    137.0079408,
                    140.7111367,
                    140.285174,
                    135.0598942,
                    90.0885686,
                    91.4436721,
                    91.4122454,
                    90.2594446,
                    91.3260229,
                    66.6772226,
                    74.4829794,
                    75.1807763,
                    72.179409,
                    76.1025878,
                    72.6164079,
                    76.5696184,
                    65.3946047,
                    75.5941517,
                    72.8365617,
                    77.4584094,
                    63.5667222,
                    73.3961587,
                    64.8038508,
                    69.0184798,
                    63.3365484,
                    57.2783953,
                    58.8051698,
                    59.2169852,
                    60.2318886,
                    61.3243477,
                    59.6725549,
                    60.2358881,
                    60.6478408,
                    60.7421663,
                    58.1983648,
                    61.6179185,
                    61.4034576,
                    59.4385778,
                    60.5563781,
                    58.9791437,
                    60.1077572,
                    57.548478,
                    59.6097202,
                    60.7076198,
                    60.8151894,
                    59.0288975,
                    57.6900155,
                    60.7324914,
                    58.4464194,
                    61.5586831,
                    58.152805,
                    60.3773121,
                    61.4008078,
                    61.2581158,
                    58.4226698,
                    45.8723105,
                    45.698291,
                    46.1035645,
                    46.0889364,
                    45.539276,
                    45.9009629,
                    46.5721997,
                    47.4918273,
                    48.2577735,
                    47.7142942,
                    47.4791113,
                    47.4729349,
                    47.2489782,
                    46.4182681,
                    46.2020896,
                    177.5015421,
                    166.4388172,
                    170.2999022,
                    125.3817188,
                    133.390735,
                    121.627284,
                    114.9548255,
                    113.9667728,
                    124.7202403,
                    118.3242437,
                    120.4060878,
                    129.1482392,
                    153.7069425,
                    126.2875462,
                    112.3061555,
                    129.7325887,
                    76.4713274,
                    66.3883009,
                    74.4948635,
                    72.5182736,
                    76.6809681,
                    75.4510581,
                    66.6085318,
                    77.7610236,
                    39.8546444,
                    40.1795067,
                    40.686841,
                    38.4544224,
                    38.8543617,
                    39.1208434,
                    39.4378622,
                    38.8584119,
                    39.5369627,
                    38.3020044,
                    39.8977411
                  ],
                  "type": "scattermapbox"
                }
              ],
              "layout": {
                "mapbox": {
                  "style": "open-street-map"
                },
                "template": {
                  "data": {
                    "bar": [
                      {
                        "error_x": {
                          "color": "#2a3f5f"
                        },
                        "error_y": {
                          "color": "#2a3f5f"
                        },
                        "marker": {
                          "line": {
                            "color": "#E5ECF6",
                            "width": 0.5
                          },
                          "pattern": {
                            "fillmode": "overlay",
                            "size": 10,
                            "solidity": 0.2
                          }
                        },
                        "type": "bar"
                      }
                    ],
                    "barpolar": [
                      {
                        "marker": {
                          "line": {
                            "color": "#E5ECF6",
                            "width": 0.5
                          },
                          "pattern": {
                            "fillmode": "overlay",
                            "size": 10,
                            "solidity": 0.2
                          }
                        },
                        "type": "barpolar"
                      }
                    ],
                    "carpet": [
                      {
                        "aaxis": {
                          "endlinecolor": "#2a3f5f",
                          "gridcolor": "white",
                          "linecolor": "white",
                          "minorgridcolor": "white",
                          "startlinecolor": "#2a3f5f"
                        },
                        "baxis": {
                          "endlinecolor": "#2a3f5f",
                          "gridcolor": "white",
                          "linecolor": "white",
                          "minorgridcolor": "white",
                          "startlinecolor": "#2a3f5f"
                        },
                        "type": "carpet"
                      }
                    ],
                    "choropleth": [
                      {
                        "colorbar": {
                          "outlinewidth": 0,
                          "ticks": ""
                        },
                        "type": "choropleth"
                      }
                    ],
                    "contour": [
                      {
                        "colorbar": {
                          "outlinewidth": 0,
                          "ticks": ""
                        },
                        "colorscale": [
                          [
                            0,
                            "#0d0887"
                          ],
                          [
                            0.1111111111111111,
                            "#46039f"
                          ],
                          [
                            0.2222222222222222,
                            "#7201a8"
                          ],
                          [
                            0.3333333333333333,
                            "#9c179e"
                          ],
                          [
                            0.4444444444444444,
                            "#bd3786"
                          ],
                          [
                            0.5555555555555556,
                            "#d8576b"
                          ],
                          [
                            0.6666666666666666,
                            "#ed7953"
                          ],
                          [
                            0.7777777777777778,
                            "#fb9f3a"
                          ],
                          [
                            0.8888888888888888,
                            "#fdca26"
                          ],
                          [
                            1,
                            "#f0f921"
                          ]
                        ],
                        "type": "contour"
                      }
                    ],
                    "contourcarpet": [
                      {
                        "colorbar": {
                          "outlinewidth": 0,
                          "ticks": ""
                        },
                        "type": "contourcarpet"
                      }
                    ],
                    "heatmap": [
                      {
                        "colorbar": {
                          "outlinewidth": 0,
                          "ticks": ""
                        },
                        "colorscale": [
                          [
                            0,
                            "#0d0887"
                          ],
                          [
                            0.1111111111111111,
                            "#46039f"
                          ],
                          [
                            0.2222222222222222,
                            "#7201a8"
                          ],
                          [
                            0.3333333333333333,
                            "#9c179e"
                          ],
                          [
                            0.4444444444444444,
                            "#bd3786"
                          ],
                          [
                            0.5555555555555556,
                            "#d8576b"
                          ],
                          [
                            0.6666666666666666,
                            "#ed7953"
                          ],
                          [
                            0.7777777777777778,
                            "#fb9f3a"
                          ],
                          [
                            0.8888888888888888,
                            "#fdca26"
                          ],
                          [
                            1,
                            "#f0f921"
                          ]
                        ],
                        "type": "heatmap"
                      }
                    ],
                    "heatmapgl": [
                      {
                        "colorbar": {
                          "outlinewidth": 0,
                          "ticks": ""
                        },
                        "colorscale": [
                          [
                            0,
                            "#0d0887"
                          ],
                          [
                            0.1111111111111111,
                            "#46039f"
                          ],
                          [
                            0.2222222222222222,
                            "#7201a8"
                          ],
                          [
                            0.3333333333333333,
                            "#9c179e"
                          ],
                          [
                            0.4444444444444444,
                            "#bd3786"
                          ],
                          [
                            0.5555555555555556,
                            "#d8576b"
                          ],
                          [
                            0.6666666666666666,
                            "#ed7953"
                          ],
                          [
                            0.7777777777777778,
                            "#fb9f3a"
                          ],
                          [
                            0.8888888888888888,
                            "#fdca26"
                          ],
                          [
                            1,
                            "#f0f921"
                          ]
                        ],
                        "type": "heatmapgl"
                      }
                    ],
                    "histogram": [
                      {
                        "marker": {
                          "pattern": {
                            "fillmode": "overlay",
                            "size": 10,
                            "solidity": 0.2
                          }
                        },
                        "type": "histogram"
                      }
                    ],
                    "histogram2d": [
                      {
                        "colorbar": {
                          "outlinewidth": 0,
                          "ticks": ""
                        },
                        "colorscale": [
                          [
                            0,
                            "#0d0887"
                          ],
                          [
                            0.1111111111111111,
                            "#46039f"
                          ],
                          [
                            0.2222222222222222,
                            "#7201a8"
                          ],
                          [
                            0.3333333333333333,
                            "#9c179e"
                          ],
                          [
                            0.4444444444444444,
                            "#bd3786"
                          ],
                          [
                            0.5555555555555556,
                            "#d8576b"
                          ],
                          [
                            0.6666666666666666,
                            "#ed7953"
                          ],
                          [
                            0.7777777777777778,
                            "#fb9f3a"
                          ],
                          [
                            0.8888888888888888,
                            "#fdca26"
                          ],
                          [
                            1,
                            "#f0f921"
                          ]
                        ],
                        "type": "histogram2d"
                      }
                    ],
                    "histogram2dcontour": [
                      {
                        "colorbar": {
                          "outlinewidth": 0,
                          "ticks": ""
                        },
                        "colorscale": [
                          [
                            0,
                            "#0d0887"
                          ],
                          [
                            0.1111111111111111,
                            "#46039f"
                          ],
                          [
                            0.2222222222222222,
                            "#7201a8"
                          ],
                          [
                            0.3333333333333333,
                            "#9c179e"
                          ],
                          [
                            0.4444444444444444,
                            "#bd3786"
                          ],
                          [
                            0.5555555555555556,
                            "#d8576b"
                          ],
                          [
                            0.6666666666666666,
                            "#ed7953"
                          ],
                          [
                            0.7777777777777778,
                            "#fb9f3a"
                          ],
                          [
                            0.8888888888888888,
                            "#fdca26"
                          ],
                          [
                            1,
                            "#f0f921"
                          ]
                        ],
                        "type": "histogram2dcontour"
                      }
                    ],
                    "mesh3d": [
                      {
                        "colorbar": {
                          "outlinewidth": 0,
                          "ticks": ""
                        },
                        "type": "mesh3d"
                      }
                    ],
                    "parcoords": [
                      {
                        "line": {
                          "colorbar": {
                            "outlinewidth": 0,
                            "ticks": ""
                          }
                        },
                        "type": "parcoords"
                      }
                    ],
                    "pie": [
                      {
                        "automargin": true,
                        "type": "pie"
                      }
                    ],
                    "scatter": [
                      {
                        "fillpattern": {
                          "fillmode": "overlay",
                          "size": 10,
                          "solidity": 0.2
                        },
                        "type": "scatter"
                      }
                    ],
                    "scatter3d": [
                      {
                        "line": {
                          "colorbar": {
                            "outlinewidth": 0,
                            "ticks": ""
                          }
                        },
                        "marker": {
                          "colorbar": {
                            "outlinewidth": 0,
                            "ticks": ""
                          }
                        },
                        "type": "scatter3d"
                      }
                    ],
                    "scattercarpet": [
                      {
                        "marker": {
                          "colorbar": {
                            "outlinewidth": 0,
                            "ticks": ""
                          }
                        },
                        "type": "scattercarpet"
                      }
                    ],
                    "scattergeo": [
                      {
                        "marker": {
                          "colorbar": {
                            "outlinewidth": 0,
                            "ticks": ""
                          }
                        },
                        "type": "scattergeo"
                      }
                    ],
                    "scattergl": [
                      {
                        "marker": {
                          "colorbar": {
                            "outlinewidth": 0,
                            "ticks": ""
                          }
                        },
                        "type": "scattergl"
                      }
                    ],
                    "scattermapbox": [
                      {
                        "marker": {
                          "colorbar": {
                            "outlinewidth": 0,
                            "ticks": ""
                          }
                        },
                        "type": "scattermapbox"
                      }
                    ],
                    "scatterpolar": [
                      {
                        "marker": {
                          "colorbar": {
                            "outlinewidth": 0,
                            "ticks": ""
                          }
                        },
                        "type": "scatterpolar"
                      }
                    ],
                    "scatterpolargl": [
                      {
                        "marker": {
                          "colorbar": {
                            "outlinewidth": 0,
                            "ticks": ""
                          }
                        },
                        "type": "scatterpolargl"
                      }
                    ],
                    "scatterternary": [
                      {
                        "marker": {
                          "colorbar": {
                            "outlinewidth": 0,
                            "ticks": ""
                          }
                        },
                        "type": "scatterternary"
                      }
                    ],
                    "surface": [
                      {
                        "colorbar": {
                          "outlinewidth": 0,
                          "ticks": ""
                        },
                        "colorscale": [
                          [
                            0,
                            "#0d0887"
                          ],
                          [
                            0.1111111111111111,
                            "#46039f"
                          ],
                          [
                            0.2222222222222222,
                            "#7201a8"
                          ],
                          [
                            0.3333333333333333,
                            "#9c179e"
                          ],
                          [
                            0.4444444444444444,
                            "#bd3786"
                          ],
                          [
                            0.5555555555555556,
                            "#d8576b"
                          ],
                          [
                            0.6666666666666666,
                            "#ed7953"
                          ],
                          [
                            0.7777777777777778,
                            "#fb9f3a"
                          ],
                          [
                            0.8888888888888888,
                            "#fdca26"
                          ],
                          [
                            1,
                            "#f0f921"
                          ]
                        ],
                        "type": "surface"
                      }
                    ],
                    "table": [
                      {
                        "cells": {
                          "fill": {
                            "color": "#EBF0F8"
                          },
                          "line": {
                            "color": "white"
                          }
                        },
                        "header": {
                          "fill": {
                            "color": "#C8D4E3"
                          },
                          "line": {
                            "color": "white"
                          }
                        },
                        "type": "table"
                      }
                    ]
                  },
                  "layout": {
                    "annotationdefaults": {
                      "arrowcolor": "#2a3f5f",
                      "arrowhead": 0,
                      "arrowwidth": 1
                    },
                    "autotypenumbers": "strict",
                    "coloraxis": {
                      "colorbar": {
                        "outlinewidth": 0,
                        "ticks": ""
                      }
                    },
                    "colorscale": {
                      "diverging": [
                        [
                          0,
                          "#8e0152"
                        ],
                        [
                          0.1,
                          "#c51b7d"
                        ],
                        [
                          0.2,
                          "#de77ae"
                        ],
                        [
                          0.3,
                          "#f1b6da"
                        ],
                        [
                          0.4,
                          "#fde0ef"
                        ],
                        [
                          0.5,
                          "#f7f7f7"
                        ],
                        [
                          0.6,
                          "#e6f5d0"
                        ],
                        [
                          0.7,
                          "#b8e186"
                        ],
                        [
                          0.8,
                          "#7fbc41"
                        ],
                        [
                          0.9,
                          "#4d9221"
                        ],
                        [
                          1,
                          "#276419"
                        ]
                      ],
                      "sequential": [
                        [
                          0,
                          "#0d0887"
                        ],
                        [
                          0.1111111111111111,
                          "#46039f"
                        ],
                        [
                          0.2222222222222222,
                          "#7201a8"
                        ],
                        [
                          0.3333333333333333,
                          "#9c179e"
                        ],
                        [
                          0.4444444444444444,
                          "#bd3786"
                        ],
                        [
                          0.5555555555555556,
                          "#d8576b"
                        ],
                        [
                          0.6666666666666666,
                          "#ed7953"
                        ],
                        [
                          0.7777777777777778,
                          "#fb9f3a"
                        ],
                        [
                          0.8888888888888888,
                          "#fdca26"
                        ],
                        [
                          1,
                          "#f0f921"
                        ]
                      ],
                      "sequentialminus": [
                        [
                          0,
                          "#0d0887"
                        ],
                        [
                          0.1111111111111111,
                          "#46039f"
                        ],
                        [
                          0.2222222222222222,
                          "#7201a8"
                        ],
                        [
                          0.3333333333333333,
                          "#9c179e"
                        ],
                        [
                          0.4444444444444444,
                          "#bd3786"
                        ],
                        [
                          0.5555555555555556,
                          "#d8576b"
                        ],
                        [
                          0.6666666666666666,
                          "#ed7953"
                        ],
                        [
                          0.7777777777777778,
                          "#fb9f3a"
                        ],
                        [
                          0.8888888888888888,
                          "#fdca26"
                        ],
                        [
                          1,
                          "#f0f921"
                        ]
                      ]
                    },
                    "colorway": [
                      "#636efa",
                      "#EF553B",
                      "#00cc96",
                      "#ab63fa",
                      "#FFA15A",
                      "#19d3f3",
                      "#FF6692",
                      "#B6E880",
                      "#FF97FF",
                      "#FECB52"
                    ],
                    "font": {
                      "color": "#2a3f5f"
                    },
                    "geo": {
                      "bgcolor": "white",
                      "lakecolor": "white",
                      "landcolor": "#E5ECF6",
                      "showlakes": true,
                      "showland": true,
                      "subunitcolor": "white"
                    },
                    "hoverlabel": {
                      "align": "left"
                    },
                    "hovermode": "closest",
                    "mapbox": {
                      "style": "light"
                    },
                    "paper_bgcolor": "white",
                    "plot_bgcolor": "#E5ECF6",
                    "polar": {
                      "angularaxis": {
                        "gridcolor": "white",
                        "linecolor": "white",
                        "ticks": ""
                      },
                      "bgcolor": "#E5ECF6",
                      "radialaxis": {
                        "gridcolor": "white",
                        "linecolor": "white",
                        "ticks": ""
                      }
                    },
                    "scene": {
                      "xaxis": {
                        "backgroundcolor": "#E5ECF6",
                        "gridcolor": "white",
                        "gridwidth": 2,
                        "linecolor": "white",
                        "showbackground": true,
                        "ticks": "",
                        "zerolinecolor": "white"
                      },
                      "yaxis": {
                        "backgroundcolor": "#E5ECF6",
                        "gridcolor": "white",
                        "gridwidth": 2,
                        "linecolor": "white",
                        "showbackground": true,
                        "ticks": "",
                        "zerolinecolor": "white"
                      },
                      "zaxis": {
                        "backgroundcolor": "#E5ECF6",
                        "gridcolor": "white",
                        "gridwidth": 2,
                        "linecolor": "white",
                        "showbackground": true,
                        "ticks": "",
                        "zerolinecolor": "white"
                      }
                    },
                    "shapedefaults": {
                      "line": {
                        "color": "#2a3f5f"
                      }
                    },
                    "ternary": {
                      "aaxis": {
                        "gridcolor": "white",
                        "linecolor": "white",
                        "ticks": ""
                      },
                      "baxis": {
                        "gridcolor": "white",
                        "linecolor": "white",
                        "ticks": ""
                      },
                      "bgcolor": "#E5ECF6",
                      "caxis": {
                        "gridcolor": "white",
                        "linecolor": "white",
                        "ticks": ""
                      }
                    },
                    "title": {
                      "x": 0.05
                    },
                    "xaxis": {
                      "automargin": true,
                      "gridcolor": "white",
                      "linecolor": "white",
                      "ticks": "",
                      "title": {
                        "standoff": 15
                      },
                      "zerolinecolor": "white",
                      "zerolinewidth": 2
                    },
                    "yaxis": {
                      "automargin": true,
                      "gridcolor": "white",
                      "linecolor": "white",
                      "ticks": "",
                      "title": {
                        "standoff": 15
                      },
                      "zerolinecolor": "white",
                      "zerolinewidth": 2
                    }
                  }
                }
              }
            }
          },
          "metadata": {},
          "output_type": "display_data"
        }
      ],
      "source": [
        "cities = pd.read_csv('https://raw.githubusercontent.com/hflabs/city/master/city.csv')\n",
        "#fig = go.Figure(go.Scattermapbox(lat=cities['geo_lat'], lon=cities['geo_lon']))\n",
        "#fig.update_layout(mapbox_style=\"open-street-map\")\n",
        "#fig.show()"
      ]
    },
    {
      "cell_type": "code",
      "execution_count": 18,
      "id": "4e863cf7",
      "metadata": {},
      "outputs": [
        {
          "name": "stdout",
          "output_type": "stream",
          "text": [
            "<class 'pandas.core.frame.DataFrame'>\n",
            "RangeIndex: 1117 entries, 0 to 1116\n",
            "Data columns (total 24 columns):\n",
            " #   Column            Non-Null Count  Dtype  \n",
            "---  ------            --------------  -----  \n",
            " 0   address           1117 non-null   object \n",
            " 1   postal_code       1116 non-null   float64\n",
            " 2   country           1117 non-null   object \n",
            " 3   federal_district  1117 non-null   object \n",
            " 4   region_type       1117 non-null   object \n",
            " 5   region            1117 non-null   object \n",
            " 6   area_type         612 non-null    object \n",
            " 7   area              612 non-null    object \n",
            " 8   city_type         1103 non-null   object \n",
            " 9   city              1103 non-null   object \n",
            " 10  settlement_type   2 non-null      object \n",
            " 11  settlement        2 non-null      object \n",
            " 12  kladr_id          1117 non-null   int64  \n",
            " 13  fias_id           1117 non-null   object \n",
            " 14  fias_level        1117 non-null   int64  \n",
            " 15  capital_marker    1117 non-null   int64  \n",
            " 16  okato             1117 non-null   int64  \n",
            " 17  oktmo             1117 non-null   int64  \n",
            " 18  tax_office        1117 non-null   int64  \n",
            " 19  timezone          1117 non-null   object \n",
            " 20  geo_lat           1117 non-null   float64\n",
            " 21  geo_lon           1117 non-null   float64\n",
            " 22  population        1117 non-null   int64  \n",
            " 23  foundation_year   1117 non-null   int64  \n",
            "dtypes: float64(3), int64(8), object(13)\n",
            "memory usage: 209.6+ KB\n"
          ]
        },
        {
          "data": {
            "text/plain": [
              "None"
            ]
          },
          "metadata": {},
          "output_type": "display_data"
        }
      ],
      "source": [
        "display(cities.info())"
      ]
    },
    {
      "cell_type": "markdown",
      "id": "b1ef156a-efcb-49ce-bb23-90763e7f35b2",
      "metadata": {
        "id": "b1ef156a-efcb-49ce-bb23-90763e7f35b2",
        "tags": []
      },
      "source": [
        "# Юнит 6. Предметный анализ"
      ]
    },
    {
      "cell_type": "markdown",
      "id": "b9cd50a0-992d-4988-8463-2b2b1c4629b4",
      "metadata": {
        "id": "b9cd50a0-992d-4988-8463-2b2b1c4629b4"
      },
      "source": [
        "1. Сколько вакансий имеет отношение к данным?\n",
        "\n",
        "Считаем, что вакансия имеет отношение к данным, если в её названии содержатся слова 'data' или 'данн'.\n",
        "\n",
        "*Подсказка: Обратите внимание, что названия вакансий могут быть написаны в любом регистре.* \n"
      ]
    },
    {
      "cell_type": "code",
      "execution_count": 58,
      "id": "54ab0e50-c0f1-47cc-a54b-bc5c8bc363f9",
      "metadata": {
        "id": "54ab0e50-c0f1-47cc-a54b-bc5c8bc363f9"
      },
      "outputs": [],
      "source": [
        "# текст запроса\n",
        "query_6_1 = f'''select\n",
        "                    --считаем  по id\n",
        "                    count(id)    \n",
        "                --из таблицы вакансий\n",
        "                from vacancies    \n",
        "                --фильтрация по вхождению строки в название вакансии\n",
        "                where name ilike '%data%' or name ilike '%данн%' \n",
        "             '''"
      ]
    },
    {
      "cell_type": "code",
      "execution_count": 63,
      "id": "9F1meAqsuUjd",
      "metadata": {
        "id": "9F1meAqsuUjd"
      },
      "outputs": [
        {
          "data": {
            "text/plain": [
              "'1771 вакансий имеют отношение к данным'"
            ]
          },
          "metadata": {},
          "output_type": "display_data"
        }
      ],
      "source": [
        "# результат запроса\n",
        "df_6_1 = pd.read_sql_query(query_6_1, connection)\n",
        "display(f'{df_6_1.iloc[0,0]} вакансий имеют отношение к данным')"
      ]
    },
    {
      "cell_type": "markdown",
      "id": "4dea20cb-a36b-474a-a0b9-e08e8e3857a5",
      "metadata": {
        "id": "4dea20cb-a36b-474a-a0b9-e08e8e3857a5"
      },
      "source": [
        "2. Сколько есть подходящих вакансий для начинающего дата-сайентиста? \n",
        "Будем считать вакансиями для дата-сайентистов такие, в названии которых есть хотя бы одно из следующих сочетаний:\n",
        "* 'data scientist'\n",
        "* 'data science'\n",
        "* 'исследователь данных'\n",
        "* 'ML' (здесь не нужно брать вакансии по HTML)\n",
        "* 'machine learning'\n",
        "* 'машинн%обучен%'\n",
        "\n",
        "** В следующих заданиях мы продолжим работать с вакансиями по этому условию.*\n",
        "\n",
        "Считаем вакансиями для специалистов уровня Junior следующие:\n",
        "* в названии есть слово 'junior' *или*\n",
        "* требуемый опыт — Нет опыта *или*\n",
        "* тип трудоустройства — Стажировка.\n",
        " "
      ]
    },
    {
      "cell_type": "code",
      "execution_count": 68,
      "id": "9c61b3c0-bb66-46c9-ae1e-81d3f5752b4a",
      "metadata": {
        "id": "9c61b3c0-bb66-46c9-ae1e-81d3f5752b4a"
      },
      "outputs": [],
      "source": [
        "# текст запроса\n",
        "query_6_2 = f'''select\n",
        "                    --считаем  по id\n",
        "                    count(id)    \n",
        "                --из таблицы вакансий\n",
        "                from vacancies    \n",
        "                --фильтрация по вхождению строки \n",
        "                --для дата-сайентистов\n",
        "                where (name ilike '%data scientist%'\n",
        "                    or name ilike '%data science%'\n",
        "                    or name ilike '%исследователь данных%'\n",
        "                    --исключаем вакансии по HTML\n",
        "                    or (name like '%ML%' and name not like '%HTML%')\n",
        "                    or name ilike '%machine learning%'\n",
        "                    or name ilike '%машинн%обучен%')\n",
        "                    --для специалистов уровня Junior\n",
        "                    and (name ilike '%junior%'\n",
        "                    or experience like 'Нет опыта'\n",
        "                    or employment like 'Стажировка')\n",
        "                    \n",
        "                \n",
        "             '''"
      ]
    },
    {
      "cell_type": "code",
      "execution_count": 69,
      "id": "ZNM-LLYuu1dj",
      "metadata": {
        "id": "ZNM-LLYuu1dj"
      },
      "outputs": [
        {
          "data": {
            "text/plain": [
              "'51 вакансий для начинающего дата-сайентиста'"
            ]
          },
          "metadata": {},
          "output_type": "display_data"
        }
      ],
      "source": [
        "# результат запроса\n",
        "df_6_2 = pd.read_sql_query(query_6_2, connection)\n",
        "display(f'{df_6_2.iloc[0,0]} вакансий для начинающего дата-сайентиста')"
      ]
    },
    {
      "cell_type": "markdown",
      "id": "eedceb80-c5ca-480e-b27a-278dfb8b4438",
      "metadata": {
        "id": "eedceb80-c5ca-480e-b27a-278dfb8b4438"
      },
      "source": [
        "3. Сколько есть вакансий для DS, в которых в качестве ключевого навыка указан SQL или postgres?\n",
        "\n",
        "** Критерии для отнесения вакансии к DS указаны в предыдущем задании.*"
      ]
    },
    {
      "cell_type": "code",
      "execution_count": 70,
      "id": "69621713-0cc5-4f1b-a1d7-bb144fa6148c",
      "metadata": {
        "id": "69621713-0cc5-4f1b-a1d7-bb144fa6148c"
      },
      "outputs": [],
      "source": [
        "# текст запроса\n",
        "query_6_3 = f'''select\n",
        "                    count(id)    \n",
        "                from vacancies    \n",
        "                --фильтрация по вхождению строки \n",
        "                --для дата-сайентистов\n",
        "                where (name ilike '%data scientist%'\n",
        "                    or name ilike '%data science%'\n",
        "                    or name ilike '%исследователь данных%'\n",
        "                    or (name like '%ML%' and name not like '%HTML%')\n",
        "                    or name ilike '%machine learning%'\n",
        "                    or name ilike '%машинн%обучен%')\n",
        "                    --по ключевым навыкам\n",
        "                    and key_skills is not null\n",
        "                    and (key_skills ilike '%sql%'\n",
        "                    or key_skills ilike '%postgres%')  \n",
        "             '''"
      ]
    },
    {
      "cell_type": "code",
      "execution_count": 71,
      "id": "alA8WEAAvGdf",
      "metadata": {
        "id": "alA8WEAAvGdf"
      },
      "outputs": [
        {
          "data": {
            "text/plain": [
              "'201 вакансий для DS, в которых в качестве ключевого навыка указан SQL или postgres'"
            ]
          },
          "metadata": {},
          "output_type": "display_data"
        }
      ],
      "source": [
        "# результат запроса\n",
        "df_6_3 = pd.read_sql_query(query_6_3, connection)\n",
        "display(f'{df_6_3.iloc[0,0]} вакансий для DS, в которых в качестве ключевого навыка указан SQL или postgres')"
      ]
    },
    {
      "cell_type": "markdown",
      "id": "1be1e9c6-37cf-4a5f-bfeb-04cab799dc80",
      "metadata": {
        "id": "1be1e9c6-37cf-4a5f-bfeb-04cab799dc80"
      },
      "source": [
        "4. Проверьте, насколько популярен Python в требованиях работодателей к DS.Для этого вычислите количество вакансий, в которых в качестве ключевого навыка указан Python.\n",
        "\n",
        "** Это можно сделать помощью запроса, аналогичного предыдущему.*"
      ]
    },
    {
      "cell_type": "code",
      "execution_count": 72,
      "id": "0036a355-9ccf-4564-8b01-73d8194297e7",
      "metadata": {
        "id": "0036a355-9ccf-4564-8b01-73d8194297e7"
      },
      "outputs": [],
      "source": [
        "# текст запроса\n",
        "query_6_4 = f'''select\n",
        "                    count(id)    \n",
        "                from vacancies    \n",
        "                --фильтрация по вхождению строки \n",
        "                --для дата-сайентистов\n",
        "                where (name ilike '%data scientist%'\n",
        "                    or name ilike '%data science%'\n",
        "                    or name ilike '%исследователь данных%'\n",
        "                    or (name like '%ML%' and name not like '%HTML%')\n",
        "                    or name ilike '%machine learning%'\n",
        "                    or name ilike '%машинн%обучен%')\n",
        "                    --по ключевым навыкам\n",
        "                    and key_skills is not null\n",
        "                    and key_skills ilike '%python%'\n",
        "             '''\n",
        "                    "
      ]
    },
    {
      "cell_type": "code",
      "execution_count": 73,
      "id": "1i-5WyucvQ6v",
      "metadata": {
        "id": "1i-5WyucvQ6v"
      },
      "outputs": [
        {
          "data": {
            "text/plain": [
              "'351 вакансий для DS, в которых в качестве ключевого навыка указан Python'"
            ]
          },
          "metadata": {},
          "output_type": "display_data"
        }
      ],
      "source": [
        "# результат запроса\n",
        "df_6_4 = pd.read_sql_query(query_6_4, connection)\n",
        "display(f'{df_6_4.iloc[0,0]} вакансий для DS, в которых в качестве ключевого навыка указан Python')"
      ]
    },
    {
      "cell_type": "markdown",
      "id": "ec3c8db7-fa21-4a41-a994-1af63742a642",
      "metadata": {
        "id": "ec3c8db7-fa21-4a41-a994-1af63742a642"
      },
      "source": [
        "5. Сколько ключевых навыков в среднем указывают в вакансиях для DS?\n",
        "Ответ округлите до двух знаков после точки-разделителя."
      ]
    },
    {
      "cell_type": "code",
      "execution_count": 80,
      "id": "949132bc-d5b6-4611-8218-0b9a504d74f4",
      "metadata": {
        "id": "949132bc-d5b6-4611-8218-0b9a504d74f4"
      },
      "outputs": [],
      "source": [
        "# текст запроса\n",
        "query_6_5 = f'''select\n",
        "                    --считаем среднее количесвто ключевых навыков\n",
        "                    avg(length(key_skills) - length(replace(key_skills, CHR(9), ''))+1)\n",
        "                from vacancies    \n",
        "                where name ilike '%data scientist%'\n",
        "                    or name ilike '%data science%'\n",
        "                    or name ilike '%исследователь данных%'\n",
        "                    or name like '%ML%' and name not like '%HTML%'\n",
        "                    or name ilike '%machine learning%'\n",
        "                    or name ilike '%машинн%обучен%'\n",
        "             '''"
      ]
    },
    {
      "cell_type": "code",
      "execution_count": 81,
      "id": "a3V24Tvmviqk",
      "metadata": {
        "id": "a3V24Tvmviqk"
      },
      "outputs": [
        {
          "data": {
            "text/plain": [
              "'Среднее количесвтво ключевых навыков:6.41'"
            ]
          },
          "metadata": {},
          "output_type": "display_data"
        }
      ],
      "source": [
        "# результат запроса\n",
        "df_6_5 = pd.read_sql_query(query_6_5, connection)\n",
        "display(f'Среднее количесвтво ключевых навыков:{round(df_6_5.iloc[0,0],2)}')"
      ]
    },
    {
      "cell_type": "markdown",
      "id": "1041c17a-ca8f-4543-a0ca-32778914fb00",
      "metadata": {
        "id": "1041c17a-ca8f-4543-a0ca-32778914fb00"
      },
      "source": [
        "6. Напишите запрос, позволяющий вычислить, какую зарплату для DS в **среднем** указывают для каждого типа требуемого опыта (уникальное значение из поля *experience*). \n",
        "\n",
        "При решении задачи примите во внимание следующее:\n",
        "1. Рассматриваем только вакансии, у которых заполнено хотя бы одно из двух полей с зарплатой.\n",
        "2. Если заполнены оба поля с зарплатой, то считаем зарплату по каждой вакансии как сумму двух полей, делённую на 2. Если заполнено только одно из полей, то его и считаем зарплатой по вакансии.\n",
        "3. Если в расчётах участвует null, в результате он тоже даст null (посмотрите, что возвращает запрос select 1 + null). Чтобы избежать этой ситуацию, мы воспользуемся функцией [coalesce](https://postgrespro.ru/docs/postgresql/9.5/functions-conditional#functions-coalesce-nvl-ifnull), которая заменит null на значение, которое мы передадим. Например, посмотрите, что возвращает запрос `select 1 + coalesce(null, 0)`\n",
        "\n",
        "Выясните, на какую зарплату в среднем может рассчитывать дата-сайентист с опытом работы от 3 до 6 лет. Результат округлите до целого числа. "
      ]
    },
    {
      "cell_type": "code",
      "execution_count": 82,
      "id": "6a743d39-5204-48d3-8271-b9f88e68d40e",
      "metadata": {
        "id": "6a743d39-5204-48d3-8271-b9f88e68d40e"
      },
      "outputs": [],
      "source": [
        "# текст запроса\n",
        "query_6_6 = f'''select\n",
        "                    --опыт\n",
        "                    experience,\n",
        "                    --считаем среднее значение ЗП\n",
        "                    ROUND(AVG(coalesce((salary_from + salary_to) / 2, salary_from, salary_to)), 0)    \n",
        "                from vacancies    \n",
        "                --фильтрация по вхождению строки \n",
        "                --для дата-сайентистов\n",
        "                where (name ilike '%data scientist%'\n",
        "                    or name ilike '%data science%'\n",
        "                    or name ilike '%исследователь данных%'\n",
        "                    or (name like '%ML%' and name not like '%HTML%')\n",
        "                    or name ilike '%machine learning%'\n",
        "                    or name ilike '%машинн%обучен%')\n",
        "                    -- заполнено хотя бы одно из двух полей с зарплатой\n",
        "                    and (salary_from is not null\n",
        "                    or salary_to is not null)\n",
        "                --группировка по опыту\n",
        "                group by experience\n",
        "             '''"
      ]
    },
    {
      "cell_type": "code",
      "execution_count": 83,
      "id": "aRIJ0mZEwU1_",
      "metadata": {
        "id": "aRIJ0mZEwU1_"
      },
      "outputs": [
        {
          "data": {
            "text/html": [
              "<div>\n",
              "<style scoped>\n",
              "    .dataframe tbody tr th:only-of-type {\n",
              "        vertical-align: middle;\n",
              "    }\n",
              "\n",
              "    .dataframe tbody tr th {\n",
              "        vertical-align: top;\n",
              "    }\n",
              "\n",
              "    .dataframe thead th {\n",
              "        text-align: right;\n",
              "    }\n",
              "</style>\n",
              "<table border=\"1\" class=\"dataframe\">\n",
              "  <thead>\n",
              "    <tr style=\"text-align: right;\">\n",
              "      <th></th>\n",
              "      <th>experience</th>\n",
              "      <th>round</th>\n",
              "    </tr>\n",
              "  </thead>\n",
              "  <tbody>\n",
              "    <tr>\n",
              "      <th>0</th>\n",
              "      <td>Нет опыта</td>\n",
              "      <td>74643.0</td>\n",
              "    </tr>\n",
              "    <tr>\n",
              "      <th>1</th>\n",
              "      <td>От 1 года до 3 лет</td>\n",
              "      <td>139675.0</td>\n",
              "    </tr>\n",
              "    <tr>\n",
              "      <th>2</th>\n",
              "      <td>От 3 до 6 лет</td>\n",
              "      <td>243115.0</td>\n",
              "    </tr>\n",
              "  </tbody>\n",
              "</table>\n",
              "</div>"
            ],
            "text/plain": [
              "           experience     round\n",
              "0           Нет опыта   74643.0\n",
              "1  От 1 года до 3 лет  139675.0\n",
              "2       От 3 до 6 лет  243115.0"
            ]
          },
          "metadata": {},
          "output_type": "display_data"
        }
      ],
      "source": [
        "# результат запроса\n",
        "df_6_6 = pd.read_sql_query(query_6_6, connection)\n",
        "display(df_6_6)"
      ]
    },
    {
      "cell_type": "markdown",
      "id": "6a7892b4-4113-4746-adce-18aa2844f18e",
      "metadata": {
        "id": "6a7892b4-4113-4746-adce-18aa2844f18e"
      },
      "source": [
        "***"
      ]
    },
    {
      "cell_type": "code",
      "execution_count": null,
      "id": "UjLWUptVwY1o",
      "metadata": {
        "id": "UjLWUptVwY1o"
      },
      "outputs": [],
      "source": [
        "# выводы по предметному анализу"
      ]
    },
    {
      "cell_type": "markdown",
      "id": "c0ED6fh7wiBT",
      "metadata": {
        "id": "c0ED6fh7wiBT"
      },
      "source": [
        "# Общий вывод по проекту"
      ]
    },
    {
      "cell_type": "code",
      "execution_count": null,
      "id": "h9B3BL-wwj18",
      "metadata": {
        "id": "h9B3BL-wwj18"
      },
      "outputs": [],
      "source": [
        "# подведем итог исследования, обобщите выводы\n",
        "# здесь можно (это будет плюсом) провести дополнительные исследования данных, сделать прогнозы, продумать варианты продолжения исследования"
      ]
    }
  ],
  "metadata": {
    "colab": {
      "collapsed_sections": [
        "8d62a9f3-f64e-4fe7-bdac-c4dffa16155e"
      ],
      "provenance": []
    },
    "kernelspec": {
      "display_name": "Python 3 (ipykernel)",
      "language": "python",
      "name": "python3"
    },
    "language_info": {
      "codemirror_mode": {
        "name": "ipython",
        "version": 3
      },
      "file_extension": ".py",
      "mimetype": "text/x-python",
      "name": "python",
      "nbconvert_exporter": "python",
      "pygments_lexer": "ipython3",
      "version": "3.10.12"
    }
  },
  "nbformat": 4,
  "nbformat_minor": 5
}
